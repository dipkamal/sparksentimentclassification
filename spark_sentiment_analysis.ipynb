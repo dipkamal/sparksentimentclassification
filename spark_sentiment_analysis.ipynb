{
  "nbformat": 4,
  "nbformat_minor": 0,
  "metadata": {
    "colab": {
      "name": "spark sentiment analysis.ipynb",
      "provenance": []
    },
    "kernelspec": {
      "name": "python3",
      "display_name": "Python 3"
    },
    "accelerator": "GPU"
  },
  "cells": [
    {
      "cell_type": "markdown",
      "metadata": {
        "id": "2a40fGzdOCd6"
      },
      "source": [
        ""
      ]
    },
    {
      "cell_type": "markdown",
      "metadata": {
        "id": "IFpYBdJ7Os0i"
      },
      "source": [
        "First, we use basic data science operations using pandas and numpy to explore the data. We import necessary libraries first."
      ]
    },
    {
      "cell_type": "code",
      "metadata": {
        "id": "4K8PuJ-whstY"
      },
      "source": [
        "import pandas as pd\n",
        "import numpy as np\n",
        "import matplotlib.pyplot as plt\n"
      ],
      "execution_count": null,
      "outputs": []
    },
    {
      "cell_type": "code",
      "metadata": {
        "id": "FdCEuweylRlN"
      },
      "source": [
        "\n",
        "!pip install -U -q PyDrive"
      ],
      "execution_count": null,
      "outputs": []
    },
    {
      "cell_type": "markdown",
      "metadata": {
        "id": "nj_JKoHwO7T8"
      },
      "source": [
        "Since our dataset is in google drive, we need to connect collab to google drive to access the data. Uploading dataset to collab was slow. Also, such folders are deleted when new session is resumed."
      ]
    },
    {
      "cell_type": "code",
      "metadata": {
        "id": "LqWZ8Q5Xl_aq"
      },
      "source": [
        "\n",
        "from pydrive.auth import GoogleAuth\n",
        "from pydrive.drive import GoogleDrive\n",
        "from google.colab import auth\n",
        "from oauth2client.client import GoogleCredentials"
      ],
      "execution_count": null,
      "outputs": []
    },
    {
      "cell_type": "code",
      "metadata": {
        "id": "wKSSS7hUqXm3"
      },
      "source": [
        "# Authenticate and create the PyDrive client.\n",
        "auth.authenticate_user()\n",
        "gauth = GoogleAuth()\n",
        "gauth.credentials = GoogleCredentials.get_application_default()\n",
        "drive = GoogleDrive(gauth)"
      ],
      "execution_count": null,
      "outputs": []
    },
    {
      "cell_type": "code",
      "metadata": {
        "id": "cL6kS1x2nYHq"
      },
      "source": [
        ""
      ],
      "execution_count": null,
      "outputs": []
    },
    {
      "cell_type": "code",
      "metadata": {
        "id": "FJIbLw0ft923"
      },
      "source": [
        "\n",
        "downloaded = drive.CreateFile({'id':\"1_IY06fo4FPwirTSbGWiGvAqoDeQjbqa0\"}) \n",
        "downloaded.GetContentFile('training.csv') "
      ],
      "execution_count": null,
      "outputs": []
    },
    {
      "cell_type": "markdown",
      "metadata": {
        "id": "lAbfeVVAPQDS"
      },
      "source": [
        "So, we have extracted the training data files. Now using panda, we read the csv file and assign column names since there is no header in the dataset. "
      ]
    },
    {
      "cell_type": "code",
      "metadata": {
        "id": "bzJsWG2QuAk1"
      },
      "source": [
        "cols = ['sentiment','id','date','query_string','user','text']\n",
        "\n",
        "df = pd.read_csv(\"/content/training.csv\",engine='python', header=None, names=cols) "
      ],
      "execution_count": null,
      "outputs": []
    },
    {
      "cell_type": "code",
      "metadata": {
        "id": "rFtqyOy_oibl",
        "colab": {
          "base_uri": "https://localhost:8080/",
          "height": 204
        },
        "outputId": "dae11994-18f5-4bc0-bde7-eda8a7aa3e90"
      },
      "source": [
        "df.head()"
      ],
      "execution_count": null,
      "outputs": [
        {
          "output_type": "execute_result",
          "data": {
            "text/html": [
              "<div>\n",
              "<style scoped>\n",
              "    .dataframe tbody tr th:only-of-type {\n",
              "        vertical-align: middle;\n",
              "    }\n",
              "\n",
              "    .dataframe tbody tr th {\n",
              "        vertical-align: top;\n",
              "    }\n",
              "\n",
              "    .dataframe thead th {\n",
              "        text-align: right;\n",
              "    }\n",
              "</style>\n",
              "<table border=\"1\" class=\"dataframe\">\n",
              "  <thead>\n",
              "    <tr style=\"text-align: right;\">\n",
              "      <th></th>\n",
              "      <th>sentiment</th>\n",
              "      <th>id</th>\n",
              "      <th>date</th>\n",
              "      <th>query_string</th>\n",
              "      <th>user</th>\n",
              "      <th>text</th>\n",
              "    </tr>\n",
              "  </thead>\n",
              "  <tbody>\n",
              "    <tr>\n",
              "      <th>0</th>\n",
              "      <td>0</td>\n",
              "      <td>1467810369</td>\n",
              "      <td>Mon Apr 06 22:19:45 PDT 2009</td>\n",
              "      <td>NO_QUERY</td>\n",
              "      <td>_TheSpecialOne_</td>\n",
              "      <td>@switchfoot http://twitpic.com/2y1zl - Awww, t...</td>\n",
              "    </tr>\n",
              "    <tr>\n",
              "      <th>1</th>\n",
              "      <td>0</td>\n",
              "      <td>1467810672</td>\n",
              "      <td>Mon Apr 06 22:19:49 PDT 2009</td>\n",
              "      <td>NO_QUERY</td>\n",
              "      <td>scotthamilton</td>\n",
              "      <td>is upset that he can't update his Facebook by ...</td>\n",
              "    </tr>\n",
              "    <tr>\n",
              "      <th>2</th>\n",
              "      <td>0</td>\n",
              "      <td>1467810917</td>\n",
              "      <td>Mon Apr 06 22:19:53 PDT 2009</td>\n",
              "      <td>NO_QUERY</td>\n",
              "      <td>mattycus</td>\n",
              "      <td>@Kenichan I dived many times for the ball. Man...</td>\n",
              "    </tr>\n",
              "    <tr>\n",
              "      <th>3</th>\n",
              "      <td>0</td>\n",
              "      <td>1467811184</td>\n",
              "      <td>Mon Apr 06 22:19:57 PDT 2009</td>\n",
              "      <td>NO_QUERY</td>\n",
              "      <td>ElleCTF</td>\n",
              "      <td>my whole body feels itchy and like its on fire</td>\n",
              "    </tr>\n",
              "    <tr>\n",
              "      <th>4</th>\n",
              "      <td>0</td>\n",
              "      <td>1467811193</td>\n",
              "      <td>Mon Apr 06 22:19:57 PDT 2009</td>\n",
              "      <td>NO_QUERY</td>\n",
              "      <td>Karoli</td>\n",
              "      <td>@nationwideclass no, it's not behaving at all....</td>\n",
              "    </tr>\n",
              "  </tbody>\n",
              "</table>\n",
              "</div>"
            ],
            "text/plain": [
              "   sentiment  ...                                               text\n",
              "0          0  ...  @switchfoot http://twitpic.com/2y1zl - Awww, t...\n",
              "1          0  ...  is upset that he can't update his Facebook by ...\n",
              "2          0  ...  @Kenichan I dived many times for the ball. Man...\n",
              "3          0  ...    my whole body feels itchy and like its on fire \n",
              "4          0  ...  @nationwideclass no, it's not behaving at all....\n",
              "\n",
              "[5 rows x 6 columns]"
            ]
          },
          "metadata": {
            "tags": []
          },
          "execution_count": 13
        }
      ]
    },
    {
      "cell_type": "code",
      "metadata": {
        "id": "LzLwnjZuoT0N",
        "colab": {
          "base_uri": "https://localhost:8080/",
          "height": 68
        },
        "outputId": "722a461f-f21e-486c-a21d-af6556550320"
      },
      "source": [
        "df.sentiment.value_counts()\n"
      ],
      "execution_count": null,
      "outputs": [
        {
          "output_type": "execute_result",
          "data": {
            "text/plain": [
              "4    800000\n",
              "0    800000\n",
              "Name: sentiment, dtype: int64"
            ]
          },
          "metadata": {
            "tags": []
          },
          "execution_count": 14
        }
      ]
    },
    {
      "cell_type": "markdown",
      "metadata": {
        "id": "ZLn2IRL-PdPS"
      },
      "source": [
        "We will be analysing the text of tweets so we drop the unrequired columns from the dataframe."
      ]
    },
    {
      "cell_type": "code",
      "metadata": {
        "id": "b0NBvLzbo1qr"
      },
      "source": [
        "df.drop(['id','date','query_string','user'],axis=1,inplace=True)"
      ],
      "execution_count": null,
      "outputs": []
    },
    {
      "cell_type": "markdown",
      "metadata": {
        "id": "CrS9IvvSPmgy"
      },
      "source": [
        "#Data preparation\n",
        "\n",
        "First thing we need to do is to prepare the data. We observe the length and type of the text data and conclude following transformation operations to prepare them before analysis.\n",
        "1. Removing HTML decoding in the text\n",
        "2. Mentions removal\n",
        "3. URL links removal\n",
        "4. UTF marks removal\n",
        "5. Hashtag removal"
      ]
    },
    {
      "cell_type": "code",
      "metadata": {
        "id": "jeUI1JhivcTk"
      },
      "source": [
        "\n",
        "df['pre_clean_len']=[len(t) for t in df.text]"
      ],
      "execution_count": null,
      "outputs": []
    },
    {
      "cell_type": "code",
      "metadata": {
        "id": "Vcuhbo_1vonc",
        "colab": {
          "base_uri": "https://localhost:8080/",
          "height": 119
        },
        "outputId": "603679e4-2023-4abc-eee1-f84393783320"
      },
      "source": [
        "from pprint import pprint\n",
        "data_dict = {\n",
        "    'sentiment':{\n",
        "        'type':df.sentiment.dtype,\n",
        "        'description':'sentiment class - 0:negative, 1:positive'\n",
        "    },\n",
        "    'text':{\n",
        "        'type':df.text.dtype,\n",
        "        'description':'tweet text'\n",
        "    },\n",
        "    'pre_clean_len':{\n",
        "        'type':df.pre_clean_len.dtype,\n",
        "        'description':'Length of the tweet before cleaning'\n",
        "    },\n",
        "    'dataset_shape':df.shape\n",
        "}\n",
        "pprint(data_dict)"
      ],
      "execution_count": null,
      "outputs": [
        {
          "output_type": "stream",
          "text": [
            "{'dataset_shape': (1600000, 3),\n",
            " 'pre_clean_len': {'description': 'Length of the tweet before cleaning',\n",
            "                   'type': dtype('int64')},\n",
            " 'sentiment': {'description': 'sentiment class - 0:negative, 1:positive',\n",
            "               'type': dtype('int64')},\n",
            " 'text': {'description': 'tweet text', 'type': dtype('O')}}\n"
          ],
          "name": "stdout"
        }
      ]
    },
    {
      "cell_type": "code",
      "metadata": {
        "id": "fQ4ksWBmwM2d",
        "colab": {
          "base_uri": "https://localhost:8080/",
          "height": 320
        },
        "outputId": "d14e8091-d6c7-4d72-a88b-fd366d63f9c0"
      },
      "source": [
        "#check the overall length of the strings with box plot\n",
        "fig, ax = plt.subplots(figsize=(5, 5))\n",
        "plt.boxplot(df.pre_clean_len)\n",
        "plt.show()"
      ],
      "execution_count": null,
      "outputs": [
        {
          "output_type": "display_data",
          "data": {
            "image/png": "[encoded data removed]",
            "text/plain": [
              "<Figure size 360x360 with 1 Axes>"
            ]
          },
          "metadata": {
            "tags": [],
            "needs_background": "light"
          }
        }
      ]
    },
    {
      "cell_type": "code",
      "metadata": {
        "id": "05l4F6CYwYS9",
        "colab": {
          "base_uri": "https://localhost:8080/",
          "height": 359
        },
        "outputId": "84bc4e19-bcc3-47b7-bda3-c258b9aae492"
      },
      "source": [
        "\n",
        "#check the tweets that are more than 140 char long\n",
        "df[df.pre_clean_len > 140].head(10)\n"
      ],
      "execution_count": null,
      "outputs": [
        {
          "output_type": "execute_result",
          "data": {
            "text/html": [
              "<div>\n",
              "<style scoped>\n",
              "    .dataframe tbody tr th:only-of-type {\n",
              "        vertical-align: middle;\n",
              "    }\n",
              "\n",
              "    .dataframe tbody tr th {\n",
              "        vertical-align: top;\n",
              "    }\n",
              "\n",
              "    .dataframe thead th {\n",
              "        text-align: right;\n",
              "    }\n",
              "</style>\n",
              "<table border=\"1\" class=\"dataframe\">\n",
              "  <thead>\n",
              "    <tr style=\"text-align: right;\">\n",
              "      <th></th>\n",
              "      <th>sentiment</th>\n",
              "      <th>text</th>\n",
              "      <th>pre_clean_len</th>\n",
              "    </tr>\n",
              "  </thead>\n",
              "  <tbody>\n",
              "    <tr>\n",
              "      <th>213</th>\n",
              "      <td>0</td>\n",
              "      <td>Awwh babs... you look so sad underneith that s...</td>\n",
              "      <td>142</td>\n",
              "    </tr>\n",
              "    <tr>\n",
              "      <th>279</th>\n",
              "      <td>0</td>\n",
              "      <td>Whinging. My client&amp;amp;boss don't understand ...</td>\n",
              "      <td>145</td>\n",
              "    </tr>\n",
              "    <tr>\n",
              "      <th>343</th>\n",
              "      <td>0</td>\n",
              "      <td>@TheLeagueSF Not Fun &amp;amp; Furious? The new ma...</td>\n",
              "      <td>145</td>\n",
              "    </tr>\n",
              "    <tr>\n",
              "      <th>400</th>\n",
              "      <td>0</td>\n",
              "      <td>#3 woke up and was having an accident - &amp;quot;...</td>\n",
              "      <td>144</td>\n",
              "    </tr>\n",
              "    <tr>\n",
              "      <th>464</th>\n",
              "      <td>0</td>\n",
              "      <td>My bathtub drain is fired: it haz 1 job 2 do, ...</td>\n",
              "      <td>146</td>\n",
              "    </tr>\n",
              "    <tr>\n",
              "      <th>492</th>\n",
              "      <td>0</td>\n",
              "      <td>pears &amp;amp; Brie, bottle of Cabernet, and &amp;quo...</td>\n",
              "      <td>150</td>\n",
              "    </tr>\n",
              "    <tr>\n",
              "      <th>747</th>\n",
              "      <td>0</td>\n",
              "      <td>Have an invite for &amp;quot;Healthy Dining&amp;quot; ...</td>\n",
              "      <td>141</td>\n",
              "    </tr>\n",
              "    <tr>\n",
              "      <th>957</th>\n",
              "      <td>0</td>\n",
              "      <td>Damnit I was really digging this season of Rea...</td>\n",
              "      <td>141</td>\n",
              "    </tr>\n",
              "    <tr>\n",
              "      <th>1064</th>\n",
              "      <td>0</td>\n",
              "      <td>Why do I keep looking...I know that what I rea...</td>\n",
              "      <td>141</td>\n",
              "    </tr>\n",
              "    <tr>\n",
              "      <th>1071</th>\n",
              "      <td>0</td>\n",
              "      <td>Used the term &amp;quot;Fail Whale&amp;quot; to a clie...</td>\n",
              "      <td>148</td>\n",
              "    </tr>\n",
              "  </tbody>\n",
              "</table>\n",
              "</div>"
            ],
            "text/plain": [
              "      sentiment  ... pre_clean_len\n",
              "213           0  ...           142\n",
              "279           0  ...           145\n",
              "343           0  ...           145\n",
              "400           0  ...           144\n",
              "464           0  ...           146\n",
              "492           0  ...           150\n",
              "747           0  ...           141\n",
              "957           0  ...           141\n",
              "1064          0  ...           141\n",
              "1071          0  ...           148\n",
              "\n",
              "[10 rows x 3 columns]"
            ]
          },
          "metadata": {
            "tags": []
          },
          "execution_count": 34
        }
      ]
    },
    {
      "cell_type": "code",
      "metadata": {
        "id": "eExrkTU0ySaw",
        "colab": {
          "base_uri": "https://localhost:8080/",
          "height": 34
        },
        "outputId": "c4c95d71-5396-4cc9-f353-4bf5c63d9dcb"
      },
      "source": [
        "!pip install beautifulsoup4"
      ],
      "execution_count": null,
      "outputs": [
        {
          "output_type": "stream",
          "text": [
            "Requirement already satisfied: beautifulsoup4 in /usr/local/lib/python3.6/dist-packages (4.6.3)\n"
          ],
          "name": "stdout"
        }
      ]
    },
    {
      "cell_type": "code",
      "metadata": {
        "id": "iPvhMpGewinO",
        "colab": {
          "base_uri": "https://localhost:8080/",
          "height": 187
        },
        "outputId": "3dfd3ebe-782d-4043-d562-f2391dbb3131"
      },
      "source": [
        "\n",
        "\n",
        "from bs4 import BeautifulSoup \n",
        "import re\n",
        "from nltk.tokenize import WordPunctTokenizer\n",
        "tok = WordPunctTokenizer()\n",
        "pat1 = r'@[A-Za-z0-9]+'\n",
        "pat2 = r'https?://[^ ]+'\n",
        "www_pat = r'www.[^ ]+'\n",
        "negations_dic = {\"isn't\":\"is not\", \"aren't\":\"are not\", \"wasn't\":\"was not\", \"weren't\":\"were not\",\n",
        "                \"haven't\":\"have not\",\"hasn't\":\"has not\",\"hadn't\":\"had not\",\"won't\":\"will not\",\n",
        "                \"wouldn't\":\"would not\", \"don't\":\"do not\", \"doesn't\":\"does not\",\"didn't\":\"did not\",\n",
        "                \"can't\":\"can not\",\"couldn't\":\"could not\",\"shouldn't\":\"should not\",\"mightn't\":\"might not\",\n",
        "                \"mustn't\":\"must not\"}\n",
        "neg_pattern = re.compile(r'\\b(' + '|'.join(negations_dic.keys()) + r')\\b')\n",
        "\n",
        "combined_pat = r'|'.join((pat1, pat2))\n",
        "def tweet_cleaner(text):\n",
        "    soup = BeautifulSoup(text, 'lxml')\n",
        "    souped = soup.get_text()\n",
        "    stripped = re.sub(combined_pat, '', souped)\n",
        "    try:\n",
        "        clean = stripped.decode(\"utf-8-sig\").replace(u\"\\ufffd\", \"?\")\n",
        "    except:\n",
        "        clean = stripped\n",
        "    clean = re.sub(www_pat, '', clean)\n",
        "    letters_only = re.sub(\"[^a-zA-Z]\", \" \", clean)\n",
        "    lower_case = letters_only.lower()\n",
        "    neg_handled = neg_pattern.sub(lambda x: negations_dic[x.group()], lower_case)\n",
        "    letters_only = re.sub(\"[^a-zA-Z]\", \" \", neg_handled)\n",
        "    # During the letters_only process two lines above, it has created unnecessay white spaces,\n",
        "    # I will tokenize and join together to remove unneccessary white spaces\n",
        "    words = [x for x  in tok.tokenize(letters_only) if len(x) > 1]\n",
        "    return (\" \".join(words)).strip()\n",
        "    \n",
        "testing = df.text[:10]\n",
        "test_result = []\n",
        "for t in testing:\n",
        "    test_result.append(tweet_cleaner(t))\n",
        "test_result\n"
      ],
      "execution_count": null,
      "outputs": [
        {
          "output_type": "execute_result",
          "data": {
            "text/plain": [
              "['awww that bummer you shoulda got david carr of third day to do it',\n",
              " 'is upset that he can update his facebook by texting it and might cry as result school today also blah',\n",
              " 'dived many times for the ball managed to save the rest go out of bounds',\n",
              " 'my whole body feels itchy and like its on fire',\n",
              " 'no it not behaving at all mad why am here because can see you all over there',\n",
              " 'not the whole crew',\n",
              " 'need hug',\n",
              " 'hey long time no see yes rains bit only bit lol fine thanks how you',\n",
              " 'nope they didn have it',\n",
              " 'que me muera']"
            ]
          },
          "metadata": {
            "tags": []
          },
          "execution_count": 35
        }
      ]
    },
    {
      "cell_type": "code",
      "metadata": {
        "id": "CkCZ3VWTH-tq",
        "colab": {
          "base_uri": "https://localhost:8080/",
          "height": 1000
        },
        "outputId": "d7b54de3-75f7-4941-eee9-0fa49b210b2a"
      },
      "source": [
        "nums=[0,1600000]\n",
        "print (\"Cleaning and parsing the tweets\\n\")\n",
        "clean_tweet_texts=[]\n",
        "for i in range(nums[0],nums[1]):\n",
        "  if((i+1)%10000 == 0):\n",
        "    print (\"Tweets %d of %d has been processed\" %(i+1, nums[1]))\n",
        "  clean_tweet_texts.append(tweet_cleaner(df['text'][i]))\n"
      ],
      "execution_count": null,
      "outputs": [
        {
          "output_type": "stream",
          "text": [
            "Cleaning and parsing the tweets\n",
            "\n",
            "Tweets 10000 of 1600000 has been processed\n",
            "Tweets 20000 of 1600000 has been processed\n",
            "Tweets 30000 of 1600000 has been processed\n",
            "Tweets 40000 of 1600000 has been processed\n",
            "Tweets 50000 of 1600000 has been processed\n",
            "Tweets 60000 of 1600000 has been processed\n",
            "Tweets 70000 of 1600000 has been processed\n",
            "Tweets 80000 of 1600000 has been processed\n",
            "Tweets 90000 of 1600000 has been processed\n",
            "Tweets 100000 of 1600000 has been processed\n",
            "Tweets 110000 of 1600000 has been processed\n",
            "Tweets 120000 of 1600000 has been processed\n",
            "Tweets 130000 of 1600000 has been processed\n",
            "Tweets 140000 of 1600000 has been processed\n",
            "Tweets 150000 of 1600000 has been processed\n",
            "Tweets 160000 of 1600000 has been processed\n",
            "Tweets 170000 of 1600000 has been processed\n",
            "Tweets 180000 of 1600000 has been processed\n",
            "Tweets 190000 of 1600000 has been processed\n",
            "Tweets 200000 of 1600000 has been processed\n",
            "Tweets 210000 of 1600000 has been processed\n",
            "Tweets 220000 of 1600000 has been processed\n",
            "Tweets 230000 of 1600000 has been processed\n",
            "Tweets 240000 of 1600000 has been processed\n",
            "Tweets 250000 of 1600000 has been processed\n",
            "Tweets 260000 of 1600000 has been processed\n",
            "Tweets 270000 of 1600000 has been processed\n",
            "Tweets 280000 of 1600000 has been processed\n",
            "Tweets 290000 of 1600000 has been processed\n",
            "Tweets 300000 of 1600000 has been processed\n",
            "Tweets 310000 of 1600000 has been processed\n",
            "Tweets 320000 of 1600000 has been processed\n",
            "Tweets 330000 of 1600000 has been processed\n",
            "Tweets 340000 of 1600000 has been processed\n",
            "Tweets 350000 of 1600000 has been processed\n",
            "Tweets 360000 of 1600000 has been processed\n",
            "Tweets 370000 of 1600000 has been processed\n",
            "Tweets 380000 of 1600000 has been processed\n",
            "Tweets 390000 of 1600000 has been processed\n",
            "Tweets 400000 of 1600000 has been processed\n",
            "Tweets 410000 of 1600000 has been processed\n",
            "Tweets 420000 of 1600000 has been processed\n",
            "Tweets 430000 of 1600000 has been processed\n",
            "Tweets 440000 of 1600000 has been processed\n",
            "Tweets 450000 of 1600000 has been processed\n",
            "Tweets 460000 of 1600000 has been processed\n",
            "Tweets 470000 of 1600000 has been processed\n",
            "Tweets 480000 of 1600000 has been processed\n",
            "Tweets 490000 of 1600000 has been processed\n",
            "Tweets 500000 of 1600000 has been processed\n",
            "Tweets 510000 of 1600000 has been processed\n",
            "Tweets 520000 of 1600000 has been processed\n",
            "Tweets 530000 of 1600000 has been processed\n",
            "Tweets 540000 of 1600000 has been processed\n",
            "Tweets 550000 of 1600000 has been processed\n",
            "Tweets 560000 of 1600000 has been processed\n",
            "Tweets 570000 of 1600000 has been processed\n",
            "Tweets 580000 of 1600000 has been processed\n",
            "Tweets 590000 of 1600000 has been processed\n",
            "Tweets 600000 of 1600000 has been processed\n",
            "Tweets 610000 of 1600000 has been processed\n",
            "Tweets 620000 of 1600000 has been processed\n",
            "Tweets 630000 of 1600000 has been processed\n",
            "Tweets 640000 of 1600000 has been processed\n",
            "Tweets 650000 of 1600000 has been processed\n",
            "Tweets 660000 of 1600000 has been processed\n",
            "Tweets 670000 of 1600000 has been processed\n",
            "Tweets 680000 of 1600000 has been processed\n",
            "Tweets 690000 of 1600000 has been processed\n",
            "Tweets 700000 of 1600000 has been processed\n",
            "Tweets 710000 of 1600000 has been processed\n",
            "Tweets 720000 of 1600000 has been processed\n",
            "Tweets 730000 of 1600000 has been processed\n",
            "Tweets 740000 of 1600000 has been processed\n",
            "Tweets 750000 of 1600000 has been processed\n",
            "Tweets 760000 of 1600000 has been processed\n",
            "Tweets 770000 of 1600000 has been processed\n",
            "Tweets 780000 of 1600000 has been processed\n",
            "Tweets 790000 of 1600000 has been processed\n",
            "Tweets 800000 of 1600000 has been processed\n",
            "Tweets 810000 of 1600000 has been processed\n",
            "Tweets 820000 of 1600000 has been processed\n",
            "Tweets 830000 of 1600000 has been processed\n",
            "Tweets 840000 of 1600000 has been processed\n",
            "Tweets 850000 of 1600000 has been processed\n",
            "Tweets 860000 of 1600000 has been processed\n",
            "Tweets 870000 of 1600000 has been processed\n",
            "Tweets 880000 of 1600000 has been processed\n",
            "Tweets 890000 of 1600000 has been processed\n",
            "Tweets 900000 of 1600000 has been processed\n",
            "Tweets 910000 of 1600000 has been processed\n",
            "Tweets 920000 of 1600000 has been processed\n",
            "Tweets 930000 of 1600000 has been processed\n",
            "Tweets 940000 of 1600000 has been processed\n",
            "Tweets 950000 of 1600000 has been processed\n",
            "Tweets 960000 of 1600000 has been processed\n",
            "Tweets 970000 of 1600000 has been processed\n",
            "Tweets 980000 of 1600000 has been processed\n",
            "Tweets 990000 of 1600000 has been processed\n",
            "Tweets 1000000 of 1600000 has been processed\n",
            "Tweets 1010000 of 1600000 has been processed\n",
            "Tweets 1020000 of 1600000 has been processed\n",
            "Tweets 1030000 of 1600000 has been processed\n",
            "Tweets 1040000 of 1600000 has been processed\n",
            "Tweets 1050000 of 1600000 has been processed\n",
            "Tweets 1060000 of 1600000 has been processed\n",
            "Tweets 1070000 of 1600000 has been processed\n",
            "Tweets 1080000 of 1600000 has been processed\n",
            "Tweets 1090000 of 1600000 has been processed\n",
            "Tweets 1100000 of 1600000 has been processed\n",
            "Tweets 1110000 of 1600000 has been processed\n",
            "Tweets 1120000 of 1600000 has been processed\n",
            "Tweets 1130000 of 1600000 has been processed\n",
            "Tweets 1140000 of 1600000 has been processed\n",
            "Tweets 1150000 of 1600000 has been processed\n",
            "Tweets 1160000 of 1600000 has been processed\n",
            "Tweets 1170000 of 1600000 has been processed\n",
            "Tweets 1180000 of 1600000 has been processed\n",
            "Tweets 1190000 of 1600000 has been processed\n",
            "Tweets 1200000 of 1600000 has been processed\n",
            "Tweets 1210000 of 1600000 has been processed\n",
            "Tweets 1220000 of 1600000 has been processed\n",
            "Tweets 1230000 of 1600000 has been processed\n",
            "Tweets 1240000 of 1600000 has been processed\n",
            "Tweets 1250000 of 1600000 has been processed\n",
            "Tweets 1260000 of 1600000 has been processed\n",
            "Tweets 1270000 of 1600000 has been processed\n",
            "Tweets 1280000 of 1600000 has been processed\n",
            "Tweets 1290000 of 1600000 has been processed\n",
            "Tweets 1300000 of 1600000 has been processed\n",
            "Tweets 1310000 of 1600000 has been processed\n",
            "Tweets 1320000 of 1600000 has been processed\n",
            "Tweets 1330000 of 1600000 has been processed\n",
            "Tweets 1340000 of 1600000 has been processed\n",
            "Tweets 1350000 of 1600000 has been processed\n",
            "Tweets 1360000 of 1600000 has been processed\n",
            "Tweets 1370000 of 1600000 has been processed\n",
            "Tweets 1380000 of 1600000 has been processed\n",
            "Tweets 1390000 of 1600000 has been processed\n",
            "Tweets 1400000 of 1600000 has been processed\n",
            "Tweets 1410000 of 1600000 has been processed\n",
            "Tweets 1420000 of 1600000 has been processed\n",
            "Tweets 1430000 of 1600000 has been processed\n",
            "Tweets 1440000 of 1600000 has been processed\n",
            "Tweets 1450000 of 1600000 has been processed\n",
            "Tweets 1460000 of 1600000 has been processed\n",
            "Tweets 1470000 of 1600000 has been processed\n",
            "Tweets 1480000 of 1600000 has been processed\n",
            "Tweets 1490000 of 1600000 has been processed\n",
            "Tweets 1500000 of 1600000 has been processed\n",
            "Tweets 1510000 of 1600000 has been processed\n",
            "Tweets 1520000 of 1600000 has been processed\n",
            "Tweets 1530000 of 1600000 has been processed\n",
            "Tweets 1540000 of 1600000 has been processed\n",
            "Tweets 1550000 of 1600000 has been processed\n",
            "Tweets 1560000 of 1600000 has been processed\n",
            "Tweets 1570000 of 1600000 has been processed\n",
            "Tweets 1580000 of 1600000 has been processed\n",
            "Tweets 1590000 of 1600000 has been processed\n",
            "Tweets 1600000 of 1600000 has been processed\n"
          ],
          "name": "stdout"
        }
      ]
    },
    {
      "cell_type": "markdown",
      "metadata": {
        "id": "aYreUnxCQPBU"
      },
      "source": [
        "**Now, we save the cleaned data as CSV file which we will be using for the spark analysis.**"
      ]
    },
    {
      "cell_type": "code",
      "metadata": {
        "id": "MFbAI8e6yI5-",
        "colab": {
          "base_uri": "https://localhost:8080/",
          "height": 204
        },
        "outputId": "3f5d28d4-7d3c-41fb-9f2f-73712f0dee4a"
      },
      "source": [
        "clean_df=pd.DataFrame(clean_tweet_texts, columns=['text'])\n",
        "clean_df['target'] = df.sentiment\n",
        "clean_df.head()\n"
      ],
      "execution_count": null,
      "outputs": [
        {
          "output_type": "execute_result",
          "data": {
            "text/html": [
              "<div>\n",
              "<style scoped>\n",
              "    .dataframe tbody tr th:only-of-type {\n",
              "        vertical-align: middle;\n",
              "    }\n",
              "\n",
              "    .dataframe tbody tr th {\n",
              "        vertical-align: top;\n",
              "    }\n",
              "\n",
              "    .dataframe thead th {\n",
              "        text-align: right;\n",
              "    }\n",
              "</style>\n",
              "<table border=\"1\" class=\"dataframe\">\n",
              "  <thead>\n",
              "    <tr style=\"text-align: right;\">\n",
              "      <th></th>\n",
              "      <th>text</th>\n",
              "      <th>target</th>\n",
              "    </tr>\n",
              "  </thead>\n",
              "  <tbody>\n",
              "    <tr>\n",
              "      <th>0</th>\n",
              "      <td>awww that bummer you shoulda got david carr of...</td>\n",
              "      <td>0</td>\n",
              "    </tr>\n",
              "    <tr>\n",
              "      <th>1</th>\n",
              "      <td>is upset that he can update his facebook by te...</td>\n",
              "      <td>0</td>\n",
              "    </tr>\n",
              "    <tr>\n",
              "      <th>2</th>\n",
              "      <td>dived many times for the ball managed to save ...</td>\n",
              "      <td>0</td>\n",
              "    </tr>\n",
              "    <tr>\n",
              "      <th>3</th>\n",
              "      <td>my whole body feels itchy and like its on fire</td>\n",
              "      <td>0</td>\n",
              "    </tr>\n",
              "    <tr>\n",
              "      <th>4</th>\n",
              "      <td>no it not behaving at all mad why am here beca...</td>\n",
              "      <td>0</td>\n",
              "    </tr>\n",
              "  </tbody>\n",
              "</table>\n",
              "</div>"
            ],
            "text/plain": [
              "                                                text  target\n",
              "0  awww that bummer you shoulda got david carr of...       0\n",
              "1  is upset that he can update his facebook by te...       0\n",
              "2  dived many times for the ball managed to save ...       0\n",
              "3     my whole body feels itchy and like its on fire       0\n",
              "4  no it not behaving at all mad why am here beca...       0"
            ]
          },
          "metadata": {
            "tags": []
          },
          "execution_count": 37
        }
      ]
    },
    {
      "cell_type": "code",
      "metadata": {
        "id": "8w9wurZAHJ_v",
        "colab": {
          "base_uri": "https://localhost:8080/",
          "height": 68
        },
        "outputId": "5c647bb9-89ba-4002-d941-9a1433e110eb"
      },
      "source": [
        "clean_df.count()"
      ],
      "execution_count": null,
      "outputs": [
        {
          "output_type": "execute_result",
          "data": {
            "text/plain": [
              "text      1600000\n",
              "target    1600000\n",
              "dtype: int64"
            ]
          },
          "metadata": {
            "tags": []
          },
          "execution_count": 38
        }
      ]
    },
    {
      "cell_type": "code",
      "metadata": {
        "id": "O5H1IoRu89NQ",
        "colab": {
          "base_uri": "https://localhost:8080/",
          "height": 238
        },
        "outputId": "9bdbefd8-0679-46e3-f1f9-c50989a95d01"
      },
      "source": [
        "clean_df.to_csv('clean_tweet.csv',encoding='utf-8')\n",
        "csv = 'clean_tweet.csv'\n",
        "my_df = pd.read_csv(csv,index_col=0)\n",
        "my_df.head()"
      ],
      "execution_count": null,
      "outputs": [
        {
          "output_type": "stream",
          "text": [
            "/usr/local/lib/python3.6/dist-packages/numpy/lib/arraysetops.py:569: FutureWarning: elementwise comparison failed; returning scalar instead, but in the future will perform elementwise comparison\n",
            "  mask |= (ar1 == a)\n"
          ],
          "name": "stderr"
        },
        {
          "output_type": "execute_result",
          "data": {
            "text/html": [
              "<div>\n",
              "<style scoped>\n",
              "    .dataframe tbody tr th:only-of-type {\n",
              "        vertical-align: middle;\n",
              "    }\n",
              "\n",
              "    .dataframe tbody tr th {\n",
              "        vertical-align: top;\n",
              "    }\n",
              "\n",
              "    .dataframe thead th {\n",
              "        text-align: right;\n",
              "    }\n",
              "</style>\n",
              "<table border=\"1\" class=\"dataframe\">\n",
              "  <thead>\n",
              "    <tr style=\"text-align: right;\">\n",
              "      <th></th>\n",
              "      <th>text</th>\n",
              "      <th>target</th>\n",
              "    </tr>\n",
              "  </thead>\n",
              "  <tbody>\n",
              "    <tr>\n",
              "      <th>0</th>\n",
              "      <td>awww that bummer you shoulda got david carr of...</td>\n",
              "      <td>0</td>\n",
              "    </tr>\n",
              "    <tr>\n",
              "      <th>1</th>\n",
              "      <td>is upset that he can update his facebook by te...</td>\n",
              "      <td>0</td>\n",
              "    </tr>\n",
              "    <tr>\n",
              "      <th>2</th>\n",
              "      <td>dived many times for the ball managed to save ...</td>\n",
              "      <td>0</td>\n",
              "    </tr>\n",
              "    <tr>\n",
              "      <th>3</th>\n",
              "      <td>my whole body feels itchy and like its on fire</td>\n",
              "      <td>0</td>\n",
              "    </tr>\n",
              "    <tr>\n",
              "      <th>4</th>\n",
              "      <td>no it not behaving at all mad why am here beca...</td>\n",
              "      <td>0</td>\n",
              "    </tr>\n",
              "  </tbody>\n",
              "</table>\n",
              "</div>"
            ],
            "text/plain": [
              "                                                text  target\n",
              "0  awww that bummer you shoulda got david carr of...       0\n",
              "1  is upset that he can update his facebook by te...       0\n",
              "2  dived many times for the ball managed to save ...       0\n",
              "3     my whole body feels itchy and like its on fire       0\n",
              "4  no it not behaving at all mad why am here beca...       0"
            ]
          },
          "metadata": {
            "tags": []
          },
          "execution_count": 39
        }
      ]
    },
    {
      "cell_type": "markdown",
      "metadata": {
        "id": "2V-LbYZsQa-z"
      },
      "source": [
        "#Now, we need to install findspark and pyspark on collab since they are not available by default.#"
      ]
    },
    {
      "cell_type": "code",
      "metadata": {
        "id": "LjjsQVvQCcBD"
      },
      "source": [
        "!apt-get install openjdk-8-jdk-headless -qq > /dev/null\n"
      ],
      "execution_count": null,
      "outputs": []
    },
    {
      "cell_type": "code",
      "metadata": {
        "id": "6_yTpgbsD7Pz"
      },
      "source": [
        "!wget -q https://downloads.apache.org/spark/spark-3.0.0-preview2/spark-3.0.0-preview2-bin-hadoop2.7.tgz\n"
      ],
      "execution_count": null,
      "outputs": []
    },
    {
      "cell_type": "code",
      "metadata": {
        "id": "sFoUbsA6D-Xz",
        "colab": {
          "base_uri": "https://localhost:8080/",
          "height": 1000
        },
        "outputId": "4bd987ac-2086-4c8c-c510-b9df9f0dd503"
      },
      "source": [
        "!tar -xvf spark-3.0.0-preview2-bin-hadoop2.7.tgz\n"
      ],
      "execution_count": null,
      "outputs": [
        {
          "output_type": "stream",
          "text": [
            "spark-3.0.0-preview2-bin-hadoop2.7/\n",
            "spark-3.0.0-preview2-bin-hadoop2.7/data/\n",
            "spark-3.0.0-preview2-bin-hadoop2.7/data/streaming/\n",
            "spark-3.0.0-preview2-bin-hadoop2.7/data/streaming/AFINN-111.txt\n",
            "spark-3.0.0-preview2-bin-hadoop2.7/data/mllib/\n",
            "spark-3.0.0-preview2-bin-hadoop2.7/data/mllib/sample_binary_classification_data.txt\n",
            "spark-3.0.0-preview2-bin-hadoop2.7/data/mllib/sample_kmeans_data.txt\n",
            "spark-3.0.0-preview2-bin-hadoop2.7/data/mllib/sample_multiclass_classification_data.txt\n",
            "spark-3.0.0-preview2-bin-hadoop2.7/data/mllib/sample_lda_libsvm_data.txt\n",
            "spark-3.0.0-preview2-bin-hadoop2.7/data/mllib/iris_libsvm.txt\n",
            "spark-3.0.0-preview2-bin-hadoop2.7/data/mllib/pagerank_data.txt\n",
            "spark-3.0.0-preview2-bin-hadoop2.7/data/mllib/sample_linear_regression_data.txt\n",
            "spark-3.0.0-preview2-bin-hadoop2.7/data/mllib/pic_data.txt\n",
            "spark-3.0.0-preview2-bin-hadoop2.7/data/mllib/als/\n",
            "spark-3.0.0-preview2-bin-hadoop2.7/data/mllib/als/test.data\n",
            "spark-3.0.0-preview2-bin-hadoop2.7/data/mllib/als/sample_movielens_ratings.txt\n",
            "spark-3.0.0-preview2-bin-hadoop2.7/data/mllib/ridge-data/\n",
            "spark-3.0.0-preview2-bin-hadoop2.7/data/mllib/ridge-data/lpsa.data\n",
            "spark-3.0.0-preview2-bin-hadoop2.7/data/mllib/sample_movielens_data.txt\n",
            "spark-3.0.0-preview2-bin-hadoop2.7/data/mllib/sample_isotonic_regression_libsvm_data.txt\n",
            "spark-3.0.0-preview2-bin-hadoop2.7/data/mllib/sample_svm_data.txt\n",
            "spark-3.0.0-preview2-bin-hadoop2.7/data/mllib/kmeans_data.txt\n",
            "spark-3.0.0-preview2-bin-hadoop2.7/data/mllib/sample_libsvm_data.txt\n",
            "spark-3.0.0-preview2-bin-hadoop2.7/data/mllib/images/\n",
            "spark-3.0.0-preview2-bin-hadoop2.7/data/mllib/images/origin/\n",
            "spark-3.0.0-preview2-bin-hadoop2.7/data/mllib/images/origin/multi-channel/\n",
            "spark-3.0.0-preview2-bin-hadoop2.7/data/mllib/images/origin/multi-channel/grayscale.jpg\n",
            "spark-3.0.0-preview2-bin-hadoop2.7/data/mllib/images/origin/multi-channel/BGRA.png\n",
            "spark-3.0.0-preview2-bin-hadoop2.7/data/mllib/images/origin/multi-channel/chr30.4.184.jpg\n",
            "spark-3.0.0-preview2-bin-hadoop2.7/data/mllib/images/origin/multi-channel/BGRA_alpha_60.png\n",
            "spark-3.0.0-preview2-bin-hadoop2.7/data/mllib/images/origin/kittens/\n",
            "spark-3.0.0-preview2-bin-hadoop2.7/data/mllib/images/origin/kittens/not-image.txt\n",
            "spark-3.0.0-preview2-bin-hadoop2.7/data/mllib/images/origin/kittens/54893.jpg\n",
            "spark-3.0.0-preview2-bin-hadoop2.7/data/mllib/images/origin/kittens/DP153539.jpg\n",
            "spark-3.0.0-preview2-bin-hadoop2.7/data/mllib/images/origin/kittens/29.5.a_b_EGDP022204.jpg\n",
            "spark-3.0.0-preview2-bin-hadoop2.7/data/mllib/images/origin/kittens/DP802813.jpg\n",
            "spark-3.0.0-preview2-bin-hadoop2.7/data/mllib/images/origin/license.txt\n",
            "spark-3.0.0-preview2-bin-hadoop2.7/data/mllib/images/partitioned/\n",
            "spark-3.0.0-preview2-bin-hadoop2.7/data/mllib/images/partitioned/cls=multichannel/\n",
            "spark-3.0.0-preview2-bin-hadoop2.7/data/mllib/images/partitioned/cls=multichannel/date=2018-01/\n",
            "spark-3.0.0-preview2-bin-hadoop2.7/data/mllib/images/partitioned/cls=multichannel/date=2018-01/BGRA.png\n",
            "spark-3.0.0-preview2-bin-hadoop2.7/data/mllib/images/partitioned/cls=multichannel/date=2018-01/BGRA_alpha_60.png\n",
            "spark-3.0.0-preview2-bin-hadoop2.7/data/mllib/images/partitioned/cls=multichannel/date=2018-02/\n",
            "spark-3.0.0-preview2-bin-hadoop2.7/data/mllib/images/partitioned/cls=multichannel/date=2018-02/grayscale.jpg\n",
            "spark-3.0.0-preview2-bin-hadoop2.7/data/mllib/images/partitioned/cls=multichannel/date=2018-02/chr30.4.184.jpg\n",
            "spark-3.0.0-preview2-bin-hadoop2.7/data/mllib/images/partitioned/cls=kittens/\n",
            "spark-3.0.0-preview2-bin-hadoop2.7/data/mllib/images/partitioned/cls=kittens/date=2018-01/\n",
            "spark-3.0.0-preview2-bin-hadoop2.7/data/mllib/images/partitioned/cls=kittens/date=2018-01/not-image.txt\n",
            "spark-3.0.0-preview2-bin-hadoop2.7/data/mllib/images/partitioned/cls=kittens/date=2018-01/29.5.a_b_EGDP022204.jpg\n",
            "spark-3.0.0-preview2-bin-hadoop2.7/data/mllib/images/partitioned/cls=kittens/date=2018-02/\n",
            "spark-3.0.0-preview2-bin-hadoop2.7/data/mllib/images/partitioned/cls=kittens/date=2018-02/54893.jpg\n",
            "spark-3.0.0-preview2-bin-hadoop2.7/data/mllib/images/partitioned/cls=kittens/date=2018-02/DP153539.jpg\n",
            "spark-3.0.0-preview2-bin-hadoop2.7/data/mllib/images/partitioned/cls=kittens/date=2018-02/DP802813.jpg\n",
            "spark-3.0.0-preview2-bin-hadoop2.7/data/mllib/images/license.txt\n",
            "spark-3.0.0-preview2-bin-hadoop2.7/data/mllib/streaming_kmeans_data_test.txt\n",
            "spark-3.0.0-preview2-bin-hadoop2.7/data/mllib/sample_lda_data.txt\n",
            "spark-3.0.0-preview2-bin-hadoop2.7/data/mllib/gmm_data.txt\n",
            "spark-3.0.0-preview2-bin-hadoop2.7/data/mllib/sample_fpgrowth.txt\n",
            "spark-3.0.0-preview2-bin-hadoop2.7/data/graphx/\n",
            "spark-3.0.0-preview2-bin-hadoop2.7/data/graphx/followers.txt\n",
            "spark-3.0.0-preview2-bin-hadoop2.7/data/graphx/users.txt\n",
            "spark-3.0.0-preview2-bin-hadoop2.7/licenses/\n",
            "spark-3.0.0-preview2-bin-hadoop2.7/licenses/LICENSE-javassist.html\n",
            "spark-3.0.0-preview2-bin-hadoop2.7/licenses/LICENSE-protobuf.txt\n",
            "spark-3.0.0-preview2-bin-hadoop2.7/licenses/LICENSE-jakarta.xml.bind-api.txt\n",
            "spark-3.0.0-preview2-bin-hadoop2.7/licenses/LICENSE-dnsjava.txt\n",
            "spark-3.0.0-preview2-bin-hadoop2.7/licenses/LICENSE-CC0.txt\n",
            "spark-3.0.0-preview2-bin-hadoop2.7/licenses/LICENSE-leveldbjni.txt\n",
            "spark-3.0.0-preview2-bin-hadoop2.7/licenses/LICENSE-jakarta-ws-rs-api\n",
            "spark-3.0.0-preview2-bin-hadoop2.7/licenses/LICENSE-re2j.txt\n",
            "spark-3.0.0-preview2-bin-hadoop2.7/licenses/LICENSE-vis.txt\n",
            "spark-3.0.0-preview2-bin-hadoop2.7/licenses/LICENSE-d3.min.js.txt\n",
            "spark-3.0.0-preview2-bin-hadoop2.7/licenses/LICENSE-dagre-d3.txt\n",
            "spark-3.0.0-preview2-bin-hadoop2.7/licenses/LICENSE-jaxb-runtime.txt\n",
            "spark-3.0.0-preview2-bin-hadoop2.7/licenses/LICENSE-matchMedia-polyfill.txt\n",
            "spark-3.0.0-preview2-bin-hadoop2.7/licenses/LICENSE-mustache.txt\n",
            "spark-3.0.0-preview2-bin-hadoop2.7/licenses/LICENSE-arpack.txt\n",
            "spark-3.0.0-preview2-bin-hadoop2.7/licenses/LICENSE-pmml-model.txt\n",
            "spark-3.0.0-preview2-bin-hadoop2.7/licenses/LICENSE-sorttable.js.txt\n",
            "spark-3.0.0-preview2-bin-hadoop2.7/licenses/LICENSE-pyrolite.txt\n",
            "spark-3.0.0-preview2-bin-hadoop2.7/licenses/LICENSE-javolution.txt\n",
            "spark-3.0.0-preview2-bin-hadoop2.7/licenses/LICENSE-javax-transaction-transaction-api.txt\n",
            "spark-3.0.0-preview2-bin-hadoop2.7/licenses/LICENSE-JTransforms.txt\n",
            "spark-3.0.0-preview2-bin-hadoop2.7/licenses/LICENSE-join.txt\n",
            "spark-3.0.0-preview2-bin-hadoop2.7/licenses/LICENSE-machinist.txt\n",
            "spark-3.0.0-preview2-bin-hadoop2.7/licenses/LICENSE-py4j.txt\n",
            "spark-3.0.0-preview2-bin-hadoop2.7/licenses/LICENSE-slf4j.txt\n",
            "spark-3.0.0-preview2-bin-hadoop2.7/licenses/LICENSE-AnchorJS.txt\n",
            "spark-3.0.0-preview2-bin-hadoop2.7/licenses/LICENSE-heapq.txt\n",
            "spark-3.0.0-preview2-bin-hadoop2.7/licenses/LICENSE-istack-commons-runtime.txt\n",
            "spark-3.0.0-preview2-bin-hadoop2.7/licenses/LICENSE-scopt.txt\n",
            "spark-3.0.0-preview2-bin-hadoop2.7/licenses/LICENSE-scala.txt\n",
            "spark-3.0.0-preview2-bin-hadoop2.7/licenses/LICENSE-jakarta.activation-api.txt\n",
            "spark-3.0.0-preview2-bin-hadoop2.7/licenses/LICENSE-netlib.txt\n",
            "spark-3.0.0-preview2-bin-hadoop2.7/licenses/LICENSE-json-formatter.txt\n",
            "spark-3.0.0-preview2-bin-hadoop2.7/licenses/LICENSE-jline.txt\n",
            "spark-3.0.0-preview2-bin-hadoop2.7/licenses/LICENSE-jquery.txt\n",
            "spark-3.0.0-preview2-bin-hadoop2.7/licenses/LICENSE-modernizr.txt\n",
            "spark-3.0.0-preview2-bin-hadoop2.7/licenses/LICENSE-jodd.txt\n",
            "spark-3.0.0-preview2-bin-hadoop2.7/licenses/LICENSE-jakarta-annotation-api\n",
            "spark-3.0.0-preview2-bin-hadoop2.7/licenses/LICENSE-automaton.txt\n",
            "spark-3.0.0-preview2-bin-hadoop2.7/licenses/LICENSE-minlog.txt\n",
            "spark-3.0.0-preview2-bin-hadoop2.7/licenses/LICENSE-zstd-jni.txt\n",
            "spark-3.0.0-preview2-bin-hadoop2.7/licenses/LICENSE-antlr.txt\n",
            "spark-3.0.0-preview2-bin-hadoop2.7/licenses/LICENSE-spire.txt\n",
            "spark-3.0.0-preview2-bin-hadoop2.7/licenses/LICENSE-graphlib-dot.txt\n",
            "spark-3.0.0-preview2-bin-hadoop2.7/licenses/LICENSE-f2j.txt\n",
            "spark-3.0.0-preview2-bin-hadoop2.7/licenses/LICENSE-cloudpickle.txt\n",
            "spark-3.0.0-preview2-bin-hadoop2.7/licenses/LICENSE-reflectasm.txt\n",
            "spark-3.0.0-preview2-bin-hadoop2.7/licenses/LICENSE-janino.txt\n",
            "spark-3.0.0-preview2-bin-hadoop2.7/licenses/LICENSE-sbt-launch-lib.txt\n",
            "spark-3.0.0-preview2-bin-hadoop2.7/licenses/LICENSE-zstd.txt\n",
            "spark-3.0.0-preview2-bin-hadoop2.7/licenses/LICENSE-paranamer.txt\n",
            "spark-3.0.0-preview2-bin-hadoop2.7/licenses/LICENSE-datatables.txt\n",
            "spark-3.0.0-preview2-bin-hadoop2.7/licenses/LICENSE-jsp-api.txt\n",
            "spark-3.0.0-preview2-bin-hadoop2.7/licenses/LICENSE-bootstrap.txt\n",
            "spark-3.0.0-preview2-bin-hadoop2.7/licenses/LICENSE-JLargeArrays.txt\n",
            "spark-3.0.0-preview2-bin-hadoop2.7/licenses/LICENSE-kryo.txt\n",
            "spark-3.0.0-preview2-bin-hadoop2.7/licenses/LICENSE-xmlenc.txt\n",
            "spark-3.0.0-preview2-bin-hadoop2.7/licenses/LICENSE-respond.txt\n",
            "spark-3.0.0-preview2-bin-hadoop2.7/examples/\n",
            "spark-3.0.0-preview2-bin-hadoop2.7/examples/jars/\n",
            "spark-3.0.0-preview2-bin-hadoop2.7/examples/jars/spark-examples_2.12-3.0.0-preview2.jar\n",
            "spark-3.0.0-preview2-bin-hadoop2.7/examples/jars/scopt_2.12-3.7.1.jar\n",
            "spark-3.0.0-preview2-bin-hadoop2.7/examples/src/\n",
            "spark-3.0.0-preview2-bin-hadoop2.7/examples/src/main/\n",
            "spark-3.0.0-preview2-bin-hadoop2.7/examples/src/main/resources/\n",
            "spark-3.0.0-preview2-bin-hadoop2.7/examples/src/main/resources/users.orc\n",
            "spark-3.0.0-preview2-bin-hadoop2.7/examples/src/main/resources/people.txt\n",
            "spark-3.0.0-preview2-bin-hadoop2.7/examples/src/main/resources/employees.json\n",
            "spark-3.0.0-preview2-bin-hadoop2.7/examples/src/main/resources/people.json\n",
            "spark-3.0.0-preview2-bin-hadoop2.7/examples/src/main/resources/people.csv\n",
            "spark-3.0.0-preview2-bin-hadoop2.7/examples/src/main/resources/users.parquet\n",
            "spark-3.0.0-preview2-bin-hadoop2.7/examples/src/main/resources/kv1.txt\n",
            "spark-3.0.0-preview2-bin-hadoop2.7/examples/src/main/resources/partitioned_users.orc/\n",
            "spark-3.0.0-preview2-bin-hadoop2.7/examples/src/main/resources/partitioned_users.orc/favorite_color=red/\n",
            "spark-3.0.0-preview2-bin-hadoop2.7/examples/src/main/resources/partitioned_users.orc/favorite_color=red/users.orc\n",
            "spark-3.0.0-preview2-bin-hadoop2.7/examples/src/main/resources/partitioned_users.orc/favorite_color=__HIVE_DEFAULT_PARTITION__/\n",
            "spark-3.0.0-preview2-bin-hadoop2.7/examples/src/main/resources/partitioned_users.orc/favorite_color=__HIVE_DEFAULT_PARTITION__/users.orc\n",
            "spark-3.0.0-preview2-bin-hadoop2.7/examples/src/main/resources/partitioned_users.orc/do_not_read_this.txt\n",
            "spark-3.0.0-preview2-bin-hadoop2.7/examples/src/main/resources/full_user.avsc\n",
            "spark-3.0.0-preview2-bin-hadoop2.7/examples/src/main/resources/user.avsc\n",
            "spark-3.0.0-preview2-bin-hadoop2.7/examples/src/main/resources/users.avro\n",
            "spark-3.0.0-preview2-bin-hadoop2.7/examples/src/main/scripts/\n",
            "spark-3.0.0-preview2-bin-hadoop2.7/examples/src/main/scripts/getGpusResources.sh\n",
            "spark-3.0.0-preview2-bin-hadoop2.7/examples/src/main/java/\n",
            "spark-3.0.0-preview2-bin-hadoop2.7/examples/src/main/java/org/\n",
            "spark-3.0.0-preview2-bin-hadoop2.7/examples/src/main/java/org/apache/\n",
            "spark-3.0.0-preview2-bin-hadoop2.7/examples/src/main/java/org/apache/spark/\n",
            "spark-3.0.0-preview2-bin-hadoop2.7/examples/src/main/java/org/apache/spark/examples/\n",
            "spark-3.0.0-preview2-bin-hadoop2.7/examples/src/main/java/org/apache/spark/examples/ml/\n",
            "spark-3.0.0-preview2-bin-hadoop2.7/examples/src/main/java/org/apache/spark/examples/ml/JavaKMeansExample.java\n",
            "spark-3.0.0-preview2-bin-hadoop2.7/examples/src/main/java/org/apache/spark/examples/ml/JavaCorrelationExample.java\n",
            "spark-3.0.0-preview2-bin-hadoop2.7/examples/src/main/java/org/apache/spark/examples/ml/JavaModelSelectionViaTrainValidationSplitExample.java\n",
            "spark-3.0.0-preview2-bin-hadoop2.7/examples/src/main/java/org/apache/spark/examples/ml/JavaPrefixSpanExample.java\n",
            "spark-3.0.0-preview2-bin-hadoop2.7/examples/src/main/java/org/apache/spark/examples/ml/JavaVectorSizeHintExample.java\n",
            "spark-3.0.0-preview2-bin-hadoop2.7/examples/src/main/java/org/apache/spark/examples/ml/JavaOneHotEncoderExample.java\n",
            "spark-3.0.0-preview2-bin-hadoop2.7/examples/src/main/java/org/apache/spark/examples/ml/JavaQuantileDiscretizerExample.java\n",
            "spark-3.0.0-preview2-bin-hadoop2.7/examples/src/main/java/org/apache/spark/examples/ml/JavaElementwiseProductExample.java\n",
            "spark-3.0.0-preview2-bin-hadoop2.7/examples/src/main/java/org/apache/spark/examples/ml/JavaBucketedRandomProjectionLSHExample.java\n",
            "spark-3.0.0-preview2-bin-hadoop2.7/examples/src/main/java/org/apache/spark/examples/ml/JavaGradientBoostedTreeRegressorExample.java\n",
            "spark-3.0.0-preview2-bin-hadoop2.7/examples/src/main/java/org/apache/spark/examples/ml/JavaCountVectorizerExample.java\n",
            "spark-3.0.0-preview2-bin-hadoop2.7/examples/src/main/java/org/apache/spark/examples/ml/JavaInteractionExample.java\n",
            "spark-3.0.0-preview2-bin-hadoop2.7/examples/src/main/java/org/apache/spark/examples/ml/JavaRandomForestClassifierExample.java\n",
            "spark-3.0.0-preview2-bin-hadoop2.7/examples/src/main/java/org/apache/spark/examples/ml/JavaDocument.java\n",
            "spark-3.0.0-preview2-bin-hadoop2.7/examples/src/main/java/org/apache/spark/examples/ml/JavaOneVsRestExample.java\n",
            "spark-3.0.0-preview2-bin-hadoop2.7/examples/src/main/java/org/apache/spark/examples/ml/JavaBucketizerExample.java\n",
            "spark-3.0.0-preview2-bin-hadoop2.7/examples/src/main/java/org/apache/spark/examples/ml/JavaLogisticRegressionSummaryExample.java\n",
            "spark-3.0.0-preview2-bin-hadoop2.7/examples/src/main/java/org/apache/spark/examples/ml/JavaRandomForestRegressorExample.java\n",
            "spark-3.0.0-preview2-bin-hadoop2.7/examples/src/main/java/org/apache/spark/examples/ml/JavaLinearRegressionWithElasticNetExample.java\n",
            "spark-3.0.0-preview2-bin-hadoop2.7/examples/src/main/java/org/apache/spark/examples/ml/JavaVectorAssemblerExample.java\n",
            "spark-3.0.0-preview2-bin-hadoop2.7/examples/src/main/java/org/apache/spark/examples/ml/JavaDecisionTreeClassificationExample.java\n",
            "spark-3.0.0-preview2-bin-hadoop2.7/examples/src/main/java/org/apache/spark/examples/ml/JavaMinMaxScalerExample.java\n",
            "spark-3.0.0-preview2-bin-hadoop2.7/examples/src/main/java/org/apache/spark/examples/ml/JavaMultilayerPerceptronClassifierExample.java\n",
            "spark-3.0.0-preview2-bin-hadoop2.7/examples/src/main/java/org/apache/spark/examples/ml/JavaMulticlassLogisticRegressionWithElasticNetExample.java\n",
            "spark-3.0.0-preview2-bin-hadoop2.7/examples/src/main/java/org/apache/spark/examples/ml/JavaWord2VecExample.java\n",
            "spark-3.0.0-preview2-bin-hadoop2.7/examples/src/main/java/org/apache/spark/examples/ml/JavaRFormulaExample.java\n",
            "spark-3.0.0-preview2-bin-hadoop2.7/examples/src/main/java/org/apache/spark/examples/ml/JavaGaussianMixtureExample.java\n",
            "spark-3.0.0-preview2-bin-hadoop2.7/examples/src/main/java/org/apache/spark/examples/ml/JavaGeneralizedLinearRegressionExample.java\n",
            "spark-3.0.0-preview2-bin-hadoop2.7/examples/src/main/java/org/apache/spark/examples/ml/JavaChiSquareTestExample.java\n",
            "spark-3.0.0-preview2-bin-hadoop2.7/examples/src/main/java/org/apache/spark/examples/ml/JavaMaxAbsScalerExample.java\n",
            "spark-3.0.0-preview2-bin-hadoop2.7/examples/src/main/java/org/apache/spark/examples/ml/JavaModelSelectionViaCrossValidationExample.java\n",
            "spark-3.0.0-preview2-bin-hadoop2.7/examples/src/main/java/org/apache/spark/examples/ml/JavaRobustScalerExample.java\n",
            "spark-3.0.0-preview2-bin-hadoop2.7/examples/src/main/java/org/apache/spark/examples/ml/JavaSQLTransformerExample.java\n",
            "spark-3.0.0-preview2-bin-hadoop2.7/examples/src/main/java/org/apache/spark/examples/ml/JavaBinarizerExample.java\n",
            "spark-3.0.0-preview2-bin-hadoop2.7/examples/src/main/java/org/apache/spark/examples/ml/JavaLDAExample.java\n",
            "spark-3.0.0-preview2-bin-hadoop2.7/examples/src/main/java/org/apache/spark/examples/ml/JavaTokenizerExample.java\n",
            "spark-3.0.0-preview2-bin-hadoop2.7/examples/src/main/java/org/apache/spark/examples/ml/JavaFPGrowthExample.java\n",
            "spark-3.0.0-preview2-bin-hadoop2.7/examples/src/main/java/org/apache/spark/examples/ml/JavaChiSqSelectorExample.java\n",
            "spark-3.0.0-preview2-bin-hadoop2.7/examples/src/main/java/org/apache/spark/examples/ml/JavaTfIdfExample.java\n",
            "spark-3.0.0-preview2-bin-hadoop2.7/examples/src/main/java/org/apache/spark/examples/ml/JavaPolynomialExpansionExample.java\n",
            "spark-3.0.0-preview2-bin-hadoop2.7/examples/src/main/java/org/apache/spark/examples/ml/JavaALSExample.java\n",
            "spark-3.0.0-preview2-bin-hadoop2.7/examples/src/main/java/org/apache/spark/examples/ml/JavaStandardScalerExample.java\n",
            "spark-3.0.0-preview2-bin-hadoop2.7/examples/src/main/java/org/apache/spark/examples/ml/JavaPipelineExample.java\n",
            "spark-3.0.0-preview2-bin-hadoop2.7/examples/src/main/java/org/apache/spark/examples/ml/JavaPCAExample.java\n",
            "spark-3.0.0-preview2-bin-hadoop2.7/examples/src/main/java/org/apache/spark/examples/ml/JavaDecisionTreeRegressionExample.java\n",
            "spark-3.0.0-preview2-bin-hadoop2.7/examples/src/main/java/org/apache/spark/examples/ml/JavaLabeledDocument.java\n",
            "spark-3.0.0-preview2-bin-hadoop2.7/examples/src/main/java/org/apache/spark/examples/ml/JavaNaiveBayesExample.java\n",
            "spark-3.0.0-preview2-bin-hadoop2.7/examples/src/main/java/org/apache/spark/examples/ml/JavaBisectingKMeansExample.java\n",
            "spark-3.0.0-preview2-bin-hadoop2.7/examples/src/main/java/org/apache/spark/examples/ml/JavaMinHashLSHExample.java\n",
            "spark-3.0.0-preview2-bin-hadoop2.7/examples/src/main/java/org/apache/spark/examples/ml/JavaSummarizerExample.java\n",
            "spark-3.0.0-preview2-bin-hadoop2.7/examples/src/main/java/org/apache/spark/examples/ml/JavaNormalizerExample.java\n",
            "spark-3.0.0-preview2-bin-hadoop2.7/examples/src/main/java/org/apache/spark/examples/ml/JavaLinearSVCExample.java\n",
            "spark-3.0.0-preview2-bin-hadoop2.7/examples/src/main/java/org/apache/spark/examples/ml/JavaStringIndexerExample.java\n",
            "spark-3.0.0-preview2-bin-hadoop2.7/examples/src/main/java/org/apache/spark/examples/ml/JavaImputerExample.java\n",
            "spark-3.0.0-preview2-bin-hadoop2.7/examples/src/main/java/org/apache/spark/examples/ml/JavaVectorSlicerExample.java\n",
            "spark-3.0.0-preview2-bin-hadoop2.7/examples/src/main/java/org/apache/spark/examples/ml/JavaFeatureHasherExample.java\n",
            "spark-3.0.0-preview2-bin-hadoop2.7/examples/src/main/java/org/apache/spark/examples/ml/JavaVectorIndexerExample.java\n",
            "spark-3.0.0-preview2-bin-hadoop2.7/examples/src/main/java/org/apache/spark/examples/ml/JavaIsotonicRegressionExample.java\n",
            "spark-3.0.0-preview2-bin-hadoop2.7/examples/src/main/java/org/apache/spark/examples/ml/JavaPowerIterationClusteringExample.java\n",
            "spark-3.0.0-preview2-bin-hadoop2.7/examples/src/main/java/org/apache/spark/examples/ml/JavaLogisticRegressionWithElasticNetExample.java\n",
            "spark-3.0.0-preview2-bin-hadoop2.7/examples/src/main/java/org/apache/spark/examples/ml/JavaGradientBoostedTreeClassifierExample.java\n",
            "spark-3.0.0-preview2-bin-hadoop2.7/examples/src/main/java/org/apache/spark/examples/ml/JavaIndexToStringExample.java\n",
            "spark-3.0.0-preview2-bin-hadoop2.7/examples/src/main/java/org/apache/spark/examples/ml/JavaEstimatorTransformerParamExample.java\n",
            "spark-3.0.0-preview2-bin-hadoop2.7/examples/src/main/java/org/apache/spark/examples/ml/JavaNGramExample.java\n",
            "spark-3.0.0-preview2-bin-hadoop2.7/examples/src/main/java/org/apache/spark/examples/ml/JavaStopWordsRemoverExample.java\n",
            "spark-3.0.0-preview2-bin-hadoop2.7/examples/src/main/java/org/apache/spark/examples/ml/JavaDCTExample.java\n",
            "spark-3.0.0-preview2-bin-hadoop2.7/examples/src/main/java/org/apache/spark/examples/ml/JavaAFTSurvivalRegressionExample.java\n",
            "spark-3.0.0-preview2-bin-hadoop2.7/examples/src/main/java/org/apache/spark/examples/JavaLogQuery.java\n",
            "spark-3.0.0-preview2-bin-hadoop2.7/examples/src/main/java/org/apache/spark/examples/streaming/\n",
            "spark-3.0.0-preview2-bin-hadoop2.7/examples/src/main/java/org/apache/spark/examples/streaming/JavaNetworkWordCount.java\n",
            "spark-3.0.0-preview2-bin-hadoop2.7/examples/src/main/java/org/apache/spark/examples/streaming/JavaRecoverableNetworkWordCount.java\n",
            "spark-3.0.0-preview2-bin-hadoop2.7/examples/src/main/java/org/apache/spark/examples/streaming/JavaDirectKerberizedKafkaWordCount.java\n",
            "spark-3.0.0-preview2-bin-hadoop2.7/examples/src/main/java/org/apache/spark/examples/streaming/JavaRecord.java\n",
            "spark-3.0.0-preview2-bin-hadoop2.7/examples/src/main/java/org/apache/spark/examples/streaming/JavaDirectKafkaWordCount.java\n",
            "spark-3.0.0-preview2-bin-hadoop2.7/examples/src/main/java/org/apache/spark/examples/streaming/JavaStatefulNetworkWordCount.java\n",
            "spark-3.0.0-preview2-bin-hadoop2.7/examples/src/main/java/org/apache/spark/examples/streaming/JavaCustomReceiver.java\n",
            "spark-3.0.0-preview2-bin-hadoop2.7/examples/src/main/java/org/apache/spark/examples/streaming/JavaSqlNetworkWordCount.java\n",
            "spark-3.0.0-preview2-bin-hadoop2.7/examples/src/main/java/org/apache/spark/examples/streaming/JavaQueueStream.java\n",
            "spark-3.0.0-preview2-bin-hadoop2.7/examples/src/main/java/org/apache/spark/examples/JavaHdfsLR.java\n",
            "spark-3.0.0-preview2-bin-hadoop2.7/examples/src/main/java/org/apache/spark/examples/JavaStatusTrackerDemo.java\n",
            "spark-3.0.0-preview2-bin-hadoop2.7/examples/src/main/java/org/apache/spark/examples/JavaPageRank.java\n",
            "spark-3.0.0-preview2-bin-hadoop2.7/examples/src/main/java/org/apache/spark/examples/JavaSparkPi.java\n",
            "spark-3.0.0-preview2-bin-hadoop2.7/examples/src/main/java/org/apache/spark/examples/sql/\n",
            "spark-3.0.0-preview2-bin-hadoop2.7/examples/src/main/java/org/apache/spark/examples/sql/JavaSQLDataSourceExample.java\n",
            "spark-3.0.0-preview2-bin-hadoop2.7/examples/src/main/java/org/apache/spark/examples/sql/streaming/\n",
            "spark-3.0.0-preview2-bin-hadoop2.7/examples/src/main/java/org/apache/spark/examples/sql/streaming/JavaStructuredKerberizedKafkaWordCount.java\n",
            "spark-3.0.0-preview2-bin-hadoop2.7/examples/src/main/java/org/apache/spark/examples/sql/streaming/JavaStructuredSessionization.java\n",
            "spark-3.0.0-preview2-bin-hadoop2.7/examples/src/main/java/org/apache/spark/examples/sql/streaming/JavaStructuredNetworkWordCountWindowed.java\n",
            "spark-3.0.0-preview2-bin-hadoop2.7/examples/src/main/java/org/apache/spark/examples/sql/streaming/JavaStructuredNetworkWordCount.java\n",
            "spark-3.0.0-preview2-bin-hadoop2.7/examples/src/main/java/org/apache/spark/examples/sql/streaming/JavaStructuredKafkaWordCount.java\n",
            "spark-3.0.0-preview2-bin-hadoop2.7/examples/src/main/java/org/apache/spark/examples/sql/JavaUserDefinedTypedAggregation.java\n",
            "spark-3.0.0-preview2-bin-hadoop2.7/examples/src/main/java/org/apache/spark/examples/sql/JavaUserDefinedUntypedAggregation.java\n",
            "spark-3.0.0-preview2-bin-hadoop2.7/examples/src/main/java/org/apache/spark/examples/sql/hive/\n",
            "spark-3.0.0-preview2-bin-hadoop2.7/examples/src/main/java/org/apache/spark/examples/sql/hive/JavaSparkHiveExample.java\n",
            "spark-3.0.0-preview2-bin-hadoop2.7/examples/src/main/java/org/apache/spark/examples/sql/JavaSparkSQLExample.java\n",
            "spark-3.0.0-preview2-bin-hadoop2.7/examples/src/main/java/org/apache/spark/examples/JavaWordCount.java\n",
            "spark-3.0.0-preview2-bin-hadoop2.7/examples/src/main/java/org/apache/spark/examples/mllib/\n",
            "spark-3.0.0-preview2-bin-hadoop2.7/examples/src/main/java/org/apache/spark/examples/mllib/JavaKMeansExample.java\n",
            "spark-3.0.0-preview2-bin-hadoop2.7/examples/src/main/java/org/apache/spark/examples/mllib/JavaPrefixSpanExample.java\n",
            "spark-3.0.0-preview2-bin-hadoop2.7/examples/src/main/java/org/apache/spark/examples/mllib/JavaGradientBoostingRegressionExample.java\n",
            "spark-3.0.0-preview2-bin-hadoop2.7/examples/src/main/java/org/apache/spark/examples/mllib/JavaElementwiseProductExample.java\n",
            "spark-3.0.0-preview2-bin-hadoop2.7/examples/src/main/java/org/apache/spark/examples/mllib/JavaKernelDensityEstimationExample.java\n",
            "spark-3.0.0-preview2-bin-hadoop2.7/examples/src/main/java/org/apache/spark/examples/mllib/JavaRankingMetricsExample.java\n",
            "spark-3.0.0-preview2-bin-hadoop2.7/examples/src/main/java/org/apache/spark/examples/mllib/JavaALS.java\n",
            "spark-3.0.0-preview2-bin-hadoop2.7/examples/src/main/java/org/apache/spark/examples/mllib/JavaHypothesisTestingExample.java\n",
            "spark-3.0.0-preview2-bin-hadoop2.7/examples/src/main/java/org/apache/spark/examples/mllib/JavaSummaryStatisticsExample.java\n",
            "spark-3.0.0-preview2-bin-hadoop2.7/examples/src/main/java/org/apache/spark/examples/mllib/JavaStratifiedSamplingExample.java\n",
            "spark-3.0.0-preview2-bin-hadoop2.7/examples/src/main/java/org/apache/spark/examples/mllib/JavaDecisionTreeClassificationExample.java\n",
            "spark-3.0.0-preview2-bin-hadoop2.7/examples/src/main/java/org/apache/spark/examples/mllib/JavaRandomForestRegressionExample.java\n",
            "spark-3.0.0-preview2-bin-hadoop2.7/examples/src/main/java/org/apache/spark/examples/mllib/JavaLogisticRegressionWithLBFGSExample.java\n",
            "spark-3.0.0-preview2-bin-hadoop2.7/examples/src/main/java/org/apache/spark/examples/mllib/JavaMulticlassClassificationMetricsExample.java\n",
            "spark-3.0.0-preview2-bin-hadoop2.7/examples/src/main/java/org/apache/spark/examples/mllib/JavaSVMWithSGDExample.java\n",
            "spark-3.0.0-preview2-bin-hadoop2.7/examples/src/main/java/org/apache/spark/examples/mllib/JavaLBFGSExample.java\n",
            "spark-3.0.0-preview2-bin-hadoop2.7/examples/src/main/java/org/apache/spark/examples/mllib/JavaStreamingTestExample.java\n",
            "spark-3.0.0-preview2-bin-hadoop2.7/examples/src/main/java/org/apache/spark/examples/mllib/JavaGaussianMixtureExample.java\n",
            "spark-3.0.0-preview2-bin-hadoop2.7/examples/src/main/java/org/apache/spark/examples/mllib/JavaAssociationRulesExample.java\n",
            "spark-3.0.0-preview2-bin-hadoop2.7/examples/src/main/java/org/apache/spark/examples/mllib/JavaRecommendationExample.java\n",
            "spark-3.0.0-preview2-bin-hadoop2.7/examples/src/main/java/org/apache/spark/examples/mllib/JavaMultiLabelClassificationMetricsExample.java\n",
            "spark-3.0.0-preview2-bin-hadoop2.7/examples/src/main/java/org/apache/spark/examples/mllib/JavaChiSqSelectorExample.java\n",
            "spark-3.0.0-preview2-bin-hadoop2.7/examples/src/main/java/org/apache/spark/examples/mllib/JavaPCAExample.java\n",
            "spark-3.0.0-preview2-bin-hadoop2.7/examples/src/main/java/org/apache/spark/examples/mllib/JavaDecisionTreeRegressionExample.java\n",
            "spark-3.0.0-preview2-bin-hadoop2.7/examples/src/main/java/org/apache/spark/examples/mllib/JavaSVDExample.java\n",
            "spark-3.0.0-preview2-bin-hadoop2.7/examples/src/main/java/org/apache/spark/examples/mllib/JavaLatentDirichletAllocationExample.java\n",
            "spark-3.0.0-preview2-bin-hadoop2.7/examples/src/main/java/org/apache/spark/examples/mllib/JavaNaiveBayesExample.java\n",
            "spark-3.0.0-preview2-bin-hadoop2.7/examples/src/main/java/org/apache/spark/examples/mllib/JavaBisectingKMeansExample.java\n",
            "spark-3.0.0-preview2-bin-hadoop2.7/examples/src/main/java/org/apache/spark/examples/mllib/JavaHypothesisTestingKolmogorovSmirnovTestExample.java\n",
            "spark-3.0.0-preview2-bin-hadoop2.7/examples/src/main/java/org/apache/spark/examples/mllib/JavaRandomForestClassificationExample.java\n",
            "spark-3.0.0-preview2-bin-hadoop2.7/examples/src/main/java/org/apache/spark/examples/mllib/JavaSimpleFPGrowth.java\n",
            "spark-3.0.0-preview2-bin-hadoop2.7/examples/src/main/java/org/apache/spark/examples/mllib/JavaBinaryClassificationMetricsExample.java\n",
            "spark-3.0.0-preview2-bin-hadoop2.7/examples/src/main/java/org/apache/spark/examples/mllib/JavaGradientBoostingClassificationExample.java\n",
            "spark-3.0.0-preview2-bin-hadoop2.7/examples/src/main/java/org/apache/spark/examples/mllib/JavaIsotonicRegressionExample.java\n",
            "spark-3.0.0-preview2-bin-hadoop2.7/examples/src/main/java/org/apache/spark/examples/mllib/JavaCorrelationsExample.java\n",
            "spark-3.0.0-preview2-bin-hadoop2.7/examples/src/main/java/org/apache/spark/examples/mllib/JavaPowerIterationClusteringExample.java\n",
            "spark-3.0.0-preview2-bin-hadoop2.7/examples/src/main/java/org/apache/spark/examples/JavaTC.java\n",
            "spark-3.0.0-preview2-bin-hadoop2.7/examples/src/main/python/\n",
            "spark-3.0.0-preview2-bin-hadoop2.7/examples/src/main/python/ml/\n",
            "spark-3.0.0-preview2-bin-hadoop2.7/examples/src/main/python/ml/correlation_example.py\n",
            "spark-3.0.0-preview2-bin-hadoop2.7/examples/src/main/python/ml/word2vec_example.py\n",
            "spark-3.0.0-preview2-bin-hadoop2.7/examples/src/main/python/ml/gaussian_mixture_example.py\n",
            "spark-3.0.0-preview2-bin-hadoop2.7/examples/src/main/python/ml/multiclass_logistic_regression_with_elastic_net.py\n",
            "spark-3.0.0-preview2-bin-hadoop2.7/examples/src/main/python/ml/bisecting_k_means_example.py\n",
            "spark-3.0.0-preview2-bin-hadoop2.7/examples/src/main/python/ml/max_abs_scaler_example.py\n",
            "spark-3.0.0-preview2-bin-hadoop2.7/examples/src/main/python/ml/tf_idf_example.py\n",
            "spark-3.0.0-preview2-bin-hadoop2.7/examples/src/main/python/ml/index_to_string_example.py\n",
            "spark-3.0.0-preview2-bin-hadoop2.7/examples/src/main/python/ml/linearsvc.py\n",
            "spark-3.0.0-preview2-bin-hadoop2.7/examples/src/main/python/ml/random_forest_classifier_example.py\n",
            "spark-3.0.0-preview2-bin-hadoop2.7/examples/src/main/python/ml/train_validation_split.py\n",
            "spark-3.0.0-preview2-bin-hadoop2.7/examples/src/main/python/ml/chi_square_test_example.py\n",
            "spark-3.0.0-preview2-bin-hadoop2.7/examples/src/main/python/ml/vector_size_hint_example.py\n",
            "spark-3.0.0-preview2-bin-hadoop2.7/examples/src/main/python/ml/aft_survival_regression.py\n",
            "spark-3.0.0-preview2-bin-hadoop2.7/examples/src/main/python/ml/string_indexer_example.py\n",
            "spark-3.0.0-preview2-bin-hadoop2.7/examples/src/main/python/ml/estimator_transformer_param_example.py\n",
            "spark-3.0.0-preview2-bin-hadoop2.7/examples/src/main/python/ml/binarizer_example.py\n",
            "spark-3.0.0-preview2-bin-hadoop2.7/examples/src/main/python/ml/bucketed_random_projection_lsh_example.py\n",
            "spark-3.0.0-preview2-bin-hadoop2.7/examples/src/main/python/ml/multilayer_perceptron_classification.py\n",
            "spark-3.0.0-preview2-bin-hadoop2.7/examples/src/main/python/ml/stopwords_remover_example.py\n",
            "spark-3.0.0-preview2-bin-hadoop2.7/examples/src/main/python/ml/vector_indexer_example.py\n",
            "spark-3.0.0-preview2-bin-hadoop2.7/examples/src/main/python/ml/normalizer_example.py\n",
            "spark-3.0.0-preview2-bin-hadoop2.7/examples/src/main/python/ml/cross_validator.py\n",
            "spark-3.0.0-preview2-bin-hadoop2.7/examples/src/main/python/ml/logistic_regression_summary_example.py\n",
            "spark-3.0.0-preview2-bin-hadoop2.7/examples/src/main/python/ml/decision_tree_regression_example.py\n",
            "spark-3.0.0-preview2-bin-hadoop2.7/examples/src/main/python/ml/generalized_linear_regression_example.py\n",
            "spark-3.0.0-preview2-bin-hadoop2.7/examples/src/main/python/ml/random_forest_regressor_example.py\n",
            "spark-3.0.0-preview2-bin-hadoop2.7/examples/src/main/python/ml/dct_example.py\n",
            "spark-3.0.0-preview2-bin-hadoop2.7/examples/src/main/python/ml/vector_assembler_example.py\n",
            "spark-3.0.0-preview2-bin-hadoop2.7/examples/src/main/python/ml/elementwise_product_example.py\n",
            "spark-3.0.0-preview2-bin-hadoop2.7/examples/src/main/python/ml/lda_example.py\n",
            "spark-3.0.0-preview2-bin-hadoop2.7/examples/src/main/python/ml/linear_regression_with_elastic_net.py\n",
            "spark-3.0.0-preview2-bin-hadoop2.7/examples/src/main/python/ml/standard_scaler_example.py\n",
            "spark-3.0.0-preview2-bin-hadoop2.7/examples/src/main/python/ml/polynomial_expansion_example.py\n",
            "spark-3.0.0-preview2-bin-hadoop2.7/examples/src/main/python/ml/n_gram_example.py\n",
            "spark-3.0.0-preview2-bin-hadoop2.7/examples/src/main/python/ml/one_vs_rest_example.py\n",
            "spark-3.0.0-preview2-bin-hadoop2.7/examples/src/main/python/ml/bucketizer_example.py\n",
            "spark-3.0.0-preview2-bin-hadoop2.7/examples/src/main/python/ml/als_example.py\n",
            "spark-3.0.0-preview2-bin-hadoop2.7/examples/src/main/python/ml/isotonic_regression_example.py\n",
            "spark-3.0.0-preview2-bin-hadoop2.7/examples/src/main/python/ml/chisq_selector_example.py\n",
            "spark-3.0.0-preview2-bin-hadoop2.7/examples/src/main/python/ml/sql_transformer.py\n",
            "spark-3.0.0-preview2-bin-hadoop2.7/examples/src/main/python/ml/dataframe_example.py\n",
            "spark-3.0.0-preview2-bin-hadoop2.7/examples/src/main/python/ml/feature_hasher_example.py\n",
            "spark-3.0.0-preview2-bin-hadoop2.7/examples/src/main/python/ml/imputer_example.py\n",
            "spark-3.0.0-preview2-bin-hadoop2.7/examples/src/main/python/ml/tokenizer_example.py\n",
            "spark-3.0.0-preview2-bin-hadoop2.7/examples/src/main/python/ml/logistic_regression_with_elastic_net.py\n",
            "spark-3.0.0-preview2-bin-hadoop2.7/examples/src/main/python/ml/pipeline_example.py\n",
            "spark-3.0.0-preview2-bin-hadoop2.7/examples/src/main/python/ml/gradient_boosted_tree_regressor_example.py\n",
            "spark-3.0.0-preview2-bin-hadoop2.7/examples/src/main/python/ml/summarizer_example.py\n",
            "spark-3.0.0-preview2-bin-hadoop2.7/examples/src/main/python/ml/min_max_scaler_example.py\n",
            "spark-3.0.0-preview2-bin-hadoop2.7/examples/src/main/python/ml/gradient_boosted_tree_classifier_example.py\n",
            "spark-3.0.0-preview2-bin-hadoop2.7/examples/src/main/python/ml/quantile_discretizer_example.py\n",
            "spark-3.0.0-preview2-bin-hadoop2.7/examples/src/main/python/ml/power_iteration_clustering_example.py\n",
            "spark-3.0.0-preview2-bin-hadoop2.7/examples/src/main/python/ml/onehot_encoder_example.py\n",
            "spark-3.0.0-preview2-bin-hadoop2.7/examples/src/main/python/ml/rformula_example.py\n",
            "spark-3.0.0-preview2-bin-hadoop2.7/examples/src/main/python/ml/vector_slicer_example.py\n",
            "spark-3.0.0-preview2-bin-hadoop2.7/examples/src/main/python/ml/interaction_example.py\n",
            "spark-3.0.0-preview2-bin-hadoop2.7/examples/src/main/python/ml/pca_example.py\n",
            "spark-3.0.0-preview2-bin-hadoop2.7/examples/src/main/python/ml/count_vectorizer_example.py\n",
            "spark-3.0.0-preview2-bin-hadoop2.7/examples/src/main/python/ml/decision_tree_classification_example.py\n",
            "spark-3.0.0-preview2-bin-hadoop2.7/examples/src/main/python/ml/kmeans_example.py\n",
            "spark-3.0.0-preview2-bin-hadoop2.7/examples/src/main/python/ml/naive_bayes_example.py\n",
            "spark-3.0.0-preview2-bin-hadoop2.7/examples/src/main/python/ml/min_hash_lsh_example.py\n",
            "spark-3.0.0-preview2-bin-hadoop2.7/examples/src/main/python/ml/robust_scaler_example.py\n",
            "spark-3.0.0-preview2-bin-hadoop2.7/examples/src/main/python/ml/prefixspan_example.py\n",
            "spark-3.0.0-preview2-bin-hadoop2.7/examples/src/main/python/ml/fpgrowth_example.py\n",
            "spark-3.0.0-preview2-bin-hadoop2.7/examples/src/main/python/streaming/\n",
            "spark-3.0.0-preview2-bin-hadoop2.7/examples/src/main/python/streaming/queue_stream.py\n",
            "spark-3.0.0-preview2-bin-hadoop2.7/examples/src/main/python/streaming/network_wordjoinsentiments.py\n",
            "spark-3.0.0-preview2-bin-hadoop2.7/examples/src/main/python/streaming/hdfs_wordcount.py\n",
            "spark-3.0.0-preview2-bin-hadoop2.7/examples/src/main/python/streaming/network_wordcount.py\n",
            "spark-3.0.0-preview2-bin-hadoop2.7/examples/src/main/python/streaming/sql_network_wordcount.py\n",
            "spark-3.0.0-preview2-bin-hadoop2.7/examples/src/main/python/streaming/recoverable_network_wordcount.py\n",
            "spark-3.0.0-preview2-bin-hadoop2.7/examples/src/main/python/streaming/stateful_network_wordcount.py\n",
            "spark-3.0.0-preview2-bin-hadoop2.7/examples/src/main/python/wordcount.py\n",
            "spark-3.0.0-preview2-bin-hadoop2.7/examples/src/main/python/transitive_closure.py\n",
            "spark-3.0.0-preview2-bin-hadoop2.7/examples/src/main/python/status_api_demo.py\n",
            "spark-3.0.0-preview2-bin-hadoop2.7/examples/src/main/python/kmeans.py\n",
            "spark-3.0.0-preview2-bin-hadoop2.7/examples/src/main/python/pi.py\n",
            "spark-3.0.0-preview2-bin-hadoop2.7/examples/src/main/python/sql/\n",
            "spark-3.0.0-preview2-bin-hadoop2.7/examples/src/main/python/sql/streaming/\n",
            "spark-3.0.0-preview2-bin-hadoop2.7/examples/src/main/python/sql/streaming/structured_network_wordcount.py\n",
            "spark-3.0.0-preview2-bin-hadoop2.7/examples/src/main/python/sql/streaming/structured_network_wordcount_windowed.py\n",
            "spark-3.0.0-preview2-bin-hadoop2.7/examples/src/main/python/sql/streaming/structured_kafka_wordcount.py\n",
            "spark-3.0.0-preview2-bin-hadoop2.7/examples/src/main/python/sql/hive.py\n",
            "spark-3.0.0-preview2-bin-hadoop2.7/examples/src/main/python/sql/basic.py\n",
            "spark-3.0.0-preview2-bin-hadoop2.7/examples/src/main/python/sql/arrow.py\n",
            "spark-3.0.0-preview2-bin-hadoop2.7/examples/src/main/python/sql/datasource.py\n",
            "spark-3.0.0-preview2-bin-hadoop2.7/examples/src/main/python/avro_inputformat.py\n",
            "spark-3.0.0-preview2-bin-hadoop2.7/examples/src/main/python/sort.py\n",
            "spark-3.0.0-preview2-bin-hadoop2.7/examples/src/main/python/pagerank.py\n",
            "spark-3.0.0-preview2-bin-hadoop2.7/examples/src/main/python/mllib/\n",
            "spark-3.0.0-preview2-bin-hadoop2.7/examples/src/main/python/mllib/word2vec_example.py\n",
            "spark-3.0.0-preview2-bin-hadoop2.7/examples/src/main/python/mllib/multi_label_metrics_example.py\n",
            "spark-3.0.0-preview2-bin-hadoop2.7/examples/src/main/python/mllib/gaussian_mixture_example.py\n",
            "spark-3.0.0-preview2-bin-hadoop2.7/examples/src/main/python/mllib/bisecting_k_means_example.py\n",
            "spark-3.0.0-preview2-bin-hadoop2.7/examples/src/main/python/mllib/tf_idf_example.py\n",
            "spark-3.0.0-preview2-bin-hadoop2.7/examples/src/main/python/mllib/logistic_regression_with_lbfgs_example.py\n",
            "spark-3.0.0-preview2-bin-hadoop2.7/examples/src/main/python/mllib/hypothesis_testing_example.py\n",
            "spark-3.0.0-preview2-bin-hadoop2.7/examples/src/main/python/mllib/gradient_boosting_classification_example.py\n",
            "spark-3.0.0-preview2-bin-hadoop2.7/examples/src/main/python/mllib/regression_metrics_example.py\n",
            "spark-3.0.0-preview2-bin-hadoop2.7/examples/src/main/python/mllib/normalizer_example.py\n",
            "spark-3.0.0-preview2-bin-hadoop2.7/examples/src/main/python/mllib/decision_tree_regression_example.py\n",
            "spark-3.0.0-preview2-bin-hadoop2.7/examples/src/main/python/mllib/kmeans.py\n",
            "spark-3.0.0-preview2-bin-hadoop2.7/examples/src/main/python/mllib/hypothesis_testing_kolmogorov_smirnov_test_example.py\n",
            "spark-3.0.0-preview2-bin-hadoop2.7/examples/src/main/python/mllib/elementwise_product_example.py\n",
            "spark-3.0.0-preview2-bin-hadoop2.7/examples/src/main/python/mllib/random_rdd_generation.py\n",
            "spark-3.0.0-preview2-bin-hadoop2.7/examples/src/main/python/mllib/latent_dirichlet_allocation_example.py\n",
            "spark-3.0.0-preview2-bin-hadoop2.7/examples/src/main/python/mllib/word2vec.py\n",
            "spark-3.0.0-preview2-bin-hadoop2.7/examples/src/main/python/mllib/binary_classification_metrics_example.py\n",
            "spark-3.0.0-preview2-bin-hadoop2.7/examples/src/main/python/mllib/stratified_sampling_example.py\n",
            "spark-3.0.0-preview2-bin-hadoop2.7/examples/src/main/python/mllib/random_forest_regression_example.py\n",
            "spark-3.0.0-preview2-bin-hadoop2.7/examples/src/main/python/mllib/correlations.py\n",
            "spark-3.0.0-preview2-bin-hadoop2.7/examples/src/main/python/mllib/standard_scaler_example.py\n",
            "spark-3.0.0-preview2-bin-hadoop2.7/examples/src/main/python/mllib/correlations_example.py\n",
            "spark-3.0.0-preview2-bin-hadoop2.7/examples/src/main/python/mllib/svm_with_sgd_example.py\n",
            "spark-3.0.0-preview2-bin-hadoop2.7/examples/src/main/python/mllib/k_means_example.py\n",
            "spark-3.0.0-preview2-bin-hadoop2.7/examples/src/main/python/mllib/isotonic_regression_example.py\n",
            "spark-3.0.0-preview2-bin-hadoop2.7/examples/src/main/python/mllib/summary_statistics_example.py\n",
            "spark-3.0.0-preview2-bin-hadoop2.7/examples/src/main/python/mllib/streaming_linear_regression_example.py\n",
            "spark-3.0.0-preview2-bin-hadoop2.7/examples/src/main/python/mllib/recommendation_example.py\n",
            "spark-3.0.0-preview2-bin-hadoop2.7/examples/src/main/python/mllib/multi_class_metrics_example.py\n",
            "spark-3.0.0-preview2-bin-hadoop2.7/examples/src/main/python/mllib/streaming_k_means_example.py\n",
            "spark-3.0.0-preview2-bin-hadoop2.7/examples/src/main/python/mllib/gradient_boosting_regression_example.py\n",
            "spark-3.0.0-preview2-bin-hadoop2.7/examples/src/main/python/mllib/logistic_regression.py\n",
            "spark-3.0.0-preview2-bin-hadoop2.7/examples/src/main/python/mllib/pca_rowmatrix_example.py\n",
            "spark-3.0.0-preview2-bin-hadoop2.7/examples/src/main/python/mllib/power_iteration_clustering_example.py\n",
            "spark-3.0.0-preview2-bin-hadoop2.7/examples/src/main/python/mllib/linear_regression_with_sgd_example.py\n",
            "spark-3.0.0-preview2-bin-hadoop2.7/examples/src/main/python/mllib/sampled_rdds.py\n",
            "spark-3.0.0-preview2-bin-hadoop2.7/examples/src/main/python/mllib/random_forest_classification_example.py\n",
            "spark-3.0.0-preview2-bin-hadoop2.7/examples/src/main/python/mllib/svd_example.py\n",
            "spark-3.0.0-preview2-bin-hadoop2.7/examples/src/main/python/mllib/decision_tree_classification_example.py\n",
            "spark-3.0.0-preview2-bin-hadoop2.7/examples/src/main/python/mllib/naive_bayes_example.py\n",
            "spark-3.0.0-preview2-bin-hadoop2.7/examples/src/main/python/mllib/kernel_density_estimation_example.py\n",
            "spark-3.0.0-preview2-bin-hadoop2.7/examples/src/main/python/mllib/fpgrowth_example.py\n",
            "spark-3.0.0-preview2-bin-hadoop2.7/examples/src/main/python/mllib/gaussian_mixture_model.py\n",
            "spark-3.0.0-preview2-bin-hadoop2.7/examples/src/main/python/mllib/ranking_metrics_example.py\n",
            "spark-3.0.0-preview2-bin-hadoop2.7/examples/src/main/python/logistic_regression.py\n",
            "spark-3.0.0-preview2-bin-hadoop2.7/examples/src/main/python/parquet_inputformat.py\n",
            "spark-3.0.0-preview2-bin-hadoop2.7/examples/src/main/python/als.py\n",
            "spark-3.0.0-preview2-bin-hadoop2.7/examples/src/main/scala/\n",
            "spark-3.0.0-preview2-bin-hadoop2.7/examples/src/main/scala/org/\n",
            "spark-3.0.0-preview2-bin-hadoop2.7/examples/src/main/scala/org/apache/\n",
            "spark-3.0.0-preview2-bin-hadoop2.7/examples/src/main/scala/org/apache/spark/\n",
            "spark-3.0.0-preview2-bin-hadoop2.7/examples/src/main/scala/org/apache/spark/examples/\n",
            "spark-3.0.0-preview2-bin-hadoop2.7/examples/src/main/scala/org/apache/spark/examples/SparkRemoteFileTest.scala\n",
            "spark-3.0.0-preview2-bin-hadoop2.7/examples/src/main/scala/org/apache/spark/examples/ml/\n",
            "spark-3.0.0-preview2-bin-hadoop2.7/examples/src/main/scala/org/apache/spark/examples/ml/PolynomialExpansionExample.scala\n",
            "spark-3.0.0-preview2-bin-hadoop2.7/examples/src/main/scala/org/apache/spark/examples/ml/LDAExample.scala\n",
            "spark-3.0.0-preview2-bin-hadoop2.7/examples/src/main/scala/org/apache/spark/examples/ml/BisectingKMeansExample.scala\n",
            "spark-3.0.0-preview2-bin-hadoop2.7/examples/src/main/scala/org/apache/spark/examples/ml/GBTExample.scala\n",
            "spark-3.0.0-preview2-bin-hadoop2.7/examples/src/main/scala/org/apache/spark/examples/ml/FeatureHasherExample.scala\n",
            "spark-3.0.0-preview2-bin-hadoop2.7/examples/src/main/scala/org/apache/spark/examples/ml/BucketizerExample.scala\n",
            "spark-3.0.0-preview2-bin-hadoop2.7/examples/src/main/scala/org/apache/spark/examples/ml/NormalizerExample.scala\n",
            "spark-3.0.0-preview2-bin-hadoop2.7/examples/src/main/scala/org/apache/spark/examples/ml/PCAExample.scala\n",
            "spark-3.0.0-preview2-bin-hadoop2.7/examples/src/main/scala/org/apache/spark/examples/ml/PowerIterationClusteringExample.scala\n",
            "spark-3.0.0-preview2-bin-hadoop2.7/examples/src/main/scala/org/apache/spark/examples/ml/StringIndexerExample.scala\n",
            "spark-3.0.0-preview2-bin-hadoop2.7/examples/src/main/scala/org/apache/spark/examples/ml/SummarizerExample.scala\n",
            "spark-3.0.0-preview2-bin-hadoop2.7/examples/src/main/scala/org/apache/spark/examples/ml/RFormulaExample.scala\n",
            "spark-3.0.0-preview2-bin-hadoop2.7/examples/src/main/scala/org/apache/spark/examples/ml/VectorAssemblerExample.scala\n",
            "spark-3.0.0-preview2-bin-hadoop2.7/examples/src/main/scala/org/apache/spark/examples/ml/ImputerExample.scala\n",
            "spark-3.0.0-preview2-bin-hadoop2.7/examples/src/main/scala/org/apache/spark/examples/ml/CountVectorizerExample.scala\n",
            "spark-3.0.0-preview2-bin-hadoop2.7/examples/src/main/scala/org/apache/spark/examples/ml/MinHashLSHExample.scala\n",
            "spark-3.0.0-preview2-bin-hadoop2.7/examples/src/main/scala/org/apache/spark/examples/ml/DCTExample.scala\n",
            "spark-3.0.0-preview2-bin-hadoop2.7/examples/src/main/scala/org/apache/spark/examples/ml/RandomForestRegressorExample.scala\n",
            "spark-3.0.0-preview2-bin-hadoop2.7/examples/src/main/scala/org/apache/spark/examples/ml/StopWordsRemoverExample.scala\n",
            "spark-3.0.0-preview2-bin-hadoop2.7/examples/src/main/scala/org/apache/spark/examples/ml/ModelSelectionViaCrossValidationExample.scala\n",
            "spark-3.0.0-preview2-bin-hadoop2.7/examples/src/main/scala/org/apache/spark/examples/ml/PrefixSpanExample.scala\n",
            "spark-3.0.0-preview2-bin-hadoop2.7/examples/src/main/scala/org/apache/spark/examples/ml/ChiSquareTestExample.scala\n",
            "spark-3.0.0-preview2-bin-hadoop2.7/examples/src/main/scala/org/apache/spark/examples/ml/LogisticRegressionSummaryExample.scala\n",
            "spark-3.0.0-preview2-bin-hadoop2.7/examples/src/main/scala/org/apache/spark/examples/ml/MultilayerPerceptronClassifierExample.scala\n",
            "spark-3.0.0-preview2-bin-hadoop2.7/examples/src/main/scala/org/apache/spark/examples/ml/Word2VecExample.scala\n",
            "spark-3.0.0-preview2-bin-hadoop2.7/examples/src/main/scala/org/apache/spark/examples/ml/StandardScalerExample.scala\n",
            "spark-3.0.0-preview2-bin-hadoop2.7/examples/src/main/scala/org/apache/spark/examples/ml/BucketedRandomProjectionLSHExample.scala\n",
            "spark-3.0.0-preview2-bin-hadoop2.7/examples/src/main/scala/org/apache/spark/examples/ml/GradientBoostedTreeClassifierExample.scala\n",
            "spark-3.0.0-preview2-bin-hadoop2.7/examples/src/main/scala/org/apache/spark/examples/ml/VectorSlicerExample.scala\n",
            "spark-3.0.0-preview2-bin-hadoop2.7/examples/src/main/scala/org/apache/spark/examples/ml/BinarizerExample.scala\n",
            "spark-3.0.0-preview2-bin-hadoop2.7/examples/src/main/scala/org/apache/spark/examples/ml/OneHotEncoderExample.scala\n",
            "spark-3.0.0-preview2-bin-hadoop2.7/examples/src/main/scala/org/apache/spark/examples/ml/InteractionExample.scala\n",
            "spark-3.0.0-preview2-bin-hadoop2.7/examples/src/main/scala/org/apache/spark/examples/ml/IsotonicRegressionExample.scala\n",
            "spark-3.0.0-preview2-bin-hadoop2.7/examples/src/main/scala/org/apache/spark/examples/ml/SQLTransformerExample.scala\n",
            "spark-3.0.0-preview2-bin-hadoop2.7/examples/src/main/scala/org/apache/spark/examples/ml/NaiveBayesExample.scala\n",
            "spark-3.0.0-preview2-bin-hadoop2.7/examples/src/main/scala/org/apache/spark/examples/ml/PipelineExample.scala\n",
            "spark-3.0.0-preview2-bin-hadoop2.7/examples/src/main/scala/org/apache/spark/examples/ml/TokenizerExample.scala\n",
            "spark-3.0.0-preview2-bin-hadoop2.7/examples/src/main/scala/org/apache/spark/examples/ml/ALSExample.scala\n",
            "spark-3.0.0-preview2-bin-hadoop2.7/examples/src/main/scala/org/apache/spark/examples/ml/KMeansExample.scala\n",
            "spark-3.0.0-preview2-bin-hadoop2.7/examples/src/main/scala/org/apache/spark/examples/ml/MulticlassLogisticRegressionWithElasticNetExample.scala\n",
            "spark-3.0.0-preview2-bin-hadoop2.7/examples/src/main/scala/org/apache/spark/examples/ml/OneVsRestExample.scala\n",
            "spark-3.0.0-preview2-bin-hadoop2.7/examples/src/main/scala/org/apache/spark/examples/ml/DataFrameExample.scala\n",
            "spark-3.0.0-preview2-bin-hadoop2.7/examples/src/main/scala/org/apache/spark/examples/ml/AFTSurvivalRegressionExample.scala\n",
            "spark-3.0.0-preview2-bin-hadoop2.7/examples/src/main/scala/org/apache/spark/examples/ml/RandomForestClassifierExample.scala\n",
            "spark-3.0.0-preview2-bin-hadoop2.7/examples/src/main/scala/org/apache/spark/examples/ml/VectorIndexerExample.scala\n",
            "spark-3.0.0-preview2-bin-hadoop2.7/examples/src/main/scala/org/apache/spark/examples/ml/EstimatorTransformerParamExample.scala\n",
            "spark-3.0.0-preview2-bin-hadoop2.7/examples/src/main/scala/org/apache/spark/examples/ml/ElementwiseProductExample.scala\n",
            "spark-3.0.0-preview2-bin-hadoop2.7/examples/src/main/scala/org/apache/spark/examples/ml/DecisionTreeClassificationExample.scala\n",
            "spark-3.0.0-preview2-bin-hadoop2.7/examples/src/main/scala/org/apache/spark/examples/ml/FPGrowthExample.scala\n",
            "spark-3.0.0-preview2-bin-hadoop2.7/examples/src/main/scala/org/apache/spark/examples/ml/RandomForestExample.scala\n",
            "spark-3.0.0-preview2-bin-hadoop2.7/examples/src/main/scala/org/apache/spark/examples/ml/GaussianMixtureExample.scala\n",
            "spark-3.0.0-preview2-bin-hadoop2.7/examples/src/main/scala/org/apache/spark/examples/ml/LogisticRegressionExample.scala\n",
            "spark-3.0.0-preview2-bin-hadoop2.7/examples/src/main/scala/org/apache/spark/examples/ml/LinearSVCExample.scala\n",
            "spark-3.0.0-preview2-bin-hadoop2.7/examples/src/main/scala/org/apache/spark/examples/ml/NGramExample.scala\n",
            "spark-3.0.0-preview2-bin-hadoop2.7/examples/src/main/scala/org/apache/spark/examples/ml/VectorSizeHintExample.scala\n",
            "spark-3.0.0-preview2-bin-hadoop2.7/examples/src/main/scala/org/apache/spark/examples/ml/LogisticRegressionWithElasticNetExample.scala\n",
            "spark-3.0.0-preview2-bin-hadoop2.7/examples/src/main/scala/org/apache/spark/examples/ml/UnaryTransformerExample.scala\n",
            "spark-3.0.0-preview2-bin-hadoop2.7/examples/src/main/scala/org/apache/spark/examples/ml/DeveloperApiExample.scala\n",
            "spark-3.0.0-preview2-bin-hadoop2.7/examples/src/main/scala/org/apache/spark/examples/ml/QuantileDiscretizerExample.scala\n",
            "spark-3.0.0-preview2-bin-hadoop2.7/examples/src/main/scala/org/apache/spark/examples/ml/LinearRegressionExample.scala\n",
            "spark-3.0.0-preview2-bin-hadoop2.7/examples/src/main/scala/org/apache/spark/examples/ml/RobustScalerExample.scala\n",
            "spark-3.0.0-preview2-bin-hadoop2.7/examples/src/main/scala/org/apache/spark/examples/ml/ChiSqSelectorExample.scala\n",
            "spark-3.0.0-preview2-bin-hadoop2.7/examples/src/main/scala/org/apache/spark/examples/ml/MinMaxScalerExample.scala\n",
            "spark-3.0.0-preview2-bin-hadoop2.7/examples/src/main/scala/org/apache/spark/examples/ml/MaxAbsScalerExample.scala\n",
            "spark-3.0.0-preview2-bin-hadoop2.7/examples/src/main/scala/org/apache/spark/examples/ml/TfIdfExample.scala\n",
            "spark-3.0.0-preview2-bin-hadoop2.7/examples/src/main/scala/org/apache/spark/examples/ml/GradientBoostedTreeRegressorExample.scala\n",
            "spark-3.0.0-preview2-bin-hadoop2.7/examples/src/main/scala/org/apache/spark/examples/ml/GeneralizedLinearRegressionExample.scala\n",
            "spark-3.0.0-preview2-bin-hadoop2.7/examples/src/main/scala/org/apache/spark/examples/ml/ModelSelectionViaTrainValidationSplitExample.scala\n",
            "spark-3.0.0-preview2-bin-hadoop2.7/examples/src/main/scala/org/apache/spark/examples/ml/CorrelationExample.scala\n",
            "spark-3.0.0-preview2-bin-hadoop2.7/examples/src/main/scala/org/apache/spark/examples/ml/DecisionTreeRegressionExample.scala\n",
            "spark-3.0.0-preview2-bin-hadoop2.7/examples/src/main/scala/org/apache/spark/examples/ml/IndexToStringExample.scala\n",
            "spark-3.0.0-preview2-bin-hadoop2.7/examples/src/main/scala/org/apache/spark/examples/ml/LinearRegressionWithElasticNetExample.scala\n",
            "spark-3.0.0-preview2-bin-hadoop2.7/examples/src/main/scala/org/apache/spark/examples/ml/DecisionTreeExample.scala\n",
            "spark-3.0.0-preview2-bin-hadoop2.7/examples/src/main/scala/org/apache/spark/examples/streaming/\n",
            "spark-3.0.0-preview2-bin-hadoop2.7/examples/src/main/scala/org/apache/spark/examples/streaming/SqlNetworkWordCount.scala\n",
            "spark-3.0.0-preview2-bin-hadoop2.7/examples/src/main/scala/org/apache/spark/examples/streaming/StreamingExamples.scala\n",
            "spark-3.0.0-preview2-bin-hadoop2.7/examples/src/main/scala/org/apache/spark/examples/streaming/QueueStream.scala\n",
            "spark-3.0.0-preview2-bin-hadoop2.7/examples/src/main/scala/org/apache/spark/examples/streaming/HdfsWordCount.scala\n",
            "spark-3.0.0-preview2-bin-hadoop2.7/examples/src/main/scala/org/apache/spark/examples/streaming/clickstream/\n",
            "spark-3.0.0-preview2-bin-hadoop2.7/examples/src/main/scala/org/apache/spark/examples/streaming/clickstream/PageViewStream.scala\n",
            "spark-3.0.0-preview2-bin-hadoop2.7/examples/src/main/scala/org/apache/spark/examples/streaming/clickstream/PageViewGenerator.scala\n",
            "spark-3.0.0-preview2-bin-hadoop2.7/examples/src/main/scala/org/apache/spark/examples/streaming/RecoverableNetworkWordCount.scala\n",
            "spark-3.0.0-preview2-bin-hadoop2.7/examples/src/main/scala/org/apache/spark/examples/streaming/CustomReceiver.scala\n",
            "spark-3.0.0-preview2-bin-hadoop2.7/examples/src/main/scala/org/apache/spark/examples/streaming/RawNetworkGrep.scala\n",
            "spark-3.0.0-preview2-bin-hadoop2.7/examples/src/main/scala/org/apache/spark/examples/streaming/DirectKafkaWordCount.scala\n",
            "spark-3.0.0-preview2-bin-hadoop2.7/examples/src/main/scala/org/apache/spark/examples/streaming/StatefulNetworkWordCount.scala\n",
            "spark-3.0.0-preview2-bin-hadoop2.7/examples/src/main/scala/org/apache/spark/examples/streaming/NetworkWordCount.scala\n",
            "spark-3.0.0-preview2-bin-hadoop2.7/examples/src/main/scala/org/apache/spark/examples/streaming/DirectKerberizedKafkaWordCount.scala\n",
            "spark-3.0.0-preview2-bin-hadoop2.7/examples/src/main/scala/org/apache/spark/examples/DriverSubmissionTest.scala\n",
            "spark-3.0.0-preview2-bin-hadoop2.7/examples/src/main/scala/org/apache/spark/examples/DFSReadWriteTest.scala\n",
            "spark-3.0.0-preview2-bin-hadoop2.7/examples/src/main/scala/org/apache/spark/examples/LocalFileLR.scala\n",
            "spark-3.0.0-preview2-bin-hadoop2.7/examples/src/main/scala/org/apache/spark/examples/MultiBroadcastTest.scala\n",
            "spark-3.0.0-preview2-bin-hadoop2.7/examples/src/main/scala/org/apache/spark/examples/SkewedGroupByTest.scala\n",
            "spark-3.0.0-preview2-bin-hadoop2.7/examples/src/main/scala/org/apache/spark/examples/AccumulatorMetricsTest.scala\n",
            "spark-3.0.0-preview2-bin-hadoop2.7/examples/src/main/scala/org/apache/spark/examples/SparkTC.scala\n",
            "spark-3.0.0-preview2-bin-hadoop2.7/examples/src/main/scala/org/apache/spark/examples/LogQuery.scala\n",
            "spark-3.0.0-preview2-bin-hadoop2.7/examples/src/main/scala/org/apache/spark/examples/SparkPageRank.scala\n",
            "spark-3.0.0-preview2-bin-hadoop2.7/examples/src/main/scala/org/apache/spark/examples/SparkPi.scala\n",
            "spark-3.0.0-preview2-bin-hadoop2.7/examples/src/main/scala/org/apache/spark/examples/LocalKMeans.scala\n",
            "spark-3.0.0-preview2-bin-hadoop2.7/examples/src/main/scala/org/apache/spark/examples/BroadcastTest.scala\n",
            "spark-3.0.0-preview2-bin-hadoop2.7/examples/src/main/scala/org/apache/spark/examples/LocalLR.scala\n",
            "spark-3.0.0-preview2-bin-hadoop2.7/examples/src/main/scala/org/apache/spark/examples/LocalPi.scala\n",
            "spark-3.0.0-preview2-bin-hadoop2.7/examples/src/main/scala/org/apache/spark/examples/sql/\n",
            "spark-3.0.0-preview2-bin-hadoop2.7/examples/src/main/scala/org/apache/spark/examples/sql/streaming/\n",
            "spark-3.0.0-preview2-bin-hadoop2.7/examples/src/main/scala/org/apache/spark/examples/sql/streaming/StructuredKafkaWordCount.scala\n",
            "spark-3.0.0-preview2-bin-hadoop2.7/examples/src/main/scala/org/apache/spark/examples/sql/streaming/StructuredSessionization.scala\n",
            "spark-3.0.0-preview2-bin-hadoop2.7/examples/src/main/scala/org/apache/spark/examples/sql/streaming/StructuredNetworkWordCount.scala\n",
            "spark-3.0.0-preview2-bin-hadoop2.7/examples/src/main/scala/org/apache/spark/examples/sql/streaming/StructuredNetworkWordCountWindowed.scala\n",
            "spark-3.0.0-preview2-bin-hadoop2.7/examples/src/main/scala/org/apache/spark/examples/sql/streaming/StructuredKerberizedKafkaWordCount.scala\n",
            "spark-3.0.0-preview2-bin-hadoop2.7/examples/src/main/scala/org/apache/spark/examples/sql/UserDefinedTypedAggregation.scala\n",
            "spark-3.0.0-preview2-bin-hadoop2.7/examples/src/main/scala/org/apache/spark/examples/sql/RDDRelation.scala\n",
            "spark-3.0.0-preview2-bin-hadoop2.7/examples/src/main/scala/org/apache/spark/examples/sql/SparkSQLExample.scala\n",
            "spark-3.0.0-preview2-bin-hadoop2.7/examples/src/main/scala/org/apache/spark/examples/sql/SQLDataSourceExample.scala\n",
            "spark-3.0.0-preview2-bin-hadoop2.7/examples/src/main/scala/org/apache/spark/examples/sql/hive/\n",
            "spark-3.0.0-preview2-bin-hadoop2.7/examples/src/main/scala/org/apache/spark/examples/sql/hive/SparkHiveExample.scala\n",
            "spark-3.0.0-preview2-bin-hadoop2.7/examples/src/main/scala/org/apache/spark/examples/sql/UserDefinedUntypedAggregation.scala\n",
            "spark-3.0.0-preview2-bin-hadoop2.7/examples/src/main/scala/org/apache/spark/examples/sql/SimpleTypedAggregator.scala\n",
            "spark-3.0.0-preview2-bin-hadoop2.7/examples/src/main/scala/org/apache/spark/examples/SparkHdfsLR.scala\n",
            "spark-3.0.0-preview2-bin-hadoop2.7/examples/src/main/scala/org/apache/spark/examples/mllib/\n",
            "spark-3.0.0-preview2-bin-hadoop2.7/examples/src/main/scala/org/apache/spark/examples/mllib/LDAExample.scala\n",
            "spark-3.0.0-preview2-bin-hadoop2.7/examples/src/main/scala/org/apache/spark/examples/mllib/BisectingKMeansExample.scala\n",
            "spark-3.0.0-preview2-bin-hadoop2.7/examples/src/main/scala/org/apache/spark/examples/mllib/TallSkinnySVD.scala\n",
            "spark-3.0.0-preview2-bin-hadoop2.7/examples/src/main/scala/org/apache/spark/examples/mllib/SampledRDDs.scala\n",
            "spark-3.0.0-preview2-bin-hadoop2.7/examples/src/main/scala/org/apache/spark/examples/mllib/RandomRDDGeneration.scala\n",
            "spark-3.0.0-preview2-bin-hadoop2.7/examples/src/main/scala/org/apache/spark/examples/mllib/NormalizerExample.scala\n",
            "spark-3.0.0-preview2-bin-hadoop2.7/examples/src/main/scala/org/apache/spark/examples/mllib/GradientBoostingClassificationExample.scala\n",
            "spark-3.0.0-preview2-bin-hadoop2.7/examples/src/main/scala/org/apache/spark/examples/mllib/PowerIterationClusteringExample.scala\n",
            "spark-3.0.0-preview2-bin-hadoop2.7/examples/src/main/scala/org/apache/spark/examples/mllib/StreamingTestExample.scala\n",
            "spark-3.0.0-preview2-bin-hadoop2.7/examples/src/main/scala/org/apache/spark/examples/mllib/MultiLabelMetricsExample.scala\n",
            "spark-3.0.0-preview2-bin-hadoop2.7/examples/src/main/scala/org/apache/spark/examples/mllib/LogisticRegressionWithLBFGSExample.scala\n",
            "spark-3.0.0-preview2-bin-hadoop2.7/examples/src/main/scala/org/apache/spark/examples/mllib/MultivariateSummarizer.scala\n",
            "spark-3.0.0-preview2-bin-hadoop2.7/examples/src/main/scala/org/apache/spark/examples/mllib/LBFGSExample.scala\n",
            "spark-3.0.0-preview2-bin-hadoop2.7/examples/src/main/scala/org/apache/spark/examples/mllib/TFIDFExample.scala\n",
            "spark-3.0.0-preview2-bin-hadoop2.7/examples/src/main/scala/org/apache/spark/examples/mllib/RandomForestRegressionExample.scala\n",
            "spark-3.0.0-preview2-bin-hadoop2.7/examples/src/main/scala/org/apache/spark/examples/mllib/PCAOnSourceVectorExample.scala\n",
            "spark-3.0.0-preview2-bin-hadoop2.7/examples/src/main/scala/org/apache/spark/examples/mllib/SVDExample.scala\n",
            "spark-3.0.0-preview2-bin-hadoop2.7/examples/src/main/scala/org/apache/spark/examples/mllib/PrefixSpanExample.scala\n",
            "spark-3.0.0-preview2-bin-hadoop2.7/examples/src/main/scala/org/apache/spark/examples/mllib/RandomForestClassificationExample.scala\n",
            "spark-3.0.0-preview2-bin-hadoop2.7/examples/src/main/scala/org/apache/spark/examples/mllib/Word2VecExample.scala\n",
            "spark-3.0.0-preview2-bin-hadoop2.7/examples/src/main/scala/org/apache/spark/examples/mllib/StandardScalerExample.scala\n",
            "spark-3.0.0-preview2-bin-hadoop2.7/examples/src/main/scala/org/apache/spark/examples/mllib/MulticlassMetricsExample.scala\n",
            "spark-3.0.0-preview2-bin-hadoop2.7/examples/src/main/scala/org/apache/spark/examples/mllib/GradientBoostingRegressionExample.scala\n",
            "spark-3.0.0-preview2-bin-hadoop2.7/examples/src/main/scala/org/apache/spark/examples/mllib/BinaryClassification.scala\n",
            "spark-3.0.0-preview2-bin-hadoop2.7/examples/src/main/scala/org/apache/spark/examples/mllib/BinaryClassificationMetricsExample.scala\n",
            "spark-3.0.0-preview2-bin-hadoop2.7/examples/src/main/scala/org/apache/spark/examples/mllib/IsotonicRegressionExample.scala\n",
            "spark-3.0.0-preview2-bin-hadoop2.7/examples/src/main/scala/org/apache/spark/examples/mllib/PMMLModelExportExample.scala\n",
            "spark-3.0.0-preview2-bin-hadoop2.7/examples/src/main/scala/org/apache/spark/examples/mllib/CosineSimilarity.scala\n",
            "spark-3.0.0-preview2-bin-hadoop2.7/examples/src/main/scala/org/apache/spark/examples/mllib/DenseKMeans.scala\n",
            "spark-3.0.0-preview2-bin-hadoop2.7/examples/src/main/scala/org/apache/spark/examples/mllib/NaiveBayesExample.scala\n",
            "spark-3.0.0-preview2-bin-hadoop2.7/examples/src/main/scala/org/apache/spark/examples/mllib/TallSkinnyPCA.scala\n",
            "spark-3.0.0-preview2-bin-hadoop2.7/examples/src/main/scala/org/apache/spark/examples/mllib/KMeansExample.scala\n",
            "spark-3.0.0-preview2-bin-hadoop2.7/examples/src/main/scala/org/apache/spark/examples/mllib/StreamingLinearRegressionExample.scala\n",
            "spark-3.0.0-preview2-bin-hadoop2.7/examples/src/main/scala/org/apache/spark/examples/mllib/RankingMetricsExample.scala\n",
            "spark-3.0.0-preview2-bin-hadoop2.7/examples/src/main/scala/org/apache/spark/examples/mllib/HypothesisTestingExample.scala\n",
            "spark-3.0.0-preview2-bin-hadoop2.7/examples/src/main/scala/org/apache/spark/examples/mllib/GradientBoostedTreesRunner.scala\n",
            "spark-3.0.0-preview2-bin-hadoop2.7/examples/src/main/scala/org/apache/spark/examples/mllib/HypothesisTestingKolmogorovSmirnovTestExample.scala\n",
            "spark-3.0.0-preview2-bin-hadoop2.7/examples/src/main/scala/org/apache/spark/examples/mllib/SimpleFPGrowth.scala\n",
            "spark-3.0.0-preview2-bin-hadoop2.7/examples/src/main/scala/org/apache/spark/examples/mllib/AbstractParams.scala\n",
            "spark-3.0.0-preview2-bin-hadoop2.7/examples/src/main/scala/org/apache/spark/examples/mllib/SVMWithSGDExample.scala\n",
            "spark-3.0.0-preview2-bin-hadoop2.7/examples/src/main/scala/org/apache/spark/examples/mllib/ElementwiseProductExample.scala\n",
            "spark-3.0.0-preview2-bin-hadoop2.7/examples/src/main/scala/org/apache/spark/examples/mllib/DecisionTreeClassificationExample.scala\n",
            "spark-3.0.0-preview2-bin-hadoop2.7/examples/src/main/scala/org/apache/spark/examples/mllib/FPGrowthExample.scala\n",
            "spark-3.0.0-preview2-bin-hadoop2.7/examples/src/main/scala/org/apache/spark/examples/mllib/GaussianMixtureExample.scala\n",
            "spark-3.0.0-preview2-bin-hadoop2.7/examples/src/main/scala/org/apache/spark/examples/mllib/StreamingLogisticRegression.scala\n",
            "spark-3.0.0-preview2-bin-hadoop2.7/examples/src/main/scala/org/apache/spark/examples/mllib/RecommendationExample.scala\n",
            "spark-3.0.0-preview2-bin-hadoop2.7/examples/src/main/scala/org/apache/spark/examples/mllib/ChiSqSelectorExample.scala\n",
            "spark-3.0.0-preview2-bin-hadoop2.7/examples/src/main/scala/org/apache/spark/examples/mllib/SummaryStatisticsExample.scala\n",
            "spark-3.0.0-preview2-bin-hadoop2.7/examples/src/main/scala/org/apache/spark/examples/mllib/SparseNaiveBayes.scala\n",
            "spark-3.0.0-preview2-bin-hadoop2.7/examples/src/main/scala/org/apache/spark/examples/mllib/MovieLensALS.scala\n",
            "spark-3.0.0-preview2-bin-hadoop2.7/examples/src/main/scala/org/apache/spark/examples/mllib/PCAOnRowMatrixExample.scala\n",
            "spark-3.0.0-preview2-bin-hadoop2.7/examples/src/main/scala/org/apache/spark/examples/mllib/Correlations.scala\n",
            "spark-3.0.0-preview2-bin-hadoop2.7/examples/src/main/scala/org/apache/spark/examples/mllib/CorrelationsExample.scala\n",
            "spark-3.0.0-preview2-bin-hadoop2.7/examples/src/main/scala/org/apache/spark/examples/mllib/StreamingKMeansExample.scala\n",
            "spark-3.0.0-preview2-bin-hadoop2.7/examples/src/main/scala/org/apache/spark/examples/mllib/AssociationRulesExample.scala\n",
            "spark-3.0.0-preview2-bin-hadoop2.7/examples/src/main/scala/org/apache/spark/examples/mllib/StratifiedSamplingExample.scala\n",
            "spark-3.0.0-preview2-bin-hadoop2.7/examples/src/main/scala/org/apache/spark/examples/mllib/KernelDensityEstimationExample.scala\n",
            "spark-3.0.0-preview2-bin-hadoop2.7/examples/src/main/scala/org/apache/spark/examples/mllib/DecisionTreeRunner.scala\n",
            "spark-3.0.0-preview2-bin-hadoop2.7/examples/src/main/scala/org/apache/spark/examples/mllib/DecisionTreeRegressionExample.scala\n",
            "spark-3.0.0-preview2-bin-hadoop2.7/examples/src/main/scala/org/apache/spark/examples/mllib/LatentDirichletAllocationExample.scala\n",
            "spark-3.0.0-preview2-bin-hadoop2.7/examples/src/main/scala/org/apache/spark/examples/GroupByTest.scala\n",
            "spark-3.0.0-preview2-bin-hadoop2.7/examples/src/main/scala/org/apache/spark/examples/pythonconverters/\n",
            "spark-3.0.0-preview2-bin-hadoop2.7/examples/src/main/scala/org/apache/spark/examples/pythonconverters/AvroConverters.scala\n",
            "spark-3.0.0-preview2-bin-hadoop2.7/examples/src/main/scala/org/apache/spark/examples/graphx/\n",
            "spark-3.0.0-preview2-bin-hadoop2.7/examples/src/main/scala/org/apache/spark/examples/graphx/LiveJournalPageRank.scala\n",
            "spark-3.0.0-preview2-bin-hadoop2.7/examples/src/main/scala/org/apache/spark/examples/graphx/Analytics.scala\n",
            "spark-3.0.0-preview2-bin-hadoop2.7/examples/src/main/scala/org/apache/spark/examples/graphx/ConnectedComponentsExample.scala\n",
            "spark-3.0.0-preview2-bin-hadoop2.7/examples/src/main/scala/org/apache/spark/examples/graphx/AggregateMessagesExample.scala\n",
            "spark-3.0.0-preview2-bin-hadoop2.7/examples/src/main/scala/org/apache/spark/examples/graphx/SynthBenchmark.scala\n",
            "spark-3.0.0-preview2-bin-hadoop2.7/examples/src/main/scala/org/apache/spark/examples/graphx/PageRankExample.scala\n",
            "spark-3.0.0-preview2-bin-hadoop2.7/examples/src/main/scala/org/apache/spark/examples/graphx/SSSPExample.scala\n",
            "spark-3.0.0-preview2-bin-hadoop2.7/examples/src/main/scala/org/apache/spark/examples/graphx/TriangleCountingExample.scala\n",
            "spark-3.0.0-preview2-bin-hadoop2.7/examples/src/main/scala/org/apache/spark/examples/graphx/ComprehensiveExample.scala\n",
            "spark-3.0.0-preview2-bin-hadoop2.7/examples/src/main/scala/org/apache/spark/examples/SparkKMeans.scala\n",
            "spark-3.0.0-preview2-bin-hadoop2.7/examples/src/main/scala/org/apache/spark/examples/LocalALS.scala\n",
            "spark-3.0.0-preview2-bin-hadoop2.7/examples/src/main/scala/org/apache/spark/examples/SparkALS.scala\n",
            "spark-3.0.0-preview2-bin-hadoop2.7/examples/src/main/scala/org/apache/spark/examples/SimpleSkewedGroupByTest.scala\n",
            "spark-3.0.0-preview2-bin-hadoop2.7/examples/src/main/scala/org/apache/spark/examples/ExceptionHandlingTest.scala\n",
            "spark-3.0.0-preview2-bin-hadoop2.7/examples/src/main/scala/org/apache/spark/examples/HdfsTest.scala\n",
            "spark-3.0.0-preview2-bin-hadoop2.7/examples/src/main/scala/org/apache/spark/examples/SparkLR.scala\n",
            "spark-3.0.0-preview2-bin-hadoop2.7/examples/src/main/r/\n",
            "spark-3.0.0-preview2-bin-hadoop2.7/examples/src/main/r/ml/\n",
            "spark-3.0.0-preview2-bin-hadoop2.7/examples/src/main/r/ml/bisectingKmeans.R\n",
            "spark-3.0.0-preview2-bin-hadoop2.7/examples/src/main/r/ml/fpm.R\n",
            "spark-3.0.0-preview2-bin-hadoop2.7/examples/src/main/r/ml/isoreg.R\n",
            "spark-3.0.0-preview2-bin-hadoop2.7/examples/src/main/r/ml/decisionTree.R\n",
            "spark-3.0.0-preview2-bin-hadoop2.7/examples/src/main/r/ml/powerIterationClustering.R\n",
            "spark-3.0.0-preview2-bin-hadoop2.7/examples/src/main/r/ml/naiveBayes.R\n",
            "spark-3.0.0-preview2-bin-hadoop2.7/examples/src/main/r/ml/prefixSpan.R\n",
            "spark-3.0.0-preview2-bin-hadoop2.7/examples/src/main/r/ml/gaussianMixture.R\n",
            "spark-3.0.0-preview2-bin-hadoop2.7/examples/src/main/r/ml/kmeans.R\n",
            "spark-3.0.0-preview2-bin-hadoop2.7/examples/src/main/r/ml/glm.R\n",
            "spark-3.0.0-preview2-bin-hadoop2.7/examples/src/main/r/ml/mlp.R\n",
            "spark-3.0.0-preview2-bin-hadoop2.7/examples/src/main/r/ml/lda.R\n",
            "spark-3.0.0-preview2-bin-hadoop2.7/examples/src/main/r/ml/survreg.R\n",
            "spark-3.0.0-preview2-bin-hadoop2.7/examples/src/main/r/ml/ml.R\n",
            "spark-3.0.0-preview2-bin-hadoop2.7/examples/src/main/r/ml/gbt.R\n",
            "spark-3.0.0-preview2-bin-hadoop2.7/examples/src/main/r/ml/svmLinear.R\n",
            "spark-3.0.0-preview2-bin-hadoop2.7/examples/src/main/r/ml/als.R\n",
            "spark-3.0.0-preview2-bin-hadoop2.7/examples/src/main/r/ml/logit.R\n",
            "spark-3.0.0-preview2-bin-hadoop2.7/examples/src/main/r/ml/kstest.R\n",
            "spark-3.0.0-preview2-bin-hadoop2.7/examples/src/main/r/ml/randomForest.R\n",
            "spark-3.0.0-preview2-bin-hadoop2.7/examples/src/main/r/streaming/\n",
            "spark-3.0.0-preview2-bin-hadoop2.7/examples/src/main/r/streaming/structured_network_wordcount.R\n",
            "spark-3.0.0-preview2-bin-hadoop2.7/examples/src/main/r/data-manipulation.R\n",
            "spark-3.0.0-preview2-bin-hadoop2.7/examples/src/main/r/dataframe.R\n",
            "spark-3.0.0-preview2-bin-hadoop2.7/examples/src/main/r/RSparkSQLExample.R\n",
            "spark-3.0.0-preview2-bin-hadoop2.7/conf/\n",
            "spark-3.0.0-preview2-bin-hadoop2.7/conf/slaves.template\n",
            "spark-3.0.0-preview2-bin-hadoop2.7/conf/spark-env.sh.template\n",
            "spark-3.0.0-preview2-bin-hadoop2.7/conf/log4j.properties.template\n",
            "spark-3.0.0-preview2-bin-hadoop2.7/conf/spark-defaults.conf.template\n",
            "spark-3.0.0-preview2-bin-hadoop2.7/conf/fairscheduler.xml.template\n",
            "spark-3.0.0-preview2-bin-hadoop2.7/conf/metrics.properties.template\n",
            "spark-3.0.0-preview2-bin-hadoop2.7/jars/\n",
            "spark-3.0.0-preview2-bin-hadoop2.7/jars/datanucleus-core-4.1.17.jar\n",
            "spark-3.0.0-preview2-bin-hadoop2.7/jars/jpam-1.1.jar\n",
            "spark-3.0.0-preview2-bin-hadoop2.7/jars/guice-servlet-3.0.jar\n",
            "spark-3.0.0-preview2-bin-hadoop2.7/jars/hive-shims-0.23-2.3.6.jar\n",
            "spark-3.0.0-preview2-bin-hadoop2.7/jars/okapi-shade-0.4.2.jar\n",
            "spark-3.0.0-preview2-bin-hadoop2.7/jars/httpclient-4.5.6.jar\n",
            "spark-3.0.0-preview2-bin-hadoop2.7/jars/jaxb-api-2.2.2.jar\n",
            "spark-3.0.0-preview2-bin-hadoop2.7/jars/avro-1.8.2.jar\n",
            "spark-3.0.0-preview2-bin-hadoop2.7/jars/hadoop-mapreduce-client-app-2.7.4.jar\n",
            "spark-3.0.0-preview2-bin-hadoop2.7/jars/jsr305-3.0.0.jar\n",
            "spark-3.0.0-preview2-bin-hadoop2.7/jars/slf4j-api-1.7.16.jar\n",
            "spark-3.0.0-preview2-bin-hadoop2.7/jars/JTransforms-3.1.jar\n",
            "spark-3.0.0-preview2-bin-hadoop2.7/jars/orc-core-1.5.8.jar\n",
            "spark-3.0.0-preview2-bin-hadoop2.7/jars/spark-mllib-local_2.12-3.0.0-preview2.jar\n",
            "spark-3.0.0-preview2-bin-hadoop2.7/jars/jersey-server-2.29.1.jar\n",
            "spark-3.0.0-preview2-bin-hadoop2.7/jars/scala-library-2.12.10.jar\n",
            "spark-3.0.0-preview2-bin-hadoop2.7/jars/jackson-dataformat-yaml-2.10.0.jar\n",
            "spark-3.0.0-preview2-bin-hadoop2.7/jars/parquet-common-1.10.1.jar\n",
            "spark-3.0.0-preview2-bin-hadoop2.7/jars/zstd-jni-1.4.4-3.jar\n",
            "spark-3.0.0-preview2-bin-hadoop2.7/jars/hive-serde-2.3.6.jar\n",
            "spark-3.0.0-preview2-bin-hadoop2.7/jars/ST4-4.0.4.jar\n",
            "spark-3.0.0-preview2-bin-hadoop2.7/jars/libthrift-0.12.0.jar\n",
            "spark-3.0.0-preview2-bin-hadoop2.7/jars/spark-hive-thriftserver_2.12-3.0.0-preview2.jar\n",
            "spark-3.0.0-preview2-bin-hadoop2.7/jars/hive-shims-scheduler-2.3.6.jar\n",
            "spark-3.0.0-preview2-bin-hadoop2.7/jars/javassist-3.22.0-CR2.jar\n",
            "spark-3.0.0-preview2-bin-hadoop2.7/jars/stax-api-1.0.1.jar\n",
            "spark-3.0.0-preview2-bin-hadoop2.7/jars/json4s-ast_2.12-3.6.6.jar\n",
            "spark-3.0.0-preview2-bin-hadoop2.7/jars/snappy-java-1.1.7.3.jar\n",
            "spark-3.0.0-preview2-bin-hadoop2.7/jars/spark-graph_2.12-3.0.0-preview2.jar\n",
            "spark-3.0.0-preview2-bin-hadoop2.7/jars/hive-common-2.3.6.jar\n",
            "spark-3.0.0-preview2-bin-hadoop2.7/jars/pyrolite-4.30.jar\n",
            "spark-3.0.0-preview2-bin-hadoop2.7/jars/metrics-json-4.1.1.jar\n",
            "spark-3.0.0-preview2-bin-hadoop2.7/jars/hive-exec-2.3.6-core.jar\n",
            "spark-3.0.0-preview2-bin-hadoop2.7/jars/super-csv-2.2.0.jar\n",
            "spark-3.0.0-preview2-bin-hadoop2.7/jars/json4s-scalap_2.12-3.6.6.jar\n",
            "spark-3.0.0-preview2-bin-hadoop2.7/jars/jackson-databind-2.10.0.jar\n",
            "spark-3.0.0-preview2-bin-hadoop2.7/jars/log4j-1.2.17.jar\n",
            "spark-3.0.0-preview2-bin-hadoop2.7/jars/javolution-5.5.1.jar\n",
            "spark-3.0.0-preview2-bin-hadoop2.7/jars/spire_2.12-0.17.0-M1.jar\n",
            "spark-3.0.0-preview2-bin-hadoop2.7/jars/spark-graphx_2.12-3.0.0-preview2.jar\n",
            "spark-3.0.0-preview2-bin-hadoop2.7/jars/zookeeper-3.4.14.jar\n",
            "spark-3.0.0-preview2-bin-hadoop2.7/jars/velocity-1.5.jar\n",
            "spark-3.0.0-preview2-bin-hadoop2.7/jars/jetty-sslengine-6.1.26.jar\n",
            "spark-3.0.0-preview2-bin-hadoop2.7/jars/spark-tags_2.12-3.0.0-preview2-tests.jar\n",
            "spark-3.0.0-preview2-bin-hadoop2.7/jars/jakarta.activation-api-1.2.1.jar\n",
            "spark-3.0.0-preview2-bin-hadoop2.7/jars/spark-core_2.12-3.0.0-preview2.jar\n",
            "spark-3.0.0-preview2-bin-hadoop2.7/jars/scala-parser-combinators_2.12-1.1.2.jar\n",
            "spark-3.0.0-preview2-bin-hadoop2.7/jars/paranamer-2.8.jar\n",
            "spark-3.0.0-preview2-bin-hadoop2.7/jars/jackson-jaxrs-1.9.13.jar\n",
            "spark-3.0.0-preview2-bin-hadoop2.7/jars/api-util-1.0.0-M20.jar\n",
            "spark-3.0.0-preview2-bin-hadoop2.7/jars/spark-unsafe_2.12-3.0.0-preview2.jar\n",
            "spark-3.0.0-preview2-bin-hadoop2.7/jars/commons-lang-2.6.jar\n",
            "spark-3.0.0-preview2-bin-hadoop2.7/jars/spark-kubernetes_2.12-3.0.0-preview2.jar\n",
            "spark-3.0.0-preview2-bin-hadoop2.7/jars/joda-time-2.10.5.jar\n",
            "spark-3.0.0-preview2-bin-hadoop2.7/jars/jackson-module-paranamer-2.10.0.jar\n",
            "spark-3.0.0-preview2-bin-hadoop2.7/jars/mesos-1.4.0-shaded-protobuf.jar\n",
            "spark-3.0.0-preview2-bin-hadoop2.7/jars/breeze_2.12-1.0.jar\n",
            "spark-3.0.0-preview2-bin-hadoop2.7/jars/spark-sql_2.12-3.0.0-preview2.jar\n",
            "spark-3.0.0-preview2-bin-hadoop2.7/jars/metrics-jvm-4.1.1.jar\n",
            "spark-3.0.0-preview2-bin-hadoop2.7/jars/jersey-media-jaxb-2.29.1.jar\n",
            "spark-3.0.0-preview2-bin-hadoop2.7/jars/activation-1.1.1.jar\n",
            "spark-3.0.0-preview2-bin-hadoop2.7/jars/spark-hive_2.12-3.0.0-preview2.jar\n",
            "spark-3.0.0-preview2-bin-hadoop2.7/jars/jersey-hk2-2.29.1.jar\n",
            "spark-3.0.0-preview2-bin-hadoop2.7/jars/commons-net-3.1.jar\n",
            "spark-3.0.0-preview2-bin-hadoop2.7/jars/xmlenc-0.52.jar\n",
            "spark-3.0.0-preview2-bin-hadoop2.7/jars/spark-mesos_2.12-3.0.0-preview2.jar\n",
            "spark-3.0.0-preview2-bin-hadoop2.7/jars/avro-mapred-1.8.2-hadoop2.jar\n",
            "spark-3.0.0-preview2-bin-hadoop2.7/jars/transaction-api-1.1.jar\n",
            "spark-3.0.0-preview2-bin-hadoop2.7/jars/spark-yarn_2.12-3.0.0-preview2.jar\n",
            "spark-3.0.0-preview2-bin-hadoop2.7/jars/scala-collection-compat_2.12-2.1.1.jar\n",
            "spark-3.0.0-preview2-bin-hadoop2.7/jars/metrics-core-4.1.1.jar\n",
            "spark-3.0.0-preview2-bin-hadoop2.7/jars/protobuf-java-2.5.0.jar\n",
            "spark-3.0.0-preview2-bin-hadoop2.7/jars/py4j-0.10.8.1.jar\n",
            "spark-3.0.0-preview2-bin-hadoop2.7/jars/commons-compress-1.8.1.jar\n",
            "spark-3.0.0-preview2-bin-hadoop2.7/jars/curator-recipes-2.7.1.jar\n",
            "spark-3.0.0-preview2-bin-hadoop2.7/jars/kubernetes-client-4.6.4.jar\n",
            "spark-3.0.0-preview2-bin-hadoop2.7/jars/spark-sketch_2.12-3.0.0-preview2.jar\n",
            "spark-3.0.0-preview2-bin-hadoop2.7/jars/zjsonpatch-0.3.0.jar\n",
            "spark-3.0.0-preview2-bin-hadoop2.7/jars/kubernetes-model-common-4.6.4.jar\n",
            "spark-3.0.0-preview2-bin-hadoop2.7/jars/spire-macros_2.12-0.17.0-M1.jar\n",
            "spark-3.0.0-preview2-bin-hadoop2.7/jars/spark-mllib_2.12-3.0.0-preview2.jar\n",
            "spark-3.0.0-preview2-bin-hadoop2.7/jars/commons-compiler-3.0.15.jar\n",
            "spark-3.0.0-preview2-bin-hadoop2.7/jars/univocity-parsers-2.8.3.jar\n",
            "spark-3.0.0-preview2-bin-hadoop2.7/jars/json4s-jackson_2.12-3.6.6.jar\n",
            "spark-3.0.0-preview2-bin-hadoop2.7/jars/arrow-vector-0.15.1.jar\n",
            "spark-3.0.0-preview2-bin-hadoop2.7/jars/spark-catalyst_2.12-3.0.0-preview2.jar\n",
            "spark-3.0.0-preview2-bin-hadoop2.7/jars/okhttp-3.12.6.jar\n",
            "spark-3.0.0-preview2-bin-hadoop2.7/jars/jersey-container-servlet-2.29.1.jar\n",
            "spark-3.0.0-preview2-bin-hadoop2.7/jars/aopalliance-1.0.jar\n",
            "spark-3.0.0-preview2-bin-hadoop2.7/jars/hk2-locator-2.6.1.jar\n",
            "spark-3.0.0-preview2-bin-hadoop2.7/jars/jta-1.1.jar\n",
            "spark-3.0.0-preview2-bin-hadoop2.7/jars/commons-crypto-1.0.0.jar\n",
            "spark-3.0.0-preview2-bin-hadoop2.7/jars/hadoop-client-2.7.4.jar\n",
            "spark-3.0.0-preview2-bin-hadoop2.7/jars/cats-kernel_2.12-2.0.0-M4.jar\n",
            "spark-3.0.0-preview2-bin-hadoop2.7/jars/jetty-util-6.1.26.jar\n",
            "spark-3.0.0-preview2-bin-hadoop2.7/jars/spire-platform_2.12-0.17.0-M1.jar\n",
            "spark-3.0.0-preview2-bin-hadoop2.7/jars/jcl-over-slf4j-1.7.16.jar\n",
            "spark-3.0.0-preview2-bin-hadoop2.7/jars/hadoop-yarn-server-web-proxy-2.7.4.jar\n",
            "spark-3.0.0-preview2-bin-hadoop2.7/jars/jaxb-runtime-2.3.2.jar\n",
            "spark-3.0.0-preview2-bin-hadoop2.7/jars/jetty-6.1.26.jar\n",
            "spark-3.0.0-preview2-bin-hadoop2.7/jars/hadoop-mapreduce-client-common-2.7.4.jar\n",
            "spark-3.0.0-preview2-bin-hadoop2.7/jars/json-1.8.jar\n",
            "spark-3.0.0-preview2-bin-hadoop2.7/jars/dropwizard-metrics-hadoop-metrics2-reporter-0.1.2.jar\n",
            "spark-3.0.0-preview2-bin-hadoop2.7/jars/osgi-resource-locator-1.0.3.jar\n",
            "spark-3.0.0-preview2-bin-hadoop2.7/jars/hk2-utils-2.6.1.jar\n",
            "spark-3.0.0-preview2-bin-hadoop2.7/jars/hadoop-yarn-common-2.7.4.jar\n",
            "spark-3.0.0-preview2-bin-hadoop2.7/jars/algebra_2.12-2.0.0-M2.jar\n",
            "spark-3.0.0-preview2-bin-hadoop2.7/jars/jackson-core-asl-1.9.13.jar\n",
            "spark-3.0.0-preview2-bin-hadoop2.7/jars/json4s-core_2.12-3.6.6.jar\n",
            "spark-3.0.0-preview2-bin-hadoop2.7/jars/parquet-hadoop-1.10.1.jar\n",
            "spark-3.0.0-preview2-bin-hadoop2.7/jars/jersey-common-2.29.1.jar\n",
            "spark-3.0.0-preview2-bin-hadoop2.7/jars/chill-java-0.9.3.jar\n",
            "spark-3.0.0-preview2-bin-hadoop2.7/jars/guice-3.0.jar\n",
            "spark-3.0.0-preview2-bin-hadoop2.7/jars/stax-api-1.0-2.jar\n",
            "spark-3.0.0-preview2-bin-hadoop2.7/jars/hadoop-yarn-api-2.7.4.jar\n",
            "spark-3.0.0-preview2-bin-hadoop2.7/jars/minlog-1.3.0.jar\n",
            "spark-3.0.0-preview2-bin-hadoop2.7/jars/shims-0.7.45.jar\n",
            "spark-3.0.0-preview2-bin-hadoop2.7/jars/hadoop-mapreduce-client-jobclient-2.7.4.jar\n",
            "spark-3.0.0-preview2-bin-hadoop2.7/jars/commons-cli-1.2.jar\n",
            "spark-3.0.0-preview2-bin-hadoop2.7/jars/jackson-module-jaxb-annotations-2.10.0.jar\n",
            "spark-3.0.0-preview2-bin-hadoop2.7/jars/jackson-xc-1.9.13.jar\n",
            "spark-3.0.0-preview2-bin-hadoop2.7/jars/logging-interceptor-3.12.6.jar\n",
            "spark-3.0.0-preview2-bin-hadoop2.7/jars/curator-framework-2.7.1.jar\n",
            "spark-3.0.0-preview2-bin-hadoop2.7/jars/scala-reflect-2.12.10.jar\n",
            "spark-3.0.0-preview2-bin-hadoop2.7/jars/scala-xml_2.12-1.2.0.jar\n",
            "spark-3.0.0-preview2-bin-hadoop2.7/jars/api-asn1-api-1.0.0-M20.jar\n",
            "spark-3.0.0-preview2-bin-hadoop2.7/jars/hadoop-auth-2.7.4.jar\n",
            "spark-3.0.0-preview2-bin-hadoop2.7/jars/flatbuffers-java-1.9.0.jar\n",
            "spark-3.0.0-preview2-bin-hadoop2.7/jars/commons-configuration-1.6.jar\n",
            "spark-3.0.0-preview2-bin-hadoop2.7/jars/jackson-core-2.10.0.jar\n",
            "spark-3.0.0-preview2-bin-hadoop2.7/jars/HikariCP-2.5.1.jar\n",
            "spark-3.0.0-preview2-bin-hadoop2.7/jars/libfb303-0.9.3.jar\n",
            "spark-3.0.0-preview2-bin-hadoop2.7/jars/audience-annotations-0.5.0.jar\n",
            "spark-3.0.0-preview2-bin-hadoop2.7/jars/objenesis-2.5.1.jar\n",
            "spark-3.0.0-preview2-bin-hadoop2.7/jars/arrow-memory-0.15.1.jar\n",
            "spark-3.0.0-preview2-bin-hadoop2.7/jars/jakarta.validation-api-2.0.2.jar\n",
            "spark-3.0.0-preview2-bin-hadoop2.7/jars/spark-network-common_2.12-3.0.0-preview2.jar\n",
            "spark-3.0.0-preview2-bin-hadoop2.7/jars/commons-io-2.4.jar\n",
            "spark-3.0.0-preview2-bin-hadoop2.7/jars/hk2-api-2.6.1.jar\n",
            "spark-3.0.0-preview2-bin-hadoop2.7/jars/breeze-macros_2.12-1.0.jar\n",
            "spark-3.0.0-preview2-bin-hadoop2.7/jars/hive-vector-code-gen-2.3.6.jar\n",
            "spark-3.0.0-preview2-bin-hadoop2.7/jars/hive-cli-2.3.6.jar\n",
            "spark-3.0.0-preview2-bin-hadoop2.7/jars/aopalliance-repackaged-2.6.1.jar\n",
            "spark-3.0.0-preview2-bin-hadoop2.7/jars/hadoop-yarn-client-2.7.4.jar\n",
            "spark-3.0.0-preview2-bin-hadoop2.7/jars/jackson-mapper-asl-1.9.13.jar\n",
            "spark-3.0.0-preview2-bin-hadoop2.7/jars/commons-collections-3.2.2.jar\n",
            "spark-3.0.0-preview2-bin-hadoop2.7/jars/commons-digester-1.8.jar\n",
            "spark-3.0.0-preview2-bin-hadoop2.7/jars/hive-service-rpc-2.3.6.jar\n",
            "spark-3.0.0-preview2-bin-hadoop2.7/jars/hadoop-hdfs-2.7.4.jar\n",
            "spark-3.0.0-preview2-bin-hadoop2.7/jars/ivy-2.4.0.jar\n",
            "spark-3.0.0-preview2-bin-hadoop2.7/jars/hadoop-annotations-2.7.4.jar\n",
            "spark-3.0.0-preview2-bin-hadoop2.7/jars/istack-commons-runtime-3.0.8.jar\n",
            "spark-3.0.0-preview2-bin-hadoop2.7/jars/netty-all-4.1.42.Final.jar\n",
            "spark-3.0.0-preview2-bin-hadoop2.7/jars/spire-util_2.12-0.17.0-M1.jar\n",
            "spark-3.0.0-preview2-bin-hadoop2.7/jars/compress-lzf-1.0.3.jar\n",
            "spark-3.0.0-preview2-bin-hadoop2.7/jars/RoaringBitmap-0.7.45.jar\n",
            "spark-3.0.0-preview2-bin-hadoop2.7/jars/javax.jdo-3.2.0-m3.jar\n",
            "spark-3.0.0-preview2-bin-hadoop2.7/jars/hive-metastore-2.3.6.jar\n",
            "spark-3.0.0-preview2-bin-hadoop2.7/jars/jul-to-slf4j-1.7.16.jar\n",
            "spark-3.0.0-preview2-bin-hadoop2.7/jars/hadoop-common-2.7.4.jar\n",
            "spark-3.0.0-preview2-bin-hadoop2.7/jars/spark-tags_2.12-3.0.0-preview2.jar\n",
            "spark-3.0.0-preview2-bin-hadoop2.7/jars/spark-graph-api_2.12-3.0.0-preview2.jar\n",
            "spark-3.0.0-preview2-bin-hadoop2.7/jars/parquet-format-2.4.0.jar\n",
            "spark-3.0.0-preview2-bin-hadoop2.7/jars/httpcore-4.4.12.jar\n",
            "spark-3.0.0-preview2-bin-hadoop2.7/jars/parquet-column-1.10.1.jar\n",
            "spark-3.0.0-preview2-bin-hadoop2.7/jars/hadoop-mapreduce-client-shuffle-2.7.4.jar\n",
            "spark-3.0.0-preview2-bin-hadoop2.7/jars/kubernetes-model-4.6.4.jar\n",
            "spark-3.0.0-preview2-bin-hadoop2.7/jars/slf4j-log4j12-1.7.16.jar\n",
            "spark-3.0.0-preview2-bin-hadoop2.7/jars/kryo-shaded-4.0.2.jar\n",
            "spark-3.0.0-preview2-bin-hadoop2.7/jars/antlr-runtime-3.5.2.jar\n",
            "spark-3.0.0-preview2-bin-hadoop2.7/jars/xercesImpl-2.9.1.jar\n",
            "spark-3.0.0-preview2-bin-hadoop2.7/jars/metrics-jmx-4.1.1.jar\n",
            "spark-3.0.0-preview2-bin-hadoop2.7/jars/machinist_2.12-0.6.8.jar\n",
            "spark-3.0.0-preview2-bin-hadoop2.7/jars/hive-llap-common-2.3.6.jar\n",
            "spark-3.0.0-preview2-bin-hadoop2.7/jars/okio-1.15.0.jar\n",
            "spark-3.0.0-preview2-bin-hadoop2.7/jars/derby-10.12.1.1.jar\n",
            "spark-3.0.0-preview2-bin-hadoop2.7/jars/jakarta.xml.bind-api-2.3.2.jar\n",
            "spark-3.0.0-preview2-bin-hadoop2.7/jars/spark-repl_2.12-3.0.0-preview2.jar\n",
            "spark-3.0.0-preview2-bin-hadoop2.7/jars/jackson-module-scala_2.12-2.10.0.jar\n",
            "spark-3.0.0-preview2-bin-hadoop2.7/jars/bonecp-0.8.0.RELEASE.jar\n",
            "spark-3.0.0-preview2-bin-hadoop2.7/jars/curator-client-2.7.1.jar\n",
            "spark-3.0.0-preview2-bin-hadoop2.7/jars/snakeyaml-1.24.jar\n",
            "spark-3.0.0-preview2-bin-hadoop2.7/jars/jersey-container-servlet-core-2.29.1.jar\n",
            "spark-3.0.0-preview2-bin-hadoop2.7/jars/macro-compat_2.12-1.1.1.jar\n",
            "spark-3.0.0-preview2-bin-hadoop2.7/jars/commons-math3-3.4.1.jar\n",
            "spark-3.0.0-preview2-bin-hadoop2.7/jars/oro-2.0.8.jar\n",
            "spark-3.0.0-preview2-bin-hadoop2.7/jars/lz4-java-1.7.0.jar\n",
            "spark-3.0.0-preview2-bin-hadoop2.7/jars/orc-mapreduce-1.5.8.jar\n",
            "spark-3.0.0-preview2-bin-hadoop2.7/jars/jackson-annotations-2.10.0.jar\n",
            "spark-3.0.0-preview2-bin-hadoop2.7/jars/chill_2.12-0.9.3.jar\n",
            "spark-3.0.0-preview2-bin-hadoop2.7/jars/jersey-client-2.29.1.jar\n",
            "spark-3.0.0-preview2-bin-hadoop2.7/jars/opencsv-2.3.jar\n",
            "spark-3.0.0-preview2-bin-hadoop2.7/jars/spark-kvstore_2.12-3.0.0-preview2.jar\n",
            "spark-3.0.0-preview2-bin-hadoop2.7/jars/scala-compiler-2.12.10.jar\n",
            "spark-3.0.0-preview2-bin-hadoop2.7/jars/metrics-graphite-4.1.1.jar\n",
            "spark-3.0.0-preview2-bin-hadoop2.7/jars/apacheds-kerberos-codec-2.0.0-M15.jar\n",
            "spark-3.0.0-preview2-bin-hadoop2.7/jars/arrow-format-0.15.1.jar\n",
            "spark-3.0.0-preview2-bin-hadoop2.7/jars/parquet-jackson-1.10.1.jar\n",
            "spark-3.0.0-preview2-bin-hadoop2.7/jars/generex-1.0.2.jar\n",
            "spark-3.0.0-preview2-bin-hadoop2.7/jars/spark-streaming_2.12-3.0.0-preview2.jar\n",
            "spark-3.0.0-preview2-bin-hadoop2.7/jars/parquet-encoding-1.10.1.jar\n",
            "spark-3.0.0-preview2-bin-hadoop2.7/jars/commons-pool-1.5.4.jar\n",
            "spark-3.0.0-preview2-bin-hadoop2.7/jars/javax.servlet-api-3.1.0.jar\n",
            "spark-3.0.0-preview2-bin-hadoop2.7/jars/avro-ipc-1.8.2.jar\n",
            "spark-3.0.0-preview2-bin-hadoop2.7/jars/jakarta.ws.rs-api-2.1.6.jar\n",
            "spark-3.0.0-preview2-bin-hadoop2.7/jars/jsp-api-2.1.jar\n",
            "spark-3.0.0-preview2-bin-hadoop2.7/jars/jakarta.annotation-api-1.3.5.jar\n",
            "spark-3.0.0-preview2-bin-hadoop2.7/jars/stream-2.9.6.jar\n",
            "spark-3.0.0-preview2-bin-hadoop2.7/jars/javax.inject-1.jar\n",
            "spark-3.0.0-preview2-bin-hadoop2.7/jars/JLargeArrays-1.5.jar\n",
            "spark-3.0.0-preview2-bin-hadoop2.7/jars/xz-1.5.jar\n",
            "spark-3.0.0-preview2-bin-hadoop2.7/jars/datanucleus-api-jdo-4.2.4.jar\n",
            "spark-3.0.0-preview2-bin-hadoop2.7/jars/orc-shims-1.5.8.jar\n",
            "spark-3.0.0-preview2-bin-hadoop2.7/jars/core-1.1.2.jar\n",
            "spark-3.0.0-preview2-bin-hadoop2.7/jars/commons-codec-1.10.jar\n",
            "spark-3.0.0-preview2-bin-hadoop2.7/jars/commons-logging-1.1.3.jar\n",
            "spark-3.0.0-preview2-bin-hadoop2.7/jars/aircompressor-0.10.jar\n",
            "spark-3.0.0-preview2-bin-hadoop2.7/jars/shapeless_2.12-2.3.3.jar\n",
            "spark-3.0.0-preview2-bin-hadoop2.7/jars/hadoop-yarn-server-common-2.7.4.jar\n",
            "spark-3.0.0-preview2-bin-hadoop2.7/jars/jline-2.14.6.jar\n",
            "spark-3.0.0-preview2-bin-hadoop2.7/jars/leveldbjni-all-1.8.jar\n",
            "spark-3.0.0-preview2-bin-hadoop2.7/jars/hive-shims-2.3.6.jar\n",
            "spark-3.0.0-preview2-bin-hadoop2.7/jars/commons-lang3-3.9.jar\n",
            "spark-3.0.0-preview2-bin-hadoop2.7/jars/spark-network-shuffle_2.12-3.0.0-preview2.jar\n",
            "spark-3.0.0-preview2-bin-hadoop2.7/jars/xbean-asm7-shaded-4.15.jar\n",
            "spark-3.0.0-preview2-bin-hadoop2.7/jars/jdo-api-3.0.1.jar\n",
            "spark-3.0.0-preview2-bin-hadoop2.7/jars/spark-cypher_2.12-3.0.0-preview2.jar\n",
            "spark-3.0.0-preview2-bin-hadoop2.7/jars/hive-jdbc-2.3.6.jar\n",
            "spark-3.0.0-preview2-bin-hadoop2.7/jars/commons-dbcp-1.4.jar\n",
            "spark-3.0.0-preview2-bin-hadoop2.7/jars/gson-2.2.4.jar\n",
            "spark-3.0.0-preview2-bin-hadoop2.7/jars/arpack_combined_all-0.1.jar\n",
            "spark-3.0.0-preview2-bin-hadoop2.7/jars/janino-3.0.15.jar\n",
            "spark-3.0.0-preview2-bin-hadoop2.7/jars/hive-shims-common-2.3.6.jar\n",
            "spark-3.0.0-preview2-bin-hadoop2.7/jars/apacheds-i18n-2.0.0-M15.jar\n",
            "spark-3.0.0-preview2-bin-hadoop2.7/jars/jodd-core-3.5.2.jar\n",
            "spark-3.0.0-preview2-bin-hadoop2.7/jars/antlr4-runtime-4.7.1.jar\n",
            "spark-3.0.0-preview2-bin-hadoop2.7/jars/htrace-core-3.1.0-incubating.jar\n",
            "spark-3.0.0-preview2-bin-hadoop2.7/jars/datanucleus-rdbms-4.1.19.jar\n",
            "spark-3.0.0-preview2-bin-hadoop2.7/jars/hive-beeline-2.3.6.jar\n",
            "spark-3.0.0-preview2-bin-hadoop2.7/jars/jakarta.inject-2.6.1.jar\n",
            "spark-3.0.0-preview2-bin-hadoop2.7/jars/automaton-1.11-8.jar\n",
            "spark-3.0.0-preview2-bin-hadoop2.7/jars/spark-launcher_2.12-3.0.0-preview2.jar\n",
            "spark-3.0.0-preview2-bin-hadoop2.7/jars/guava-14.0.1.jar\n",
            "spark-3.0.0-preview2-bin-hadoop2.7/jars/commons-text-1.6.jar\n",
            "spark-3.0.0-preview2-bin-hadoop2.7/jars/hadoop-mapreduce-client-core-2.7.4.jar\n",
            "spark-3.0.0-preview2-bin-hadoop2.7/jars/hive-storage-api-2.6.0.jar\n",
            "spark-3.0.0-preview2-bin-hadoop2.7/jars/commons-beanutils-1.9.4.jar\n",
            "spark-3.0.0-preview2-bin-hadoop2.7/jars/commons-httpclient-3.1.jar\n",
            "spark-3.0.0-preview2-bin-hadoop2.7/NOTICE\n",
            "spark-3.0.0-preview2-bin-hadoop2.7/python/\n",
            "spark-3.0.0-preview2-bin-hadoop2.7/python/.gitignore\n",
            "spark-3.0.0-preview2-bin-hadoop2.7/python/pyspark/\n",
            "spark-3.0.0-preview2-bin-hadoop2.7/python/pyspark/heapq3.py\n",
            "spark-3.0.0-preview2-bin-hadoop2.7/python/pyspark/ml/\n",
            "spark-3.0.0-preview2-bin-hadoop2.7/python/pyspark/ml/tuning.py\n",
            "spark-3.0.0-preview2-bin-hadoop2.7/python/pyspark/ml/clustering.py\n",
            "spark-3.0.0-preview2-bin-hadoop2.7/python/pyspark/ml/wrapper.py\n",
            "spark-3.0.0-preview2-bin-hadoop2.7/python/pyspark/ml/util.py\n",
            "spark-3.0.0-preview2-bin-hadoop2.7/python/pyspark/ml/tests/\n",
            "spark-3.0.0-preview2-bin-hadoop2.7/python/pyspark/ml/tests/test_stat.py\n",
            "spark-3.0.0-preview2-bin-hadoop2.7/python/pyspark/ml/tests/test_persistence.py\n",
            "spark-3.0.0-preview2-bin-hadoop2.7/python/pyspark/ml/tests/__init__.py\n",
            "spark-3.0.0-preview2-bin-hadoop2.7/python/pyspark/ml/tests/test_linalg.py\n",
            "spark-3.0.0-preview2-bin-hadoop2.7/python/pyspark/ml/tests/test_training_summary.py\n",
            "spark-3.0.0-preview2-bin-hadoop2.7/python/pyspark/ml/tests/test_param.py\n",
            "spark-3.0.0-preview2-bin-hadoop2.7/python/pyspark/ml/tests/test_feature.py\n",
            "spark-3.0.0-preview2-bin-hadoop2.7/python/pyspark/ml/tests/test_image.py\n",
            "spark-3.0.0-preview2-bin-hadoop2.7/python/pyspark/ml/tests/test_evaluation.py\n",
            "spark-3.0.0-preview2-bin-hadoop2.7/python/pyspark/ml/tests/test_wrapper.py\n",
            "spark-3.0.0-preview2-bin-hadoop2.7/python/pyspark/ml/tests/test_pipeline.py\n",
            "spark-3.0.0-preview2-bin-hadoop2.7/python/pyspark/ml/tests/test_base.py\n",
            "spark-3.0.0-preview2-bin-hadoop2.7/python/pyspark/ml/tests/test_algorithms.py\n",
            "spark-3.0.0-preview2-bin-hadoop2.7/python/pyspark/ml/tests/test_tuning.py\n",
            "spark-3.0.0-preview2-bin-hadoop2.7/python/pyspark/ml/tree.py\n",
            "spark-3.0.0-preview2-bin-hadoop2.7/python/pyspark/ml/fpm.py\n",
            "spark-3.0.0-preview2-bin-hadoop2.7/python/pyspark/ml/__init__.py\n",
            "spark-3.0.0-preview2-bin-hadoop2.7/python/pyspark/ml/linalg/\n",
            "spark-3.0.0-preview2-bin-hadoop2.7/python/pyspark/ml/linalg/__init__.py\n",
            "spark-3.0.0-preview2-bin-hadoop2.7/python/pyspark/ml/base.py\n",
            "spark-3.0.0-preview2-bin-hadoop2.7/python/pyspark/ml/common.py\n",
            "spark-3.0.0-preview2-bin-hadoop2.7/python/pyspark/ml/evaluation.py\n",
            "spark-3.0.0-preview2-bin-hadoop2.7/python/pyspark/ml/classification.py\n",
            "spark-3.0.0-preview2-bin-hadoop2.7/python/pyspark/ml/param/\n",
            "spark-3.0.0-preview2-bin-hadoop2.7/python/pyspark/ml/param/shared.py\n",
            "spark-3.0.0-preview2-bin-hadoop2.7/python/pyspark/ml/param/__init__.py\n",
            "spark-3.0.0-preview2-bin-hadoop2.7/python/pyspark/ml/param/_shared_params_code_gen.py\n",
            "spark-3.0.0-preview2-bin-hadoop2.7/python/pyspark/ml/feature.py\n",
            "spark-3.0.0-preview2-bin-hadoop2.7/python/pyspark/ml/image.py\n",
            "spark-3.0.0-preview2-bin-hadoop2.7/python/pyspark/ml/pipeline.py\n",
            "spark-3.0.0-preview2-bin-hadoop2.7/python/pyspark/ml/recommendation.py\n",
            "spark-3.0.0-preview2-bin-hadoop2.7/python/pyspark/ml/stat.py\n",
            "spark-3.0.0-preview2-bin-hadoop2.7/python/pyspark/ml/regression.py\n",
            "spark-3.0.0-preview2-bin-hadoop2.7/python/pyspark/shuffle.py\n",
            "spark-3.0.0-preview2-bin-hadoop2.7/python/pyspark/streaming/\n",
            "spark-3.0.0-preview2-bin-hadoop2.7/python/pyspark/streaming/util.py\n",
            "spark-3.0.0-preview2-bin-hadoop2.7/python/pyspark/streaming/context.py\n",
            "spark-3.0.0-preview2-bin-hadoop2.7/python/pyspark/streaming/tests/\n",
            "spark-3.0.0-preview2-bin-hadoop2.7/python/pyspark/streaming/tests/test_dstream.py\n",
            "spark-3.0.0-preview2-bin-hadoop2.7/python/pyspark/streaming/tests/__init__.py\n",
            "spark-3.0.0-preview2-bin-hadoop2.7/python/pyspark/streaming/tests/test_context.py\n",
            "spark-3.0.0-preview2-bin-hadoop2.7/python/pyspark/streaming/tests/test_kinesis.py\n",
            "spark-3.0.0-preview2-bin-hadoop2.7/python/pyspark/streaming/tests/test_listener.py\n",
            "spark-3.0.0-preview2-bin-hadoop2.7/python/pyspark/streaming/kinesis.py\n",
            "spark-3.0.0-preview2-bin-hadoop2.7/python/pyspark/streaming/dstream.py\n",
            "spark-3.0.0-preview2-bin-hadoop2.7/python/pyspark/streaming/__init__.py\n",
            "spark-3.0.0-preview2-bin-hadoop2.7/python/pyspark/streaming/listener.py\n",
            "spark-3.0.0-preview2-bin-hadoop2.7/python/pyspark/util.py\n",
            "spark-3.0.0-preview2-bin-hadoop2.7/python/pyspark/rddsampler.py\n",
            "spark-3.0.0-preview2-bin-hadoop2.7/python/pyspark/context.py\n",
            "spark-3.0.0-preview2-bin-hadoop2.7/python/pyspark/rdd.py\n",
            "spark-3.0.0-preview2-bin-hadoop2.7/python/pyspark/tests/\n",
            "spark-3.0.0-preview2-bin-hadoop2.7/python/pyspark/tests/test_serializers.py\n",
            "spark-3.0.0-preview2-bin-hadoop2.7/python/pyspark/tests/test_profiler.py\n",
            "spark-3.0.0-preview2-bin-hadoop2.7/python/pyspark/tests/test_pin_thread.py\n",
            "spark-3.0.0-preview2-bin-hadoop2.7/python/pyspark/tests/test_util.py\n",
            "spark-3.0.0-preview2-bin-hadoop2.7/python/pyspark/tests/__init__.py\n",
            "spark-3.0.0-preview2-bin-hadoop2.7/python/pyspark/tests/test_join.py\n",
            "spark-3.0.0-preview2-bin-hadoop2.7/python/pyspark/tests/test_taskcontext.py\n",
            "spark-3.0.0-preview2-bin-hadoop2.7/python/pyspark/tests/test_rdd.py\n",
            "spark-3.0.0-preview2-bin-hadoop2.7/python/pyspark/tests/test_appsubmit.py\n",
            "spark-3.0.0-preview2-bin-hadoop2.7/python/pyspark/tests/test_context.py\n",
            "spark-3.0.0-preview2-bin-hadoop2.7/python/pyspark/tests/test_broadcast.py\n",
            "spark-3.0.0-preview2-bin-hadoop2.7/python/pyspark/tests/test_rddbarrier.py\n",
            "spark-3.0.0-preview2-bin-hadoop2.7/python/pyspark/tests/test_readwrite.py\n",
            "spark-3.0.0-preview2-bin-hadoop2.7/python/pyspark/tests/test_daemon.py\n",
            "spark-3.0.0-preview2-bin-hadoop2.7/python/pyspark/tests/test_worker.py\n",
            "spark-3.0.0-preview2-bin-hadoop2.7/python/pyspark/tests/test_conf.py\n",
            "spark-3.0.0-preview2-bin-hadoop2.7/python/pyspark/tests/test_shuffle.py\n",
            "spark-3.0.0-preview2-bin-hadoop2.7/python/pyspark/_globals.py\n",
            "spark-3.0.0-preview2-bin-hadoop2.7/python/pyspark/resultiterable.py\n",
            "spark-3.0.0-preview2-bin-hadoop2.7/python/pyspark/__init__.py\n",
            "spark-3.0.0-preview2-bin-hadoop2.7/python/pyspark/resourceinformation.py\n",
            "spark-3.0.0-preview2-bin-hadoop2.7/python/pyspark/find_spark_home.py\n",
            "spark-3.0.0-preview2-bin-hadoop2.7/python/pyspark/version.py\n",
            "spark-3.0.0-preview2-bin-hadoop2.7/python/pyspark/profiler.py\n",
            "spark-3.0.0-preview2-bin-hadoop2.7/python/pyspark/cloudpickle.py\n",
            "spark-3.0.0-preview2-bin-hadoop2.7/python/pyspark/statcounter.py\n",
            "spark-3.0.0-preview2-bin-hadoop2.7/python/pyspark/status.py\n",
            "spark-3.0.0-preview2-bin-hadoop2.7/python/pyspark/python/\n",
            "spark-3.0.0-preview2-bin-hadoop2.7/python/pyspark/python/pyspark/\n",
            "spark-3.0.0-preview2-bin-hadoop2.7/python/pyspark/python/pyspark/shell.py\n",
            "spark-3.0.0-preview2-bin-hadoop2.7/python/pyspark/sql/\n",
            "spark-3.0.0-preview2-bin-hadoop2.7/python/pyspark/sql/context.py\n",
            "spark-3.0.0-preview2-bin-hadoop2.7/python/pyspark/sql/functions.py\n",
            "spark-3.0.0-preview2-bin-hadoop2.7/python/pyspark/sql/tests/\n",
            "spark-3.0.0-preview2-bin-hadoop2.7/python/pyspark/sql/tests/test_udf.py\n",
            "spark-3.0.0-preview2-bin-hadoop2.7/python/pyspark/sql/tests/test_pandas_udf_cogrouped_map.py\n",
            "spark-3.0.0-preview2-bin-hadoop2.7/python/pyspark/sql/tests/test_pandas_udf_window.py\n",
            "spark-3.0.0-preview2-bin-hadoop2.7/python/pyspark/sql/tests/__init__.py\n",
            "spark-3.0.0-preview2-bin-hadoop2.7/python/pyspark/sql/tests/test_arrow.py\n",
            "spark-3.0.0-preview2-bin-hadoop2.7/python/pyspark/sql/tests/test_dataframe.py\n",
            "spark-3.0.0-preview2-bin-hadoop2.7/python/pyspark/sql/tests/test_functions.py\n",
            "spark-3.0.0-preview2-bin-hadoop2.7/python/pyspark/sql/tests/test_pandas_udf.py\n",
            "spark-3.0.0-preview2-bin-hadoop2.7/python/pyspark/sql/tests/test_pandas_udf_iter.py\n",
            "spark-3.0.0-preview2-bin-hadoop2.7/python/pyspark/sql/tests/test_context.py\n",
            "spark-3.0.0-preview2-bin-hadoop2.7/python/pyspark/sql/tests/test_group.py\n",
            "spark-3.0.0-preview2-bin-hadoop2.7/python/pyspark/sql/tests/test_datasources.py\n",
            "spark-3.0.0-preview2-bin-hadoop2.7/python/pyspark/sql/tests/test_catalog.py\n",
            "spark-3.0.0-preview2-bin-hadoop2.7/python/pyspark/sql/tests/test_serde.py\n",
            "spark-3.0.0-preview2-bin-hadoop2.7/python/pyspark/sql/tests/test_readwriter.py\n",
            "spark-3.0.0-preview2-bin-hadoop2.7/python/pyspark/sql/tests/test_pandas_udf_scalar.py\n",
            "spark-3.0.0-preview2-bin-hadoop2.7/python/pyspark/sql/tests/test_types.py\n",
            "spark-3.0.0-preview2-bin-hadoop2.7/python/pyspark/sql/tests/test_streaming.py\n",
            "spark-3.0.0-preview2-bin-hadoop2.7/python/pyspark/sql/tests/test_conf.py\n",
            "spark-3.0.0-preview2-bin-hadoop2.7/python/pyspark/sql/tests/test_utils.py\n",
            "spark-3.0.0-preview2-bin-hadoop2.7/python/pyspark/sql/tests/test_pandas_udf_grouped_agg.py\n",
            "spark-3.0.0-preview2-bin-hadoop2.7/python/pyspark/sql/tests/test_session.py\n",
            "spark-3.0.0-preview2-bin-hadoop2.7/python/pyspark/sql/tests/test_column.py\n",
            "spark-3.0.0-preview2-bin-hadoop2.7/python/pyspark/sql/tests/test_pandas_udf_grouped_map.py\n",
            "spark-3.0.0-preview2-bin-hadoop2.7/python/pyspark/sql/dataframe.py\n",
            "spark-3.0.0-preview2-bin-hadoop2.7/python/pyspark/sql/group.py\n",
            "spark-3.0.0-preview2-bin-hadoop2.7/python/pyspark/sql/utils.py\n",
            "spark-3.0.0-preview2-bin-hadoop2.7/python/pyspark/sql/__init__.py\n",
            "spark-3.0.0-preview2-bin-hadoop2.7/python/pyspark/sql/types.py\n",
            "spark-3.0.0-preview2-bin-hadoop2.7/python/pyspark/sql/catalog.py\n",
            "spark-3.0.0-preview2-bin-hadoop2.7/python/pyspark/sql/streaming.py\n",
            "spark-3.0.0-preview2-bin-hadoop2.7/python/pyspark/sql/window.py\n",
            "spark-3.0.0-preview2-bin-hadoop2.7/python/pyspark/sql/avro/\n",
            "spark-3.0.0-preview2-bin-hadoop2.7/python/pyspark/sql/avro/functions.py\n",
            "spark-3.0.0-preview2-bin-hadoop2.7/python/pyspark/sql/avro/__init__.py\n",
            "spark-3.0.0-preview2-bin-hadoop2.7/python/pyspark/sql/readwriter.py\n",
            "spark-3.0.0-preview2-bin-hadoop2.7/python/pyspark/sql/conf.py\n",
            "spark-3.0.0-preview2-bin-hadoop2.7/python/pyspark/sql/column.py\n",
            "spark-3.0.0-preview2-bin-hadoop2.7/python/pyspark/sql/udf.py\n",
            "spark-3.0.0-preview2-bin-hadoop2.7/python/pyspark/sql/session.py\n",
            "spark-3.0.0-preview2-bin-hadoop2.7/python/pyspark/sql/cogroup.py\n",
            "spark-3.0.0-preview2-bin-hadoop2.7/python/pyspark/mllib/\n",
            "spark-3.0.0-preview2-bin-hadoop2.7/python/pyspark/mllib/clustering.py\n",
            "spark-3.0.0-preview2-bin-hadoop2.7/python/pyspark/mllib/util.py\n",
            "spark-3.0.0-preview2-bin-hadoop2.7/python/pyspark/mllib/tests/\n",
            "spark-3.0.0-preview2-bin-hadoop2.7/python/pyspark/mllib/tests/test_stat.py\n",
            "spark-3.0.0-preview2-bin-hadoop2.7/python/pyspark/mllib/tests/test_util.py\n",
            "spark-3.0.0-preview2-bin-hadoop2.7/python/pyspark/mllib/tests/__init__.py\n",
            "spark-3.0.0-preview2-bin-hadoop2.7/python/pyspark/mllib/tests/test_linalg.py\n",
            "spark-3.0.0-preview2-bin-hadoop2.7/python/pyspark/mllib/tests/test_feature.py\n",
            "spark-3.0.0-preview2-bin-hadoop2.7/python/pyspark/mllib/tests/test_streaming_algorithms.py\n",
            "spark-3.0.0-preview2-bin-hadoop2.7/python/pyspark/mllib/tests/test_algorithms.py\n",
            "spark-3.0.0-preview2-bin-hadoop2.7/python/pyspark/mllib/tree.py\n",
            "spark-3.0.0-preview2-bin-hadoop2.7/python/pyspark/mllib/fpm.py\n",
            "spark-3.0.0-preview2-bin-hadoop2.7/python/pyspark/mllib/__init__.py\n",
            "spark-3.0.0-preview2-bin-hadoop2.7/python/pyspark/mllib/linalg/\n",
            "spark-3.0.0-preview2-bin-hadoop2.7/python/pyspark/mllib/linalg/__init__.py\n",
            "spark-3.0.0-preview2-bin-hadoop2.7/python/pyspark/mllib/linalg/distributed.py\n",
            "spark-3.0.0-preview2-bin-hadoop2.7/python/pyspark/mllib/common.py\n",
            "spark-3.0.0-preview2-bin-hadoop2.7/python/pyspark/mllib/random.py\n",
            "spark-3.0.0-preview2-bin-hadoop2.7/python/pyspark/mllib/evaluation.py\n",
            "spark-3.0.0-preview2-bin-hadoop2.7/python/pyspark/mllib/classification.py\n",
            "spark-3.0.0-preview2-bin-hadoop2.7/python/pyspark/mllib/feature.py\n",
            "spark-3.0.0-preview2-bin-hadoop2.7/python/pyspark/mllib/recommendation.py\n",
            "spark-3.0.0-preview2-bin-hadoop2.7/python/pyspark/mllib/stat/\n",
            "spark-3.0.0-preview2-bin-hadoop2.7/python/pyspark/mllib/stat/KernelDensity.py\n",
            "spark-3.0.0-preview2-bin-hadoop2.7/python/pyspark/mllib/stat/__init__.py\n",
            "spark-3.0.0-preview2-bin-hadoop2.7/python/pyspark/mllib/stat/test.py\n",
            "spark-3.0.0-preview2-bin-hadoop2.7/python/pyspark/mllib/stat/distribution.py\n",
            "spark-3.0.0-preview2-bin-hadoop2.7/python/pyspark/mllib/stat/_statistics.py\n",
            "spark-3.0.0-preview2-bin-hadoop2.7/python/pyspark/mllib/regression.py\n",
            "spark-3.0.0-preview2-bin-hadoop2.7/python/pyspark/taskcontext.py\n",
            "spark-3.0.0-preview2-bin-hadoop2.7/python/pyspark/serializers.py\n",
            "spark-3.0.0-preview2-bin-hadoop2.7/python/pyspark/conf.py\n",
            "spark-3.0.0-preview2-bin-hadoop2.7/python/pyspark/traceback_utils.py\n",
            "spark-3.0.0-preview2-bin-hadoop2.7/python/pyspark/storagelevel.py\n",
            "spark-3.0.0-preview2-bin-hadoop2.7/python/pyspark/worker.py\n",
            "spark-3.0.0-preview2-bin-hadoop2.7/python/pyspark/testing/\n",
            "spark-3.0.0-preview2-bin-hadoop2.7/python/pyspark/testing/sqlutils.py\n",
            "spark-3.0.0-preview2-bin-hadoop2.7/python/pyspark/testing/streamingutils.py\n",
            "spark-3.0.0-preview2-bin-hadoop2.7/python/pyspark/testing/utils.py\n",
            "spark-3.0.0-preview2-bin-hadoop2.7/python/pyspark/testing/__init__.py\n",
            "spark-3.0.0-preview2-bin-hadoop2.7/python/pyspark/testing/mlutils.py\n",
            "spark-3.0.0-preview2-bin-hadoop2.7/python/pyspark/testing/mllibutils.py\n",
            "spark-3.0.0-preview2-bin-hadoop2.7/python/pyspark/java_gateway.py\n",
            "spark-3.0.0-preview2-bin-hadoop2.7/python/pyspark/broadcast.py\n",
            "spark-3.0.0-preview2-bin-hadoop2.7/python/pyspark/join.py\n",
            "spark-3.0.0-preview2-bin-hadoop2.7/python/pyspark/files.py\n",
            "spark-3.0.0-preview2-bin-hadoop2.7/python/pyspark/accumulators.py\n",
            "spark-3.0.0-preview2-bin-hadoop2.7/python/pyspark/daemon.py\n",
            "spark-3.0.0-preview2-bin-hadoop2.7/python/pyspark/shell.py\n",
            "spark-3.0.0-preview2-bin-hadoop2.7/python/lib/\n",
            "spark-3.0.0-preview2-bin-hadoop2.7/python/lib/pyspark.zip\n",
            "spark-3.0.0-preview2-bin-hadoop2.7/python/lib/py4j-0.10.8.1-src.zip\n",
            "spark-3.0.0-preview2-bin-hadoop2.7/python/lib/PY4J_LICENSE.txt\n",
            "spark-3.0.0-preview2-bin-hadoop2.7/python/test_support/\n",
            "spark-3.0.0-preview2-bin-hadoop2.7/python/test_support/hello/\n",
            "spark-3.0.0-preview2-bin-hadoop2.7/python/test_support/hello/hello.txt\n",
            "spark-3.0.0-preview2-bin-hadoop2.7/python/test_support/hello/sub_hello/\n",
            "spark-3.0.0-preview2-bin-hadoop2.7/python/test_support/hello/sub_hello/sub_hello.txt\n",
            "spark-3.0.0-preview2-bin-hadoop2.7/python/test_support/userlib-0.1.zip\n",
            "spark-3.0.0-preview2-bin-hadoop2.7/python/test_support/sql/\n",
            "spark-3.0.0-preview2-bin-hadoop2.7/python/test_support/sql/streaming/\n",
            "spark-3.0.0-preview2-bin-hadoop2.7/python/test_support/sql/streaming/text-test.txt\n",
            "spark-3.0.0-preview2-bin-hadoop2.7/python/test_support/sql/people.json\n",
            "spark-3.0.0-preview2-bin-hadoop2.7/python/test_support/sql/people_array_utf16le.json\n",
            "spark-3.0.0-preview2-bin-hadoop2.7/python/test_support/sql/ages.csv\n",
            "spark-3.0.0-preview2-bin-hadoop2.7/python/test_support/sql/ages_newlines.csv\n",
            "spark-3.0.0-preview2-bin-hadoop2.7/python/test_support/sql/people1.json\n",
            "spark-3.0.0-preview2-bin-hadoop2.7/python/test_support/sql/people_array.json\n",
            "spark-3.0.0-preview2-bin-hadoop2.7/python/test_support/sql/text-test.txt\n",
            "spark-3.0.0-preview2-bin-hadoop2.7/python/test_support/sql/parquet_partitioned/\n",
            "spark-3.0.0-preview2-bin-hadoop2.7/python/test_support/sql/parquet_partitioned/_SUCCESS\n",
            "spark-3.0.0-preview2-bin-hadoop2.7/python/test_support/sql/parquet_partitioned/_metadata\n",
            "spark-3.0.0-preview2-bin-hadoop2.7/python/test_support/sql/parquet_partitioned/year=2014/\n",
            "spark-3.0.0-preview2-bin-hadoop2.7/python/test_support/sql/parquet_partitioned/year=2014/month=9/\n",
            "spark-3.0.0-preview2-bin-hadoop2.7/python/test_support/sql/parquet_partitioned/year=2014/month=9/day=1/\n",
            "spark-3.0.0-preview2-bin-hadoop2.7/python/test_support/sql/parquet_partitioned/year=2014/month=9/day=1/part-r-00008.gz.parquet\n",
            "spark-3.0.0-preview2-bin-hadoop2.7/python/test_support/sql/parquet_partitioned/year=2014/month=9/day=1/.part-r-00008.gz.parquet.crc\n",
            "spark-3.0.0-preview2-bin-hadoop2.7/python/test_support/sql/parquet_partitioned/_common_metadata\n",
            "spark-3.0.0-preview2-bin-hadoop2.7/python/test_support/sql/parquet_partitioned/year=2015/\n",
            "spark-3.0.0-preview2-bin-hadoop2.7/python/test_support/sql/parquet_partitioned/year=2015/month=10/\n",
            "spark-3.0.0-preview2-bin-hadoop2.7/python/test_support/sql/parquet_partitioned/year=2015/month=10/day=25/\n",
            "spark-3.0.0-preview2-bin-hadoop2.7/python/test_support/sql/parquet_partitioned/year=2015/month=10/day=25/part-r-00002.gz.parquet\n",
            "spark-3.0.0-preview2-bin-hadoop2.7/python/test_support/sql/parquet_partitioned/year=2015/month=10/day=25/part-r-00004.gz.parquet\n",
            "spark-3.0.0-preview2-bin-hadoop2.7/python/test_support/sql/parquet_partitioned/year=2015/month=10/day=25/.part-r-00004.gz.parquet.crc\n",
            "spark-3.0.0-preview2-bin-hadoop2.7/python/test_support/sql/parquet_partitioned/year=2015/month=10/day=25/.part-r-00002.gz.parquet.crc\n",
            "spark-3.0.0-preview2-bin-hadoop2.7/python/test_support/sql/parquet_partitioned/year=2015/month=10/day=26/\n",
            "spark-3.0.0-preview2-bin-hadoop2.7/python/test_support/sql/parquet_partitioned/year=2015/month=10/day=26/.part-r-00005.gz.parquet.crc\n",
            "spark-3.0.0-preview2-bin-hadoop2.7/python/test_support/sql/parquet_partitioned/year=2015/month=10/day=26/part-r-00005.gz.parquet\n",
            "spark-3.0.0-preview2-bin-hadoop2.7/python/test_support/sql/parquet_partitioned/year=2015/month=9/\n",
            "spark-3.0.0-preview2-bin-hadoop2.7/python/test_support/sql/parquet_partitioned/year=2015/month=9/day=1/\n",
            "spark-3.0.0-preview2-bin-hadoop2.7/python/test_support/sql/parquet_partitioned/year=2015/month=9/day=1/part-r-00007.gz.parquet\n",
            "spark-3.0.0-preview2-bin-hadoop2.7/python/test_support/sql/parquet_partitioned/year=2015/month=9/day=1/.part-r-00007.gz.parquet.crc\n",
            "spark-3.0.0-preview2-bin-hadoop2.7/python/test_support/sql/orc_partitioned/\n",
            "spark-3.0.0-preview2-bin-hadoop2.7/python/test_support/sql/orc_partitioned/b=1/\n",
            "spark-3.0.0-preview2-bin-hadoop2.7/python/test_support/sql/orc_partitioned/b=1/c=1/\n",
            "spark-3.0.0-preview2-bin-hadoop2.7/python/test_support/sql/orc_partitioned/b=1/c=1/.part-r-00000-829af031-b970-49d6-ad39-30460a0be2c8.orc.crc\n",
            "spark-3.0.0-preview2-bin-hadoop2.7/python/test_support/sql/orc_partitioned/b=1/c=1/part-r-00000-829af031-b970-49d6-ad39-30460a0be2c8.orc\n",
            "spark-3.0.0-preview2-bin-hadoop2.7/python/test_support/sql/orc_partitioned/_SUCCESS\n",
            "spark-3.0.0-preview2-bin-hadoop2.7/python/test_support/sql/orc_partitioned/b=0/\n",
            "spark-3.0.0-preview2-bin-hadoop2.7/python/test_support/sql/orc_partitioned/b=0/c=0/\n",
            "spark-3.0.0-preview2-bin-hadoop2.7/python/test_support/sql/orc_partitioned/b=0/c=0/.part-r-00000-829af031-b970-49d6-ad39-30460a0be2c8.orc.crc\n",
            "spark-3.0.0-preview2-bin-hadoop2.7/python/test_support/sql/orc_partitioned/b=0/c=0/part-r-00000-829af031-b970-49d6-ad39-30460a0be2c8.orc\n",
            "spark-3.0.0-preview2-bin-hadoop2.7/python/test_support/userlibrary.py\n",
            "spark-3.0.0-preview2-bin-hadoop2.7/python/test_support/SimpleHTTPServer.py\n",
            "spark-3.0.0-preview2-bin-hadoop2.7/python/test_coverage/\n",
            "spark-3.0.0-preview2-bin-hadoop2.7/python/test_coverage/conf/\n",
            "spark-3.0.0-preview2-bin-hadoop2.7/python/test_coverage/conf/spark-defaults.conf\n",
            "spark-3.0.0-preview2-bin-hadoop2.7/python/test_coverage/sitecustomize.py\n",
            "spark-3.0.0-preview2-bin-hadoop2.7/python/test_coverage/coverage_daemon.py\n",
            "spark-3.0.0-preview2-bin-hadoop2.7/python/pyspark.egg-info/\n",
            "spark-3.0.0-preview2-bin-hadoop2.7/python/pyspark.egg-info/requires.txt\n",
            "spark-3.0.0-preview2-bin-hadoop2.7/python/pyspark.egg-info/SOURCES.txt\n",
            "spark-3.0.0-preview2-bin-hadoop2.7/python/pyspark.egg-info/dependency_links.txt\n",
            "spark-3.0.0-preview2-bin-hadoop2.7/python/pyspark.egg-info/PKG-INFO\n",
            "spark-3.0.0-preview2-bin-hadoop2.7/python/pyspark.egg-info/top_level.txt\n",
            "spark-3.0.0-preview2-bin-hadoop2.7/python/run-tests\n",
            "spark-3.0.0-preview2-bin-hadoop2.7/python/setup.cfg\n",
            "spark-3.0.0-preview2-bin-hadoop2.7/python/run-tests.py\n",
            "spark-3.0.0-preview2-bin-hadoop2.7/python/pylintrc\n",
            "spark-3.0.0-preview2-bin-hadoop2.7/python/run-tests-with-coverage\n",
            "spark-3.0.0-preview2-bin-hadoop2.7/python/README.md\n",
            "spark-3.0.0-preview2-bin-hadoop2.7/python/.coveragerc\n",
            "spark-3.0.0-preview2-bin-hadoop2.7/python/docs/\n",
            "spark-3.0.0-preview2-bin-hadoop2.7/python/docs/_static/\n",
            "spark-3.0.0-preview2-bin-hadoop2.7/python/docs/_static/copybutton.js\n",
            "spark-3.0.0-preview2-bin-hadoop2.7/python/docs/_static/pyspark.js\n",
            "spark-3.0.0-preview2-bin-hadoop2.7/python/docs/_static/pyspark.css\n",
            "spark-3.0.0-preview2-bin-hadoop2.7/python/docs/pyspark.ml.rst\n",
            "spark-3.0.0-preview2-bin-hadoop2.7/python/docs/_templates/\n",
            "spark-3.0.0-preview2-bin-hadoop2.7/python/docs/_templates/layout.html\n",
            "spark-3.0.0-preview2-bin-hadoop2.7/python/docs/pyspark.sql.rst\n",
            "spark-3.0.0-preview2-bin-hadoop2.7/python/docs/make.bat\n",
            "spark-3.0.0-preview2-bin-hadoop2.7/python/docs/Makefile\n",
            "spark-3.0.0-preview2-bin-hadoop2.7/python/docs/conf.py\n",
            "spark-3.0.0-preview2-bin-hadoop2.7/python/docs/make2.bat\n",
            "spark-3.0.0-preview2-bin-hadoop2.7/python/docs/index.rst\n",
            "spark-3.0.0-preview2-bin-hadoop2.7/python/docs/pyspark.mllib.rst\n",
            "spark-3.0.0-preview2-bin-hadoop2.7/python/docs/pyspark.streaming.rst\n",
            "spark-3.0.0-preview2-bin-hadoop2.7/python/docs/pyspark.rst\n",
            "spark-3.0.0-preview2-bin-hadoop2.7/python/MANIFEST.in\n",
            "spark-3.0.0-preview2-bin-hadoop2.7/python/setup.py\n",
            "spark-3.0.0-preview2-bin-hadoop2.7/python/dist/\n",
            "spark-3.0.0-preview2-bin-hadoop2.7/bin/\n",
            "spark-3.0.0-preview2-bin-hadoop2.7/bin/spark-submit.cmd\n",
            "spark-3.0.0-preview2-bin-hadoop2.7/bin/pyspark.cmd\n",
            "spark-3.0.0-preview2-bin-hadoop2.7/bin/spark-sql\n",
            "spark-3.0.0-preview2-bin-hadoop2.7/bin/beeline\n",
            "spark-3.0.0-preview2-bin-hadoop2.7/bin/pyspark\n",
            "spark-3.0.0-preview2-bin-hadoop2.7/bin/load-spark-env.sh\n",
            "spark-3.0.0-preview2-bin-hadoop2.7/bin/load-spark-env.cmd\n",
            "spark-3.0.0-preview2-bin-hadoop2.7/bin/spark-submit\n",
            "spark-3.0.0-preview2-bin-hadoop2.7/bin/run-example.cmd\n",
            "spark-3.0.0-preview2-bin-hadoop2.7/bin/find-spark-home.cmd\n",
            "spark-3.0.0-preview2-bin-hadoop2.7/bin/spark-shell2.cmd\n",
            "spark-3.0.0-preview2-bin-hadoop2.7/bin/docker-image-tool.sh\n",
            "spark-3.0.0-preview2-bin-hadoop2.7/bin/sparkR2.cmd\n",
            "spark-3.0.0-preview2-bin-hadoop2.7/bin/sparkR\n",
            "spark-3.0.0-preview2-bin-hadoop2.7/bin/find-spark-home\n",
            "spark-3.0.0-preview2-bin-hadoop2.7/bin/spark-shell.cmd\n",
            "spark-3.0.0-preview2-bin-hadoop2.7/bin/spark-submit2.cmd\n",
            "spark-3.0.0-preview2-bin-hadoop2.7/bin/spark-class2.cmd\n",
            "spark-3.0.0-preview2-bin-hadoop2.7/bin/spark-sql2.cmd\n",
            "spark-3.0.0-preview2-bin-hadoop2.7/bin/spark-class\n",
            "spark-3.0.0-preview2-bin-hadoop2.7/bin/spark-sql.cmd\n",
            "spark-3.0.0-preview2-bin-hadoop2.7/bin/pyspark2.cmd\n",
            "spark-3.0.0-preview2-bin-hadoop2.7/bin/beeline.cmd\n",
            "spark-3.0.0-preview2-bin-hadoop2.7/bin/run-example\n",
            "spark-3.0.0-preview2-bin-hadoop2.7/bin/spark-shell\n",
            "spark-3.0.0-preview2-bin-hadoop2.7/bin/spark-class.cmd\n",
            "spark-3.0.0-preview2-bin-hadoop2.7/bin/sparkR.cmd\n",
            "spark-3.0.0-preview2-bin-hadoop2.7/sbin/\n",
            "spark-3.0.0-preview2-bin-hadoop2.7/sbin/stop-slave.sh\n",
            "spark-3.0.0-preview2-bin-hadoop2.7/sbin/start-history-server.sh\n",
            "spark-3.0.0-preview2-bin-hadoop2.7/sbin/stop-slaves.sh\n",
            "spark-3.0.0-preview2-bin-hadoop2.7/sbin/stop-history-server.sh\n",
            "spark-3.0.0-preview2-bin-hadoop2.7/sbin/start-thriftserver.sh\n",
            "spark-3.0.0-preview2-bin-hadoop2.7/sbin/start-mesos-shuffle-service.sh\n",
            "spark-3.0.0-preview2-bin-hadoop2.7/sbin/start-master.sh\n",
            "spark-3.0.0-preview2-bin-hadoop2.7/sbin/stop-master.sh\n",
            "spark-3.0.0-preview2-bin-hadoop2.7/sbin/stop-mesos-dispatcher.sh\n",
            "spark-3.0.0-preview2-bin-hadoop2.7/sbin/start-slave.sh\n",
            "spark-3.0.0-preview2-bin-hadoop2.7/sbin/start-mesos-dispatcher.sh\n",
            "spark-3.0.0-preview2-bin-hadoop2.7/sbin/start-slaves.sh\n",
            "spark-3.0.0-preview2-bin-hadoop2.7/sbin/stop-mesos-shuffle-service.sh\n",
            "spark-3.0.0-preview2-bin-hadoop2.7/sbin/stop-all.sh\n",
            "spark-3.0.0-preview2-bin-hadoop2.7/sbin/slaves.sh\n",
            "spark-3.0.0-preview2-bin-hadoop2.7/sbin/spark-daemons.sh\n",
            "spark-3.0.0-preview2-bin-hadoop2.7/sbin/start-all.sh\n",
            "spark-3.0.0-preview2-bin-hadoop2.7/sbin/spark-daemon.sh\n",
            "spark-3.0.0-preview2-bin-hadoop2.7/sbin/stop-thriftserver.sh\n",
            "spark-3.0.0-preview2-bin-hadoop2.7/sbin/spark-config.sh\n",
            "spark-3.0.0-preview2-bin-hadoop2.7/RELEASE\n",
            "spark-3.0.0-preview2-bin-hadoop2.7/README.md\n",
            "spark-3.0.0-preview2-bin-hadoop2.7/yarn/\n",
            "spark-3.0.0-preview2-bin-hadoop2.7/yarn/spark-3.0.0-preview2-yarn-shuffle.jar\n",
            "spark-3.0.0-preview2-bin-hadoop2.7/LICENSE\n",
            "spark-3.0.0-preview2-bin-hadoop2.7/R/\n",
            "spark-3.0.0-preview2-bin-hadoop2.7/R/lib/\n",
            "spark-3.0.0-preview2-bin-hadoop2.7/R/lib/SparkR/\n",
            "spark-3.0.0-preview2-bin-hadoop2.7/R/lib/SparkR/tests/\n",
            "spark-3.0.0-preview2-bin-hadoop2.7/R/lib/SparkR/tests/testthat/\n",
            "spark-3.0.0-preview2-bin-hadoop2.7/R/lib/SparkR/tests/testthat/test_basic.R\n",
            "spark-3.0.0-preview2-bin-hadoop2.7/R/lib/SparkR/INDEX\n",
            "spark-3.0.0-preview2-bin-hadoop2.7/R/lib/SparkR/help/\n",
            "spark-3.0.0-preview2-bin-hadoop2.7/R/lib/SparkR/help/SparkR.rdb\n",
            "spark-3.0.0-preview2-bin-hadoop2.7/R/lib/SparkR/help/SparkR.rdx\n",
            "spark-3.0.0-preview2-bin-hadoop2.7/R/lib/SparkR/help/paths.rds\n",
            "spark-3.0.0-preview2-bin-hadoop2.7/R/lib/SparkR/help/aliases.rds\n",
            "spark-3.0.0-preview2-bin-hadoop2.7/R/lib/SparkR/help/AnIndex\n",
            "spark-3.0.0-preview2-bin-hadoop2.7/R/lib/SparkR/worker/\n",
            "spark-3.0.0-preview2-bin-hadoop2.7/R/lib/SparkR/worker/daemon.R\n",
            "spark-3.0.0-preview2-bin-hadoop2.7/R/lib/SparkR/worker/worker.R\n",
            "spark-3.0.0-preview2-bin-hadoop2.7/R/lib/SparkR/html/\n",
            "spark-3.0.0-preview2-bin-hadoop2.7/R/lib/SparkR/html/00Index.html\n",
            "spark-3.0.0-preview2-bin-hadoop2.7/R/lib/SparkR/html/R.css\n",
            "spark-3.0.0-preview2-bin-hadoop2.7/R/lib/SparkR/Meta/\n",
            "spark-3.0.0-preview2-bin-hadoop2.7/R/lib/SparkR/Meta/hsearch.rds\n",
            "spark-3.0.0-preview2-bin-hadoop2.7/R/lib/SparkR/Meta/package.rds\n",
            "spark-3.0.0-preview2-bin-hadoop2.7/R/lib/SparkR/Meta/nsInfo.rds\n",
            "spark-3.0.0-preview2-bin-hadoop2.7/R/lib/SparkR/Meta/links.rds\n",
            "spark-3.0.0-preview2-bin-hadoop2.7/R/lib/SparkR/Meta/features.rds\n",
            "spark-3.0.0-preview2-bin-hadoop2.7/R/lib/SparkR/Meta/vignette.rds\n",
            "spark-3.0.0-preview2-bin-hadoop2.7/R/lib/SparkR/Meta/Rd.rds\n",
            "spark-3.0.0-preview2-bin-hadoop2.7/R/lib/SparkR/NAMESPACE\n",
            "spark-3.0.0-preview2-bin-hadoop2.7/R/lib/SparkR/profile/\n",
            "spark-3.0.0-preview2-bin-hadoop2.7/R/lib/SparkR/profile/general.R\n",
            "spark-3.0.0-preview2-bin-hadoop2.7/R/lib/SparkR/profile/shell.R\n",
            "spark-3.0.0-preview2-bin-hadoop2.7/R/lib/SparkR/DESCRIPTION\n",
            "spark-3.0.0-preview2-bin-hadoop2.7/R/lib/SparkR/R/\n",
            "spark-3.0.0-preview2-bin-hadoop2.7/R/lib/SparkR/R/SparkR.rdb\n",
            "spark-3.0.0-preview2-bin-hadoop2.7/R/lib/SparkR/R/SparkR\n",
            "spark-3.0.0-preview2-bin-hadoop2.7/R/lib/SparkR/R/SparkR.rdx\n",
            "spark-3.0.0-preview2-bin-hadoop2.7/R/lib/SparkR/doc/\n",
            "spark-3.0.0-preview2-bin-hadoop2.7/R/lib/SparkR/doc/sparkr-vignettes.R\n",
            "spark-3.0.0-preview2-bin-hadoop2.7/R/lib/SparkR/doc/sparkr-vignettes.html\n",
            "spark-3.0.0-preview2-bin-hadoop2.7/R/lib/SparkR/doc/sparkr-vignettes.Rmd\n",
            "spark-3.0.0-preview2-bin-hadoop2.7/R/lib/SparkR/doc/index.html\n",
            "spark-3.0.0-preview2-bin-hadoop2.7/R/lib/sparkr.zip\n",
            "spark-3.0.0-preview2-bin-hadoop2.7/kubernetes/\n",
            "spark-3.0.0-preview2-bin-hadoop2.7/kubernetes/tests/\n",
            "spark-3.0.0-preview2-bin-hadoop2.7/kubernetes/tests/worker_memory_check.py\n",
            "spark-3.0.0-preview2-bin-hadoop2.7/kubernetes/tests/py_container_checks.py\n",
            "spark-3.0.0-preview2-bin-hadoop2.7/kubernetes/tests/pyfiles.py\n",
            "spark-3.0.0-preview2-bin-hadoop2.7/kubernetes/dockerfiles/\n",
            "spark-3.0.0-preview2-bin-hadoop2.7/kubernetes/dockerfiles/spark/\n",
            "spark-3.0.0-preview2-bin-hadoop2.7/kubernetes/dockerfiles/spark/entrypoint.sh\n",
            "spark-3.0.0-preview2-bin-hadoop2.7/kubernetes/dockerfiles/spark/bindings/\n",
            "spark-3.0.0-preview2-bin-hadoop2.7/kubernetes/dockerfiles/spark/bindings/python/\n",
            "spark-3.0.0-preview2-bin-hadoop2.7/kubernetes/dockerfiles/spark/bindings/python/Dockerfile\n",
            "spark-3.0.0-preview2-bin-hadoop2.7/kubernetes/dockerfiles/spark/bindings/R/\n",
            "spark-3.0.0-preview2-bin-hadoop2.7/kubernetes/dockerfiles/spark/bindings/R/Dockerfile\n",
            "spark-3.0.0-preview2-bin-hadoop2.7/kubernetes/dockerfiles/spark/Dockerfile\n"
          ],
          "name": "stdout"
        }
      ]
    },
    {
      "cell_type": "code",
      "metadata": {
        "id": "8QhCJePzEEeT"
      },
      "source": [
        "!pip install -q findspark\n"
      ],
      "execution_count": null,
      "outputs": []
    },
    {
      "cell_type": "code",
      "metadata": {
        "id": "3LJZWm_yEHjc"
      },
      "source": [
        "import os\n",
        "os.environ[\"JAVA_HOME\"] = \"/usr/lib/jvm/java-8-openjdk-amd64\"\n",
        "os.environ[\"SPARK_HOME\"] = \"/content/spark-3.0.0-preview2-bin-hadoop2.7\"\n"
      ],
      "execution_count": null,
      "outputs": []
    },
    {
      "cell_type": "code",
      "metadata": {
        "id": "GH3wOmMUEPnd"
      },
      "source": [
        "import findspark\n",
        "findspark.init()\n",
        "import pyspark as ps\n",
        "import warnings\n",
        "from pyspark.sql import SQLContext"
      ],
      "execution_count": null,
      "outputs": []
    },
    {
      "cell_type": "code",
      "metadata": {
        "id": "P4WJS29wEqDc",
        "colab": {
          "base_uri": "https://localhost:8080/",
          "height": 34
        },
        "outputId": "b17479e9-1328-41cd-dbd6-920afa7cef26"
      },
      "source": [
        "#we first create a SparkContext that operates in a cluster\n",
        "\n",
        "try: \n",
        "  #create sparkcontext on CPUs available\n",
        "  sc=ps.SparkContext.getOrCreate()\n",
        "  sqlContext=SQLContext(sc)\n",
        "  print(\"Just created a sparkcontet\")\n",
        "except ValueError: \n",
        "  warnings.warn(\"SparkContext already exists\")"
      ],
      "execution_count": null,
      "outputs": [
        {
          "output_type": "stream",
          "text": [
            "Just created a sparkcontet\n"
          ],
          "name": "stdout"
        }
      ]
    },
    {
      "cell_type": "markdown",
      "metadata": {
        "id": "sjvcjh9GNXVj"
      },
      "source": [
        "Spark has three different data structures available through its APIs: RDD, Dataframe, Dataset. We can use anyone based on the requirement. RDDs can offer low-level functionality and control but dataframe and dataset offers custom view and structure, offers high level operations, saves space and exectues at superior speeds."
      ]
    },
    {
      "cell_type": "code",
      "metadata": {
        "id": "EhhBlE9YFsZn"
      },
      "source": [
        "tweet_df=sqlContext.read.format('com.databricks.spark.csv').options(header='true', inferschema='true').load('/content/clean_tweet.csv')\n"
      ],
      "execution_count": null,
      "outputs": []
    },
    {
      "cell_type": "code",
      "metadata": {
        "id": "fJDuHe87GIhM",
        "colab": {
          "base_uri": "https://localhost:8080/",
          "height": 34
        },
        "outputId": "9995f1ea-4376-4829-ea5c-93bb502add85"
      },
      "source": [
        "type(tweet_df)"
      ],
      "execution_count": null,
      "outputs": [
        {
          "output_type": "execute_result",
          "data": {
            "text/plain": [
              "pyspark.sql.dataframe.DataFrame"
            ]
          },
          "metadata": {
            "tags": []
          },
          "execution_count": 48
        }
      ]
    },
    {
      "cell_type": "code",
      "metadata": {
        "id": "L4gtiMAgGcw8",
        "colab": {
          "base_uri": "https://localhost:8080/",
          "height": 221
        },
        "outputId": "7ac2ec0b-189a-4424-9ff0-d58c9317c657"
      },
      "source": [
        "tweet_df.show(5)\n",
        "tweet_df.count()"
      ],
      "execution_count": null,
      "outputs": [
        {
          "output_type": "stream",
          "text": [
            "+---+--------------------+------+\n",
            "|_c0|                text|target|\n",
            "+---+--------------------+------+\n",
            "|  0|awww that bummer ...|     0|\n",
            "|  1|is upset that he ...|     0|\n",
            "|  2|dived many times ...|     0|\n",
            "|  3|my whole body fee...|     0|\n",
            "|  4|no it not behavin...|     0|\n",
            "+---+--------------------+------+\n",
            "only showing top 5 rows\n",
            "\n"
          ],
          "name": "stdout"
        },
        {
          "output_type": "execute_result",
          "data": {
            "text/plain": [
              "1600000"
            ]
          },
          "metadata": {
            "tags": []
          },
          "execution_count": 49
        }
      ]
    },
    {
      "cell_type": "code",
      "metadata": {
        "id": "ZJH1sBx5Gg7M",
        "colab": {
          "base_uri": "https://localhost:8080/",
          "height": 34
        },
        "outputId": "27273c2d-70a7-48fa-b20c-754e418d471a"
      },
      "source": [
        "tweet_df=tweet_df.dropna()\n",
        "tweet_df.count()"
      ],
      "execution_count": null,
      "outputs": [
        {
          "output_type": "execute_result",
          "data": {
            "text/plain": [
              "1596516"
            ]
          },
          "metadata": {
            "tags": []
          },
          "execution_count": 50
        }
      ]
    },
    {
      "cell_type": "code",
      "metadata": {
        "id": "48X-YBV0Go6t"
      },
      "source": [
        "#breaking the datasets into training  and test sets\n",
        "(train_set, test_set)=tweet_df.randomSplit([0.70, 0.30], seed=2000)"
      ],
      "execution_count": null,
      "outputs": []
    },
    {
      "cell_type": "code",
      "metadata": {
        "id": "e23FG4FWLpaX"
      },
      "source": [
        "from pyspark.ml.feature import HashingTF, IDF, Tokenizer\n",
        "from pyspark.ml.feature import StringIndexer\n",
        "from pyspark.ml import Pipeline"
      ],
      "execution_count": null,
      "outputs": []
    },
    {
      "cell_type": "code",
      "metadata": {
        "id": "6Iuvzq27MILm",
        "colab": {
          "base_uri": "https://localhost:8080/",
          "height": 204
        },
        "outputId": "f13ca855-804a-487c-82ba-68552acbcb31"
      },
      "source": [
        "tokenizer = Tokenizer(inputCol=\"text\", outputCol=\"words\")\n",
        "hashtf = HashingTF(numFeatures=2**16, inputCol=\"words\", outputCol='tf')\n",
        "idf = IDF(inputCol='tf', outputCol=\"features\", minDocFreq=5) #minDocFreq: remove sparse terms\n",
        "label_stringIdx = StringIndexer(inputCol = \"target\", outputCol = \"label\")\n",
        "pipeline = Pipeline(stages=[tokenizer, hashtf, idf, label_stringIdx])\n",
        "\n",
        "pipelineFit = pipeline.fit(train_set)\n",
        "train_df = pipelineFit.transform(train_set)\n",
        "test_df = pipelineFit.transform(test_set)\n",
        "train_df.show(5)"
      ],
      "execution_count": null,
      "outputs": [
        {
          "output_type": "stream",
          "text": [
            "+---+--------------------+------+--------------------+--------------------+--------------------+-----+\n",
            "|_c0|                text|target|               words|                  tf|            features|label|\n",
            "+---+--------------------+------+--------------------+--------------------+--------------------+-----+\n",
            "|  0|awww that bummer ...|     0|[awww, that, bumm...|(65536,[18354,216...|(65536,[18354,216...|  0.0|\n",
            "|  1|is upset that he ...|     0|[is, upset, that,...|(65536,[1981,3085...|(65536,[1981,3085...|  0.0|\n",
            "|  2|dived many times ...|     0|[dived, many, tim...|(65536,[2548,2888...|(65536,[2548,2888...|  0.0|\n",
            "|  3|my whole body fee...|     0|[my, whole, body,...|(65536,[1880,9243...|(65536,[1880,9243...|  0.0|\n",
            "|  4|no it not behavin...|     0|[no, it, not, beh...|(65536,[1968,8538...|(65536,[1968,8538...|  0.0|\n",
            "+---+--------------------+------+--------------------+--------------------+--------------------+-----+\n",
            "only showing top 5 rows\n",
            "\n"
          ],
          "name": "stdout"
        }
      ]
    },
    {
      "cell_type": "code",
      "metadata": {
        "id": "8mmkb5D0MN1e",
        "colab": {
          "base_uri": "https://localhost:8080/",
          "height": 34
        },
        "outputId": "de91c0ea-97bd-47d6-efb1-dae51b12853d"
      },
      "source": [
        "from pyspark.ml.classification import LogisticRegression\n",
        "lr = LogisticRegression(maxIter=100)\n",
        "lrModel = lr.fit(train_df)\n",
        "predictions = lrModel.transform(test_df)\n",
        "from pyspark.ml.evaluation import BinaryClassificationEvaluator\n",
        "evaluator = BinaryClassificationEvaluator(rawPredictionCol=\"rawPrediction\")\n",
        "evaluator.evaluate(predictions)"
      ],
      "execution_count": null,
      "outputs": [
        {
          "output_type": "execute_result",
          "data": {
            "text/plain": [
              "0.8546541739482671"
            ]
          },
          "metadata": {
            "tags": []
          },
          "execution_count": 55
        }
      ]
    },
    {
      "cell_type": "code",
      "metadata": {
        "id": "wgzm5OgGMzeO",
        "colab": {
          "base_uri": "https://localhost:8080/",
          "height": 34
        },
        "outputId": "2340adb8-8d98-406d-ed60-f170056682ea"
      },
      "source": [
        "type(predictions)"
      ],
      "execution_count": null,
      "outputs": [
        {
          "output_type": "execute_result",
          "data": {
            "text/plain": [
              "pyspark.sql.dataframe.DataFrame"
            ]
          },
          "metadata": {
            "tags": []
          },
          "execution_count": 56
        }
      ]
    },
    {
      "cell_type": "code",
      "metadata": {
        "id": "sb9vv3o9R7bc"
      },
      "source": [
        "#can be written to a cluster like this\n",
        "#predictions.write.csv(\"hdfs://cluster/usr/hdfs/prediction/result.csv\")"
      ],
      "execution_count": null,
      "outputs": []
    },
    {
      "cell_type": "markdown",
      "metadata": {
        "id": "wggnZGPtT3_t"
      },
      "source": [
        "BinaryClassificationEvaluator evaluates is by default areaUnderROC. Hence this is not the  measure of accuracy. So, we compute accuracy by counting the number of predictions matching the label and dividing it by the total entries."
      ]
    },
    {
      "cell_type": "code",
      "metadata": {
        "id": "b9VQlikvS3pB",
        "colab": {
          "base_uri": "https://localhost:8080/",
          "height": 34
        },
        "outputId": "73af6519-008f-4e36-9f70-98d3169dfffc"
      },
      "source": [
        "accuracy = predictions.filter(predictions.label == predictions.prediction).count() / float(test_set.count())\n",
        "accuracy"
      ],
      "execution_count": null,
      "outputs": [
        {
          "output_type": "execute_result",
          "data": {
            "text/plain": [
              "0.7853091901546577"
            ]
          },
          "metadata": {
            "tags": []
          },
          "execution_count": 58
        }
      ]
    },
    {
      "cell_type": "markdown",
      "metadata": {
        "id": "I7I15874aOK8"
      },
      "source": [
        "Converting pyspark dataframe to pandas dataframe for visualization\n",
        "\n"
      ]
    },
    {
      "cell_type": "code",
      "metadata": {
        "id": "QDASkq7CUDAh"
      },
      "source": [
        "pandas_df = predictions.select(\"*\").toPandas()\n"
      ],
      "execution_count": null,
      "outputs": []
    },
    {
      "cell_type": "code",
      "metadata": {
        "id": "L0ApniU8e7oA"
      },
      "source": [
        "#plotting confusion matrix\n",
        "from sklearn.metrics import classification_report, confusion_matrix\n",
        "import itertools\n",
        "def plot_confusion_matrix(cm, classes,\n",
        "                          normalize=False,\n",
        "                          title='Confusion matrix',\n",
        "                          cmap=plt.cm.Blues):\n",
        "    \"\"\"\n",
        "    This function prints and plots the confusion matrix.\n",
        "    Normalization can be applied by setting `normalize=True`.\n",
        "    \"\"\"\n",
        "    if normalize:\n",
        "        cm = cm.astype('float') / cm.sum(axis=1)[:, np.newaxis]\n",
        "        print(\"Normalized confusion matrix\")\n",
        "    else:\n",
        "        print('Confusion matrix, without normalization')\n",
        "\n",
        "    print(cm)\n",
        "\n",
        "    plt.imshow(cm, interpolation='nearest', cmap=cmap)\n",
        "    plt.title(title)\n",
        "    plt.colorbar()\n",
        "    tick_marks = np.arange(len(classes))\n",
        "    plt.xticks(tick_marks, classes, rotation=45)\n",
        "    plt.yticks(tick_marks, classes)\n",
        "\n",
        "    fmt = '.2f' if normalize else 'd'\n",
        "    thresh = cm.max() / 2.\n",
        "    for i, j in itertools.product(range(cm.shape[0]), range(cm.shape[1])):\n",
        "        plt.text(j, i, format(cm[i, j], fmt),\n",
        "                 horizontalalignment=\"center\",\n",
        "                 color=\"white\" if cm[i, j] > thresh else \"black\")\n",
        "\n",
        "    plt.tight_layout()\n",
        "    plt.ylabel('True label')\n",
        "    plt.xlabel('Predicted label')\n"
      ],
      "execution_count": null,
      "outputs": []
    },
    {
      "cell_type": "code",
      "metadata": {
        "id": "xPL3zCMksUuv",
        "colab": {
          "base_uri": "https://localhost:8080/",
          "height": 51
        },
        "outputId": "10b93c02-bca3-4bfc-ea4b-8ee266ea6854"
      },
      "source": [
        "cnf_matrix=confusion_matrix(pandas_df[\"label\"], pandas_df[\"prediction\"], labels=[1,0])\n",
        "print (cnf_matrix)"
      ],
      "execution_count": null,
      "outputs": [
        {
          "output_type": "stream",
          "text": [
            "[[191035  48722]\n",
            " [ 54169 185326]]\n"
          ],
          "name": "stdout"
        }
      ]
    },
    {
      "cell_type": "code",
      "metadata": {
        "id": "fooBSOYUsb3Y",
        "colab": {
          "base_uri": "https://localhost:8080/",
          "height": 362
        },
        "outputId": "315010c1-9c3e-491d-ca02-b4cfe01782e9"
      },
      "source": [
        "plt.figure()\n",
        "plot_confusion_matrix(cnf_matrix, classes=['label=1','label=0'],normalize= False,  title='Confusion matrix')"
      ],
      "execution_count": null,
      "outputs": [
        {
          "output_type": "stream",
          "text": [
            "Confusion matrix, without normalization\n",
            "[[191035  48722]\n",
            " [ 54169 185326]]\n"
          ],
          "name": "stdout"
        },
        {
          "output_type": "display_data",
          "data": {
            "image/png": "[encoded data removed]",
            "text/plain": [
              "<Figure size 432x288 with 2 Axes>"
            ]
          },
          "metadata": {
            "tags": [],
            "needs_background": "light"
          }
        }
      ]
    },
    {
      "cell_type": "code",
      "metadata": {
        "id": "3wBpguaIeHJ5",
        "colab": {
          "base_uri": "https://localhost:8080/",
          "height": 315
        },
        "outputId": "f81f3059-8673-4722-c368-b343b0e006a2"
      },
      "source": [
        "pandas_df.hist(column=\"prediction\")"
      ],
      "execution_count": null,
      "outputs": [
        {
          "output_type": "execute_result",
          "data": {
            "text/plain": [
              "array([[<matplotlib.axes._subplots.AxesSubplot object at 0x7fd732954ac8>]],\n",
              "      dtype=object)"
            ]
          },
          "metadata": {
            "tags": []
          },
          "execution_count": 65
        },
        {
          "output_type": "display_data",
          "data": {
            "image/png": "[encoded data removed]",
            "text/plain": [
              "<Figure size 432x288 with 1 Axes>"
            ]
          },
          "metadata": {
            "tags": [],
            "needs_background": "light"
          }
        }
      ]
    },
    {
      "cell_type": "code",
      "metadata": {
        "id": "4uQp9NE2gFal",
        "colab": {
          "base_uri": "https://localhost:8080/",
          "height": 315
        },
        "outputId": "12bfd89e-e9dc-4301-dfce-648b511b0903"
      },
      "source": [
        "\n",
        "pandas_df['clean_len']=[len(t) for t in pandas_df.text]\n",
        "pandas_df.hist(column=\"clean_len\")"
      ],
      "execution_count": null,
      "outputs": [
        {
          "output_type": "execute_result",
          "data": {
            "text/plain": [
              "array([[<matplotlib.axes._subplots.AxesSubplot object at 0x7f4496947630>]],\n",
              "      dtype=object)"
            ]
          },
          "metadata": {
            "tags": []
          },
          "execution_count": 58
        },
        {
          "output_type": "display_data",
          "data": {
            "image/png": "[encoded data removed]",
            "text/plain": [
              "<Figure size 432x288 with 1 Axes>"
            ]
          },
          "metadata": {
            "tags": [],
            "needs_background": "light"
          }
        }
      ]
    },
    {
      "cell_type": "code",
      "metadata": {
        "id": "yLdgPV0ysBeP"
      },
      "source": [
        ""
      ],
      "execution_count": null,
      "outputs": []
    }
  ]
}